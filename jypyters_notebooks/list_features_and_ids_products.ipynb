{
 "cells": [
  {
   "cell_type": "markdown",
   "id": "instructional-trustee",
   "metadata": {},
   "source": [
    "# Steps:"
   ]
  },
  {
   "cell_type": "code",
   "execution_count": 117,
   "id": "seasonal-statistics",
   "metadata": {},
   "outputs": [],
   "source": [
    "# Implementations:\n",
    "# Funtion1 to get the urls, images, names and prices.\n",
    "# Funtion2 to get one id_product and id_color.\n",
    "# Funtion3 to all the id_product and id_color (Funtion1 + Funtion2)."
   ]
  },
  {
   "cell_type": "markdown",
   "id": "likely-grace",
   "metadata": {},
   "source": [
    "### Step by Step"
   ]
  },
  {
   "cell_type": "markdown",
   "id": "pointed-survivor",
   "metadata": {},
   "source": [
    "1º Import the Libreries."
   ]
  },
  {
   "cell_type": "code",
   "execution_count": 4,
   "id": "becoming-mistake",
   "metadata": {},
   "outputs": [],
   "source": [
    "from selenium import webdriver\n",
    "from time import sleep"
   ]
  },
  {
   "cell_type": "markdown",
   "id": "mineral-sleeve",
   "metadata": {},
   "source": [
    "2º Conect with Chrome "
   ]
  },
  {
   "cell_type": "code",
   "execution_count": 5,
   "id": "resistant-witness",
   "metadata": {},
   "outputs": [],
   "source": [
    "driver = webdriver.Chrome(\"./chromedriver\")"
   ]
  },
  {
   "cell_type": "markdown",
   "id": "visible-tenant",
   "metadata": {},
   "source": [
    "3º Conect with  Zara´s search."
   ]
  },
  {
   "cell_type": "code",
   "execution_count": 120,
   "id": "explicit-franklin",
   "metadata": {},
   "outputs": [],
   "source": [
    "driver.get(\"https://www.zara.com/es/es/search\")"
   ]
  },
  {
   "cell_type": "code",
   "execution_count": 121,
   "id": "clear-monitoring",
   "metadata": {},
   "outputs": [],
   "source": [
    "#time sleep\n",
    "sleep(1)"
   ]
  },
  {
   "cell_type": "markdown",
   "id": "presidential-making",
   "metadata": {},
   "source": [
    "4º Accept web cookies."
   ]
  },
  {
   "cell_type": "code",
   "execution_count": 122,
   "id": "abstract-magic",
   "metadata": {},
   "outputs": [],
   "source": [
    "driver.find_element_by_id(\"onetrust-accept-btn-handler\").click()"
   ]
  },
  {
   "cell_type": "code",
   "execution_count": 123,
   "id": "incomplete-catch",
   "metadata": {},
   "outputs": [],
   "source": [
    "#time sleep\n",
    "sleep(1)"
   ]
  },
  {
   "cell_type": "markdown",
   "id": "korean-classroom",
   "metadata": {},
   "source": [
    "5º Mark the cursor in the search engine."
   ]
  },
  {
   "cell_type": "code",
   "execution_count": 124,
   "id": "floppy-hearing",
   "metadata": {},
   "outputs": [],
   "source": [
    "search = driver.find_element_by_id(\"search-term\")"
   ]
  },
  {
   "cell_type": "markdown",
   "id": "weird-avatar",
   "metadata": {},
   "source": [
    "6º Click in the search engine."
   ]
  },
  {
   "cell_type": "code",
   "execution_count": 125,
   "id": "visible-likelihood",
   "metadata": {},
   "outputs": [],
   "source": [
    "search.click()"
   ]
  },
  {
   "cell_type": "code",
   "execution_count": 126,
   "id": "internal-chester",
   "metadata": {},
   "outputs": [],
   "source": [
    "#dir(driver)\n",
    "#dir(search)"
   ]
  },
  {
   "cell_type": "markdown",
   "id": "rubber-cuisine",
   "metadata": {},
   "source": [
    "7º Introduce key words."
   ]
  },
  {
   "cell_type": "code",
   "execution_count": 127,
   "id": "meaningful-reminder",
   "metadata": {},
   "outputs": [],
   "source": [
    "search.send_keys(\"cazadora amarilla mujer\")"
   ]
  },
  {
   "cell_type": "code",
   "execution_count": 128,
   "id": "palestinian-syntax",
   "metadata": {},
   "outputs": [],
   "source": [
    "#time sleep\n",
    "sleep(1)"
   ]
  },
  {
   "cell_type": "markdown",
   "id": "cloudy-access",
   "metadata": {},
   "source": [
    "8º Find the features of products."
   ]
  },
  {
   "cell_type": "code",
   "execution_count": null,
   "id": "mounted-aquatic",
   "metadata": {},
   "outputs": [],
   "source": [
    "#Apuntes: \n",
    "#products > ul > section > ul > li:nth-child(1) > div > div > a\n",
    "#products > ul > section > ul > li:nth-child(1) > div > div > a\n",
    "#get_attribute(\"href\")\n",
    "\n",
    "#images\n",
    "#products > ul > section > ul > li:nth-child(1) > a > div > div > div > picture > img\n",
    "#products > ul > section > ul > li:nth-child(2) > a > div > div > div > picture > img\n",
    "#get_attribute(\"src\")\n",
    "\n",
    "#name \n",
    "#products > ul > section > ul > li:nth-child(1) > div > div > a > span\n",
    "#products > ul > section > ul > li:nth-child(2) > div > div > a > span\n",
    "\n",
    "#price\n",
    "#products > ul > section > ul > li:nth-child(1) > div > div > div.product-grid-product-info__price.price > span\n",
    "#products > ul > section > ul > li:nth-child(2) > div > div > div.product-grid-product-info__price.price > span"
   ]
  },
  {
   "cell_type": "code",
   "execution_count": 129,
   "id": "fatal-cooper",
   "metadata": {},
   "outputs": [],
   "source": [
    "all_url_prod = driver.find_elements_by_css_selector(\"#products > ul > section > ul > li\")"
   ]
  },
  {
   "cell_type": "markdown",
   "id": "rising-professor",
   "metadata": {},
   "source": [
    "9º Created a list with the diferents urls, images, names and prices."
   ]
  },
  {
   "cell_type": "code",
   "execution_count": null,
   "id": "vital-dress",
   "metadata": {},
   "outputs": [],
   "source": [
    "lst_dic_total_prod = []\n",
    "\n",
    "for url in all_url_prod:\n",
    "    \n",
    "    dic_total_prod = {\"url\": [] ,\"image\": [],\"product_name\": [], \"price\": []}\n",
    "    \n",
    "    dic_total_prod[\"url\"] = url.find_element_by_css_selector(\"div > div > a\").get_attribute(\"href\")\n",
    "    \n",
    "    dic_total_prod[\"image\"] = url.find_element_by_css_selector(\"a > div > div > div > picture > img\").get_attribute(\"src\")\n",
    "    \n",
    "    dic_total_prod[\"product_name\"] = url.find_element_by_css_selector(\"div > div > a > span\").text\n",
    "    \n",
    "    dic_total_prod[\"price\"] = url.find_element_by_css_selector(\"div > div > div.product-grid-product-info__price.price > span\").text\n",
    "    \n",
    "    lst_dic_total_prod.append(dic_total_prod)\n",
    "\n",
    "lst_dic_total_prod"
   ]
  },
  {
   "cell_type": "markdown",
   "id": "vocal-energy",
   "metadata": {},
   "source": [
    "10º Get the first url."
   ]
  },
  {
   "cell_type": "code",
   "execution_count": 101,
   "id": "recent-stevens",
   "metadata": {
    "scrolled": true
   },
   "outputs": [],
   "source": [
    "# First url\n",
    "driver.get(lst_dic_total_prod[0][\"url\"])"
   ]
  },
  {
   "cell_type": "markdown",
   "id": "first-member",
   "metadata": {},
   "source": [
    "11º Select and click `Origen, materiales & cuidados `."
   ]
  },
  {
   "cell_type": "code",
   "execution_count": 102,
   "id": "connected-credit",
   "metadata": {},
   "outputs": [],
   "source": [
    "driver.find_element_by_class_name(\"product-detail-actions__action-button\").click()"
   ]
  },
  {
   "cell_type": "markdown",
   "id": "reliable-james",
   "metadata": {},
   "source": [
    "12º Select ids products."
   ]
  },
  {
   "cell_type": "code",
   "execution_count": 103,
   "id": "julian-soldier",
   "metadata": {
    "scrolled": false
   },
   "outputs": [
    {
     "data": {
      "text/plain": [
       "<selenium.webdriver.remote.webelement.WebElement (session=\"429c738d6ad08dd6ff61e38c9c817467\", element=\"fb0452de-e217-416c-acbb-7c841376fadb\")>"
      ]
     },
     "execution_count": 103,
     "metadata": {},
     "output_type": "execute_result"
    }
   ],
   "source": [
    "id_prod = driver.find_element_by_css_selector(\"#theme-modal-container > div > div > div > div > div.modal__body.modal__body--spacer-bottom > p\")\n",
    "id_prod"
   ]
  },
  {
   "cell_type": "code",
   "execution_count": 104,
   "id": "rough-david",
   "metadata": {},
   "outputs": [],
   "source": [
    "#dir(id_prod)\n",
    "#id_prod.get_attribute(\"innerHTML\") \n",
    "#(you can see the html code down this cell)"
   ]
  },
  {
   "cell_type": "markdown",
   "id": "plastic-motorcycle",
   "metadata": {},
   "source": [
    "<p class=\"product-detail-side-info-modal__product-info-text\"><span\n",
    "        class=\"product-detail-side-info-modal__product-info-title\"><span>ID</span></span><span> _ 3427/741</span></p>\n",
    "<p class=\"product-detail-side-info-modal__product-info-text\"><span\n",
    "        class=\"product-detail-side-info-modal__product-info-title\"><span>Color</span></span><span> _ 320 Amarillo\n",
    "        limón</span></p>\n",
    "<p class=\"product-detail-side-info-modal__product-info-text\"><span\n",
    "        class=\"product-detail-side-info-modal__product-info-title\"><span>Sección</span></span><span> _ Mujer</span></p>"
   ]
  },
  {
   "cell_type": "markdown",
   "id": "colonial-swedish",
   "metadata": {},
   "source": [
    "13º Select only the first two products."
   ]
  },
  {
   "cell_type": "code",
   "execution_count": 105,
   "id": "congressional-louisiana",
   "metadata": {
    "scrolled": true
   },
   "outputs": [
    {
     "data": {
      "text/plain": [
       "[<selenium.webdriver.remote.webelement.WebElement (session=\"429c738d6ad08dd6ff61e38c9c817467\", element=\"b0c00ae9-a84e-46dc-b716-a3e2cfe8800b\")>,\n",
       " <selenium.webdriver.remote.webelement.WebElement (session=\"429c738d6ad08dd6ff61e38c9c817467\", element=\"0315f119-5a64-4e7b-bd24-52579bb9e87b\")>]"
      ]
     },
     "execution_count": 105,
     "metadata": {},
     "output_type": "execute_result"
    }
   ],
   "source": [
    "ids_prod = id_prod.find_elements_by_css_selector(\"p\")[:2]\n",
    "ids_prod"
   ]
  },
  {
   "cell_type": "markdown",
   "id": "modern-equity",
   "metadata": {},
   "source": [
    "14º Extract just the numbers ids:"
   ]
  },
  {
   "cell_type": "code",
   "execution_count": 85,
   "id": "nasty-james",
   "metadata": {},
   "outputs": [
    {
     "data": {
      "text/plain": [
       "[' 3427/741', ' 320 Amarillo limón']"
      ]
     },
     "execution_count": 85,
     "metadata": {},
     "output_type": "execute_result"
    }
   ],
   "source": [
    "ids_prod = [element.text.split(\"_\")[-1] for element in ids_prod ]\n",
    "ids_prod"
   ]
  },
  {
   "cell_type": "code",
   "execution_count": 86,
   "id": "controlling-jesus",
   "metadata": {},
   "outputs": [
    {
     "data": {
      "text/plain": [
       "['3427741', '320']"
      ]
     },
     "execution_count": 86,
     "metadata": {},
     "output_type": "execute_result"
    }
   ],
   "source": [
    "lst_ids_prod = [\"\".join([caracter for caracter in element if caracter.isnumeric()]) for element in ids_prod]\n",
    "lst_ids_prod"
   ]
  },
  {
   "cell_type": "markdown",
   "id": "still-rocket",
   "metadata": {},
   "source": [
    "### Funtions"
   ]
  },
  {
   "cell_type": "markdown",
   "id": "dramatic-course",
   "metadata": {},
   "source": [
    "1º Funtion3 to all the id_product and id_color (Funtion1 + Funtion2)."
   ]
  },
  {
   "cell_type": "code",
   "execution_count": 8,
   "id": "previous-brush",
   "metadata": {},
   "outputs": [],
   "source": [
    "def get_features_products(search_terms, driver):\n",
    "    \"\"\"\n",
    "    Definition : Funtion that get the features (url, image, product_name and price) \n",
    "    of finded product or products and return the features.\n",
    "    \n",
    "    Input: 'search_terms' , driver \n",
    "    example: 'cazadora amarilla', driver\n",
    "    \n",
    "    Output: list of dictionary or dictionaries.    \n",
    "    example: [{\"url\": [] ,\"image\": [],\"product_name\": [], \"price\": []}\n",
    "    \"\"\"\n",
    "\n",
    "    driver.get(\"https://www.zara.com/es/es/search\")\n",
    "    sleep(1)\n",
    "    try:\n",
    "        driver.find_element_by_id(\"onetrust-accept-btn-handler\").click()\n",
    "        sleep(1)\n",
    "    except: pass\n",
    "    \n",
    "    search = driver.find_element_by_id(\"search-term\")\n",
    "    search.click()\n",
    "    search.send_keys(search_terms)\n",
    "    sleep(1)\n",
    "    all_url_prod = driver.find_elements_by_css_selector(\"#products > ul > section > ul > li\")\n",
    "\n",
    "    lst_dic_total_prod = []\n",
    "\n",
    "    for url in all_url_prod:\n",
    "\n",
    "        dic_total_prod = {\"url\": [] ,\"image\": [],\"product_name\": [], \"price\": []}\n",
    "\n",
    "\n",
    "        dic_total_prod[\"url\"] = url.find_element_by_css_selector(\"div > div > a\").get_attribute(\"href\")\n",
    "\n",
    "        dic_total_prod[\"image\"] = url.find_element_by_css_selector(\"a > div > div > div > picture > img\").get_attribute(\"src\")\n",
    "\n",
    "        dic_total_prod[\"product_name\"] = url.find_element_by_css_selector(\"div > div > a > span\").text\n",
    "\n",
    "        dic_total_prod[\"price\"] = url.find_element_by_css_selector(\"div > div > div.product-grid-product-info__price.price > span\").text\n",
    "\n",
    "        lst_dic_total_prod.append(dic_total_prod)\n",
    "\n",
    "    return lst_dic_total_prod\n",
    "                     "
   ]
  },
  {
   "cell_type": "code",
   "execution_count": 9,
   "id": "meaning-livestock",
   "metadata": {},
   "outputs": [
    {
     "data": {
      "text/plain": [
       "[{'url': 'https://www.zara.com/es/es/blusa-crop-tie-dye-p00085048.html',\n",
       "  'image': 'https://static.zara.net/photos///2021/V/0/1/p/0085/048/947/2/w/400/0085048947_1_1_1.jpg?ts=1614673261631',\n",
       "  'product_name': 'BLUSA CROP TIE DYE',\n",
       "  'price': '25,95 EUR'}]"
      ]
     },
     "execution_count": 9,
     "metadata": {},
     "output_type": "execute_result"
    }
   ],
   "source": [
    "# Function testing\n",
    "driver = webdriver.Chrome(\"./chromedriver\")\n",
    "info_products = get_features_products(\"blusa amarila\", driver)\n",
    "driver.close()\n",
    "info_products"
   ]
  },
  {
   "cell_type": "markdown",
   "id": "physical-fossil",
   "metadata": {},
   "source": [
    "2º Funtion2 to get one id_product and id_color."
   ]
  },
  {
   "cell_type": "code",
   "execution_count": 10,
   "id": "creative-deficit",
   "metadata": {},
   "outputs": [],
   "source": [
    "def get_prod_id(product_url, driver):\n",
    "    \n",
    "    \"\"\"\n",
    "    Definition: Funtion that get the ids (id_prod, id_color) of a product.\n",
    "    \n",
    "    Input: 'search_terms' , driver \n",
    "    example: 'cazadora amarilla', driver\n",
    "    \n",
    "    Output: [id_prod, id_color]\n",
    "    example: ['3427741', '320']\n",
    "    \"\"\"\n",
    "    \n",
    "    driver.get(product_url)\n",
    "    sleep(1)\n",
    "    try: \n",
    "        driver.find_element_by_id(\"onetrust-accept-btn-handler\").click()\n",
    "        sleep(1)\n",
    "        \n",
    "    except: pass\n",
    "    driver.find_element_by_class_name(\"product-detail-actions__action-button\").click()\n",
    "    sleep(1)\n",
    "    ids_prod = driver.find_element_by_css_selector(\"#theme-modal-container > div > div > div > div > div.modal__body.modal__body--spacer-bottom > p\")\n",
    "\n",
    "    ids_prod = ids_prod.find_elements_by_css_selector(\"p\")[:2]\n",
    "    ids_prod = [element.text.split(\"_\")[-1] for element in ids_prod ]\n",
    "\n",
    "    lst_ids_prod = [\"\".join([caracter for caracter in element if caracter.isnumeric()]) for element in ids_prod]\n",
    "\n",
    "    return lst_ids_prod\n"
   ]
  },
  {
   "cell_type": "code",
   "execution_count": 11,
   "id": "operating-career",
   "metadata": {},
   "outputs": [
    {
     "data": {
      "text/plain": [
       "['0085350', '561']"
      ]
     },
     "execution_count": 11,
     "metadata": {},
     "output_type": "execute_result"
    }
   ],
   "source": [
    "# Function testing\n",
    "driver = webdriver.Chrome(\"./chromedriver\")\n",
    "ids_product = get_prod_id(\"https://www.zara.com/es/es/camiseta-inicial-p00085350.html?v1=97283036&v2=1718817\", driver)\n",
    "driver.close()\n",
    "ids_product"
   ]
  },
  {
   "cell_type": "code",
   "execution_count": 12,
   "id": "bored-syndrome",
   "metadata": {},
   "outputs": [
    {
     "data": {
      "text/plain": [
       "['7901389', '712']"
      ]
     },
     "execution_count": 12,
     "metadata": {},
     "output_type": "execute_result"
    }
   ],
   "source": [
    "# Function testing\n",
    "driver = webdriver.Chrome(\"./chromedriver\")\n",
    "ids_product = get_prod_id(\"https://www.zara.com/es/es/vestido-seamless-p07901389.html?v1=89766478&v2=1719442\", driver)\n",
    "driver.close()\n",
    "ids_product"
   ]
  },
  {
   "cell_type": "markdown",
   "id": "adapted-difficulty",
   "metadata": {},
   "source": [
    "3º Function to get de image,name and price"
   ]
  },
  {
   "cell_type": "code",
   "execution_count": 18,
   "id": "municipal-strip",
   "metadata": {},
   "outputs": [],
   "source": [
    "def get_products(search_terms,driver):\n",
    "    \n",
    "    \"\"\"\n",
    "    Definition: Funtion that get a list with url, image, product name and price of products.\n",
    "    That function use function: get_features_products() and get_prod_id().\n",
    "    \n",
    "    Input: 'search_terms' , driver \n",
    "    example: 'cazadora amarilla', driver\n",
    "    \n",
    "    Output: list of a dictionary with url, image, product name, price, ids of products.\n",
    "    example: [{'url': 'https://www.zara.com/es/es/blusa-crop-tie-dye-p00085048.html',\n",
    "              'image': 'https://static.zara.net/photos///2021/V/0/1/p/0085/048/947/2/w/200/0085048947_1_1_1.jpg?ts=1615206456459',\n",
    "              'product_name': 'BLUSA CROP TIE DYE',\n",
    "              'price': '25,95 EUR',\n",
    "              'ids_prod': ['0085048', '947']}]\n",
    "    \"\"\"\n",
    "    \n",
    "    products = get_features_products(search_terms, driver)\n",
    "    for i,product in enumerate(products):\n",
    "        \n",
    "        product_url = product[\"url\"]\n",
    "        \n",
    "        url_ids = get_prod_id(product_url, driver)\n",
    "     \n",
    "        products[i][\"ids_prod\"] = url_ids\n",
    "    \n",
    "    return products"
   ]
  },
  {
   "cell_type": "code",
   "execution_count": 19,
   "id": "younger-stage",
   "metadata": {
    "scrolled": true
   },
   "outputs": [
    {
     "data": {
      "text/plain": [
       "[{'url': 'https://www.zara.com/es/es/blusa-crop-tie-dye-p00085048.html',\n",
       "  'image': 'https://static.zara.net/photos///2021/V/0/1/p/0085/048/947/2/w/200/0085048947_1_1_1.jpg?ts=1615206456459',\n",
       "  'product_name': 'BLUSA CROP TIE DYE',\n",
       "  'price': '25,95 EUR',\n",
       "  'ids_prod': ['0085048', '947']}]"
      ]
     },
     "execution_count": 19,
     "metadata": {},
     "output_type": "execute_result"
    }
   ],
   "source": [
    "# Function testing\n",
    "driver = webdriver.Chrome(\"./chromedriver\")\n",
    "ids_p = get_products(\"blusa amarilla\",driver)\n",
    "driver.close()\n",
    "ids_p"
   ]
  },
  {
   "cell_type": "code",
   "execution_count": null,
   "id": "endless-economy",
   "metadata": {},
   "outputs": [],
   "source": []
  },
  {
   "cell_type": "code",
   "execution_count": null,
   "id": "occasional-agriculture",
   "metadata": {},
   "outputs": [],
   "source": []
  },
  {
   "cell_type": "code",
   "execution_count": null,
   "id": "sustainable-banks",
   "metadata": {},
   "outputs": [],
   "source": []
  }
 ],
 "metadata": {
  "kernelspec": {
   "display_name": "Python 3",
   "language": "python",
   "name": "python3"
  },
  "language_info": {
   "codemirror_mode": {
    "name": "ipython",
    "version": 3
   },
   "file_extension": ".py",
   "mimetype": "text/x-python",
   "name": "python",
   "nbconvert_exporter": "python",
   "pygments_lexer": "ipython3",
   "version": "3.9.1"
  }
 },
 "nbformat": 4,
 "nbformat_minor": 5
}
