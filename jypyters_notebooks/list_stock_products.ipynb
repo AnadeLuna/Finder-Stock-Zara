{
 "cells": [
  {
   "cell_type": "markdown",
   "id": "fifth-armstrong",
   "metadata": {},
   "source": [
    "# Steps:"
   ]
  },
  {
   "cell_type": "code",
   "execution_count": null,
   "id": "quick-syndicate",
   "metadata": {},
   "outputs": [],
   "source": [
    "# Implementations:\n",
    "# Function that takes store_id(s) and product_id, color_id and returns stock availability"
   ]
  },
  {
   "cell_type": "markdown",
   "id": "elect-drill",
   "metadata": {},
   "source": [
    "### Step by Step"
   ]
  },
  {
   "cell_type": "markdown",
   "id": "pointed-survivor",
   "metadata": {},
   "source": [
    "1º Import the Libreries and Funtions."
   ]
  },
  {
   "cell_type": "code",
   "execution_count": 51,
   "id": "neutral-photographer",
   "metadata": {},
   "outputs": [
    {
     "ename": "WebDriverException",
     "evalue": "Message: 'chromedriver' executable needs to be in PATH. Please see https://sites.google.com/a/chromium.org/chromedriver/home\n",
     "output_type": "error",
     "traceback": [
      "\u001b[0;31m---------------------------------------------------------------------------\u001b[0m",
      "\u001b[0;31mFileNotFoundError\u001b[0m                         Traceback (most recent call last)",
      "\u001b[0;32m/usr/local/lib/python3.9/site-packages/selenium/webdriver/common/service.py\u001b[0m in \u001b[0;36mstart\u001b[0;34m(self)\u001b[0m\n\u001b[1;32m     71\u001b[0m             \u001b[0mcmd\u001b[0m\u001b[0;34m.\u001b[0m\u001b[0mextend\u001b[0m\u001b[0;34m(\u001b[0m\u001b[0mself\u001b[0m\u001b[0;34m.\u001b[0m\u001b[0mcommand_line_args\u001b[0m\u001b[0;34m(\u001b[0m\u001b[0;34m)\u001b[0m\u001b[0;34m)\u001b[0m\u001b[0;34m\u001b[0m\u001b[0;34m\u001b[0m\u001b[0m\n\u001b[0;32m---> 72\u001b[0;31m             self.process = subprocess.Popen(cmd, env=self.env,\n\u001b[0m\u001b[1;32m     73\u001b[0m                                             \u001b[0mclose_fds\u001b[0m\u001b[0;34m=\u001b[0m\u001b[0mplatform\u001b[0m\u001b[0;34m.\u001b[0m\u001b[0msystem\u001b[0m\u001b[0;34m(\u001b[0m\u001b[0;34m)\u001b[0m \u001b[0;34m!=\u001b[0m \u001b[0;34m'Windows'\u001b[0m\u001b[0;34m,\u001b[0m\u001b[0;34m\u001b[0m\u001b[0;34m\u001b[0m\u001b[0m\n",
      "\u001b[0;32m/usr/local/Cellar/python@3.9/3.9.1_7/Frameworks/Python.framework/Versions/3.9/lib/python3.9/subprocess.py\u001b[0m in \u001b[0;36m__init__\u001b[0;34m(self, args, bufsize, executable, stdin, stdout, stderr, preexec_fn, close_fds, shell, cwd, env, universal_newlines, startupinfo, creationflags, restore_signals, start_new_session, pass_fds, user, group, extra_groups, encoding, errors, text, umask)\u001b[0m\n\u001b[1;32m    946\u001b[0m \u001b[0;34m\u001b[0m\u001b[0m\n\u001b[0;32m--> 947\u001b[0;31m             self._execute_child(args, executable, preexec_fn, close_fds,\n\u001b[0m\u001b[1;32m    948\u001b[0m                                 \u001b[0mpass_fds\u001b[0m\u001b[0;34m,\u001b[0m \u001b[0mcwd\u001b[0m\u001b[0;34m,\u001b[0m \u001b[0menv\u001b[0m\u001b[0;34m,\u001b[0m\u001b[0;34m\u001b[0m\u001b[0;34m\u001b[0m\u001b[0m\n",
      "\u001b[0;32m/usr/local/Cellar/python@3.9/3.9.1_7/Frameworks/Python.framework/Versions/3.9/lib/python3.9/subprocess.py\u001b[0m in \u001b[0;36m_execute_child\u001b[0;34m(self, args, executable, preexec_fn, close_fds, pass_fds, cwd, env, startupinfo, creationflags, shell, p2cread, p2cwrite, c2pread, c2pwrite, errread, errwrite, restore_signals, gid, gids, uid, umask, start_new_session)\u001b[0m\n\u001b[1;32m   1818\u001b[0m                         \u001b[0merr_msg\u001b[0m \u001b[0;34m=\u001b[0m \u001b[0mos\u001b[0m\u001b[0;34m.\u001b[0m\u001b[0mstrerror\u001b[0m\u001b[0;34m(\u001b[0m\u001b[0merrno_num\u001b[0m\u001b[0;34m)\u001b[0m\u001b[0;34m\u001b[0m\u001b[0;34m\u001b[0m\u001b[0m\n\u001b[0;32m-> 1819\u001b[0;31m                     \u001b[0;32mraise\u001b[0m \u001b[0mchild_exception_type\u001b[0m\u001b[0;34m(\u001b[0m\u001b[0merrno_num\u001b[0m\u001b[0;34m,\u001b[0m \u001b[0merr_msg\u001b[0m\u001b[0;34m,\u001b[0m \u001b[0merr_filename\u001b[0m\u001b[0;34m)\u001b[0m\u001b[0;34m\u001b[0m\u001b[0;34m\u001b[0m\u001b[0m\n\u001b[0m\u001b[1;32m   1820\u001b[0m                 \u001b[0;32mraise\u001b[0m \u001b[0mchild_exception_type\u001b[0m\u001b[0;34m(\u001b[0m\u001b[0merr_msg\u001b[0m\u001b[0;34m)\u001b[0m\u001b[0;34m\u001b[0m\u001b[0;34m\u001b[0m\u001b[0m\n",
      "\u001b[0;31mFileNotFoundError\u001b[0m: [Errno 2] No such file or directory: '/Users/anadeluna/proyecto-final/Finder-Stock-Zara/jypyters_notebooks/chromedriver'",
      "\nDuring handling of the above exception, another exception occurred:\n",
      "\u001b[0;31mWebDriverException\u001b[0m                        Traceback (most recent call last)",
      "\u001b[0;32m<ipython-input-51-352657b31713>\u001b[0m in \u001b[0;36m<module>\u001b[0;34m\u001b[0m\n\u001b[1;32m      5\u001b[0m \u001b[0;31m#sys.path.append(\"../\")\u001b[0m\u001b[0;34m\u001b[0m\u001b[0;34m\u001b[0m\u001b[0;34m\u001b[0m\u001b[0m\n\u001b[1;32m      6\u001b[0m \u001b[0;32mfrom\u001b[0m \u001b[0msrc\u001b[0m\u001b[0;34m.\u001b[0m\u001b[0mstores\u001b[0m \u001b[0;32mimport\u001b[0m \u001b[0msearch_stores\u001b[0m\u001b[0;34m\u001b[0m\u001b[0;34m\u001b[0m\u001b[0m\n\u001b[0;32m----> 7\u001b[0;31m \u001b[0;32mfrom\u001b[0m \u001b[0msrc\u001b[0m\u001b[0;34m.\u001b[0m\u001b[0mdriver\u001b[0m \u001b[0;32mimport\u001b[0m \u001b[0mdriver\u001b[0m\u001b[0;34m\u001b[0m\u001b[0;34m\u001b[0m\u001b[0m\n\u001b[0m\u001b[1;32m      8\u001b[0m \u001b[0;32mfrom\u001b[0m \u001b[0msrc\u001b[0m\u001b[0;34m.\u001b[0m\u001b[0mproducts\u001b[0m \u001b[0;32mimport\u001b[0m \u001b[0mget_products\u001b[0m\u001b[0;34m\u001b[0m\u001b[0;34m\u001b[0m\u001b[0m\n",
      "\u001b[0;32m~/proyecto-final/Finder-Stock-Zara/src/driver.py\u001b[0m in \u001b[0;36m<module>\u001b[0;34m\u001b[0m\n\u001b[1;32m      6\u001b[0m \u001b[0;31m#driver = webdriver.Chrome(executable_path=\"../chromedriver\", chrome_options = options)\u001b[0m\u001b[0;34m\u001b[0m\u001b[0;34m\u001b[0m\u001b[0;34m\u001b[0m\u001b[0m\n\u001b[1;32m      7\u001b[0m \u001b[0mpath\u001b[0m \u001b[0;34m=\u001b[0m \u001b[0mos\u001b[0m\u001b[0;34m.\u001b[0m\u001b[0mpath\u001b[0m\u001b[0;34m.\u001b[0m\u001b[0mjoin\u001b[0m\u001b[0;34m(\u001b[0m\u001b[0mos\u001b[0m\u001b[0;34m.\u001b[0m\u001b[0mgetcwd\u001b[0m\u001b[0;34m(\u001b[0m\u001b[0;34m)\u001b[0m\u001b[0;34m,\u001b[0m \u001b[0;34m\"chromedriver\"\u001b[0m\u001b[0;34m)\u001b[0m\u001b[0;34m\u001b[0m\u001b[0;34m\u001b[0m\u001b[0m\n\u001b[0;32m----> 8\u001b[0;31m \u001b[0mdriver\u001b[0m \u001b[0;34m=\u001b[0m \u001b[0mwebdriver\u001b[0m\u001b[0;34m.\u001b[0m\u001b[0mChrome\u001b[0m\u001b[0;34m(\u001b[0m\u001b[0mexecutable_path\u001b[0m\u001b[0;34m=\u001b[0m\u001b[0mpath\u001b[0m\u001b[0;34m,\u001b[0m \u001b[0mchrome_options\u001b[0m \u001b[0;34m=\u001b[0m \u001b[0moptions\u001b[0m\u001b[0;34m)\u001b[0m\u001b[0;34m\u001b[0m\u001b[0;34m\u001b[0m\u001b[0m\n\u001b[0m\u001b[1;32m      9\u001b[0m \u001b[0;34m\u001b[0m\u001b[0m\n\u001b[1;32m     10\u001b[0m \u001b[0;34m\u001b[0m\u001b[0m\n",
      "\u001b[0;32m/usr/local/lib/python3.9/site-packages/selenium/webdriver/chrome/webdriver.py\u001b[0m in \u001b[0;36m__init__\u001b[0;34m(self, executable_path, port, options, service_args, desired_capabilities, service_log_path, chrome_options, keep_alive)\u001b[0m\n\u001b[1;32m     71\u001b[0m             \u001b[0mservice_args\u001b[0m\u001b[0;34m=\u001b[0m\u001b[0mservice_args\u001b[0m\u001b[0;34m,\u001b[0m\u001b[0;34m\u001b[0m\u001b[0;34m\u001b[0m\u001b[0m\n\u001b[1;32m     72\u001b[0m             log_path=service_log_path)\n\u001b[0;32m---> 73\u001b[0;31m         \u001b[0mself\u001b[0m\u001b[0;34m.\u001b[0m\u001b[0mservice\u001b[0m\u001b[0;34m.\u001b[0m\u001b[0mstart\u001b[0m\u001b[0;34m(\u001b[0m\u001b[0;34m)\u001b[0m\u001b[0;34m\u001b[0m\u001b[0;34m\u001b[0m\u001b[0m\n\u001b[0m\u001b[1;32m     74\u001b[0m \u001b[0;34m\u001b[0m\u001b[0m\n\u001b[1;32m     75\u001b[0m         \u001b[0;32mtry\u001b[0m\u001b[0;34m:\u001b[0m\u001b[0;34m\u001b[0m\u001b[0;34m\u001b[0m\u001b[0m\n",
      "\u001b[0;32m/usr/local/lib/python3.9/site-packages/selenium/webdriver/common/service.py\u001b[0m in \u001b[0;36mstart\u001b[0;34m(self)\u001b[0m\n\u001b[1;32m     79\u001b[0m         \u001b[0;32mexcept\u001b[0m \u001b[0mOSError\u001b[0m \u001b[0;32mas\u001b[0m \u001b[0merr\u001b[0m\u001b[0;34m:\u001b[0m\u001b[0;34m\u001b[0m\u001b[0;34m\u001b[0m\u001b[0m\n\u001b[1;32m     80\u001b[0m             \u001b[0;32mif\u001b[0m \u001b[0merr\u001b[0m\u001b[0;34m.\u001b[0m\u001b[0merrno\u001b[0m \u001b[0;34m==\u001b[0m \u001b[0merrno\u001b[0m\u001b[0;34m.\u001b[0m\u001b[0mENOENT\u001b[0m\u001b[0;34m:\u001b[0m\u001b[0;34m\u001b[0m\u001b[0;34m\u001b[0m\u001b[0m\n\u001b[0;32m---> 81\u001b[0;31m                 raise WebDriverException(\n\u001b[0m\u001b[1;32m     82\u001b[0m                     \"'%s' executable needs to be in PATH. %s\" % (\n\u001b[1;32m     83\u001b[0m                         os.path.basename(self.path), self.start_error_message)\n",
      "\u001b[0;31mWebDriverException\u001b[0m: Message: 'chromedriver' executable needs to be in PATH. Please see https://sites.google.com/a/chromium.org/chromedriver/home\n"
     ]
    }
   ],
   "source": [
    "from selenium import webdriver\n",
    "import requests\n",
    "import os\n",
    "#import sys\n",
    "#sys.path.append(\"../\")\n",
    "from src.stores import search_stores\n",
    "from src.driver import driver\n",
    "from src.products import get_products"
   ]
  },
  {
   "cell_type": "markdown",
   "id": "downtown-paper",
   "metadata": {},
   "source": [
    "2º Example to get the stock of one product and one store."
   ]
  },
  {
   "cell_type": "code",
   "execution_count": null,
   "id": "suitable-arena",
   "metadata": {},
   "outputs": [],
   "source": [
    "product= 3427741\n",
    "color = 320\n",
    "\n",
    "#Apuntes:\n",
    "#prod = f\"{product}{color}\"\n",
    "#prod.rjust(11,\"0\")\n",
    "#The id have to 11 digit.\n",
    "\n",
    "\n",
    "store = {\n",
    "    \"physicalStoreId\":65\n",
    "}\n",
    "\n",
    "stock = \"https://itxrest.inditex.com/LOMOServiciosRESTCommerce-ws/common/1/stock/campaign/V2021/product/part-number/{}\"\n",
    "\n",
    "requests.get(stock.format(f\"0{product}{color}\"), params=store).json()"
   ]
  },
  {
   "cell_type": "markdown",
   "id": "curious-print",
   "metadata": {},
   "source": [
    "3º Steps to get the urls for the api stock."
   ]
  },
  {
   "cell_type": "code",
   "execution_count": null,
   "id": "informed-cycling",
   "metadata": {},
   "outputs": [],
   "source": [
    "driver = webdriver.Chrome(\"../chromedriver\")\n",
    "\n",
    "products = get_products(\"cazadora amarilla\",driver)\n",
    "\n",
    "driver.close()\n",
    "\n",
    "store_info = search_stores(40.416050951604056, -3.7072654155715603)\n",
    "store_ids = [element[\"id\"] for element in store_info]\n",
    "\n",
    "stock_url = \"https://itxrest.inditex.com/LOMOServiciosRESTCommerce-ws/common/1/stock/campaign/V2021/product/part-number/{}\"\n",
    "stock_params = {\"physicalStoreId\": store_ids}\n",
    "\n",
    "\n",
    "urls = [stock_url.format(\"\".join(p[\"ids_prod\"]).rjust(11,\"0\")) for p in products]\n",
    "print(urls)"
   ]
  },
  {
   "cell_type": "code",
   "execution_count": null,
   "id": "charitable-antarctica",
   "metadata": {},
   "outputs": [],
   "source": [
    "for i,product in enumerate(products):\n",
    "    products[i][\"stock\"] = requests.get(urls[i],params=stock_params).json()"
   ]
  },
  {
   "cell_type": "code",
   "execution_count": null,
   "id": "behind-istanbul",
   "metadata": {},
   "outputs": [],
   "source": [
    "print(products)"
   ]
  },
  {
   "cell_type": "code",
   "execution_count": null,
   "id": "shaped-issue",
   "metadata": {},
   "outputs": [],
   "source": [
    "print(store_info)"
   ]
  },
  {
   "cell_type": "markdown",
   "id": "aboriginal-vegetation",
   "metadata": {},
   "source": [
    "### Function"
   ]
  },
  {
   "cell_type": "code",
   "execution_count": 26,
   "id": "figured-tractor",
   "metadata": {},
   "outputs": [],
   "source": [
    "def get_stock(search_terms,lat,lng):\n",
    "        \"\"\"\n",
    "        Definition: Funtion that get the stocks,url,image, product name, price, ids of products and stock of diferent sizes. \n",
    "        \n",
    "        Input: \"search_terms\",latitude,longitude\n",
    "        example: \"cazadora amarilla\",40.416050951604056, -3.7072654155715603\n",
    "        \n",
    "        Output: list of a dictionary with url, image, product name, price, ids products and stocks of diferents size.\n",
    "        example:[{'url': 'https://www.zara.com/es/es/blusa-crop-tie-dye-p00085048.html',\n",
    "                  'image': 'https://static.zara.net/photos///2021/V/0/1/p/0085/048/947/2/w/200/0085048947_1_1_1.jpg?ts=1615206456459',\n",
    "                  'product_name': 'BLUSA CROP TIE DYE',\n",
    "                  'price': '25,95 EUR',\n",
    "                  'ids_prod': ['0085048', '947']\n",
    "                    'stock': .......}]\n",
    "\n",
    "        \"\"\"\n",
    "    \n",
    "        driver = webdriver.Chrome(\"../chromedriver\")\n",
    "\n",
    "        products = get_products(search_terms,driver)\n",
    "\n",
    "        driver.close()\n",
    "\n",
    "        store_info = search_stores(lat, lng)\n",
    "        store_ids = [element[\"id\"] for element in store_info]\n",
    "\n",
    "        stock_url = \"https://itxrest.inditex.com/LOMOServiciosRESTCommerce-ws/common/1/stock/campaign/V2021/product/part-number/{}\"\n",
    "        stock_params = {\"physicalStoreId\": store_ids}\n",
    "\n",
    "        urls = [stock_url.format(\"\".join(p[\"ids_prod\"]).rjust(11,\"0\")) for p in products]\n",
    "        \n",
    "        for i,product in enumerate(products):\n",
    "            products[i][\"stock\"] = requests.get(urls[i],params=stock_params).json()\n",
    "            \n",
    "        return products"
   ]
  },
  {
   "cell_type": "code",
   "execution_count": 28,
   "id": "valuable-business",
   "metadata": {},
   "outputs": [
    {
     "ename": "NameError",
     "evalue": "name 'get_products' is not defined",
     "output_type": "error",
     "traceback": [
      "\u001b[0;31m---------------------------------------------------------------------------\u001b[0m",
      "\u001b[0;31mNameError\u001b[0m                                 Traceback (most recent call last)",
      "\u001b[0;32m<ipython-input-28-8b4ad00c5b4e>\u001b[0m in \u001b[0;36m<module>\u001b[0;34m\u001b[0m\n\u001b[1;32m      1\u001b[0m \u001b[0;31m# Function testing\u001b[0m\u001b[0;34m\u001b[0m\u001b[0;34m\u001b[0m\u001b[0;34m\u001b[0m\u001b[0m\n\u001b[0;32m----> 2\u001b[0;31m \u001b[0mdic\u001b[0m\u001b[0;34m=\u001b[0m\u001b[0mget_stock\u001b[0m\u001b[0;34m(\u001b[0m\u001b[0;34m\"cazadora amarilla\"\u001b[0m\u001b[0;34m,\u001b[0m\u001b[0;36m40.416050951604056\u001b[0m\u001b[0;34m,\u001b[0m \u001b[0;34m-\u001b[0m\u001b[0;36m3.7072654155715603\u001b[0m\u001b[0;34m)\u001b[0m\u001b[0;34m\u001b[0m\u001b[0;34m\u001b[0m\u001b[0m\n\u001b[0m",
      "\u001b[0;32m<ipython-input-26-1524acfb359f>\u001b[0m in \u001b[0;36mget_stock\u001b[0;34m(search_terms, lat, lng)\u001b[0m\n\u001b[1;32m     18\u001b[0m         \u001b[0mdriver\u001b[0m \u001b[0;34m=\u001b[0m \u001b[0mwebdriver\u001b[0m\u001b[0;34m.\u001b[0m\u001b[0mChrome\u001b[0m\u001b[0;34m(\u001b[0m\u001b[0;34m\"../chromedriver\"\u001b[0m\u001b[0;34m)\u001b[0m\u001b[0;34m\u001b[0m\u001b[0;34m\u001b[0m\u001b[0m\n\u001b[1;32m     19\u001b[0m \u001b[0;34m\u001b[0m\u001b[0m\n\u001b[0;32m---> 20\u001b[0;31m         \u001b[0mproducts\u001b[0m \u001b[0;34m=\u001b[0m \u001b[0mget_products\u001b[0m\u001b[0;34m(\u001b[0m\u001b[0msearch_terms\u001b[0m\u001b[0;34m,\u001b[0m\u001b[0mdriver\u001b[0m\u001b[0;34m)\u001b[0m\u001b[0;34m\u001b[0m\u001b[0;34m\u001b[0m\u001b[0m\n\u001b[0m\u001b[1;32m     21\u001b[0m \u001b[0;34m\u001b[0m\u001b[0m\n\u001b[1;32m     22\u001b[0m         \u001b[0mdriver\u001b[0m\u001b[0;34m.\u001b[0m\u001b[0mclose\u001b[0m\u001b[0;34m(\u001b[0m\u001b[0;34m)\u001b[0m\u001b[0;34m\u001b[0m\u001b[0;34m\u001b[0m\u001b[0m\n",
      "\u001b[0;31mNameError\u001b[0m: name 'get_products' is not defined"
     ]
    }
   ],
   "source": [
    "# Function testing\n",
    "dic=get_stock(\"cazadora amarilla\",40.416050951604056, -3.7072654155715603)"
   ]
  },
  {
   "cell_type": "markdown",
   "id": "residential-chess",
   "metadata": {},
   "source": [
    "### To normalize the size"
   ]
  },
  {
   "cell_type": "code",
   "execution_count": null,
   "id": "defined-canada",
   "metadata": {},
   "outputs": [],
   "source": [
    "size_ = {101:\"XS\", 102:\"S\", 103:\"M\", 104:\"L\", 105:\"XL\", 106:\"XXL\"}\n",
    "\n",
    "s = 12\n",
    "\n",
    "if s in size_:\n",
    "    s = size_[s]\n",
    "    print(s)\n",
    "else: \n",
    "    print(s)"
   ]
  }
 ],
 "metadata": {
  "kernelspec": {
   "display_name": "Python 3",
   "language": "python",
   "name": "python3"
  },
  "language_info": {
   "codemirror_mode": {
    "name": "ipython",
    "version": 3
   },
   "file_extension": ".py",
   "mimetype": "text/x-python",
   "name": "python",
   "nbconvert_exporter": "python",
   "pygments_lexer": "ipython3",
   "version": "3.9.1"
  }
 },
 "nbformat": 4,
 "nbformat_minor": 5
}
