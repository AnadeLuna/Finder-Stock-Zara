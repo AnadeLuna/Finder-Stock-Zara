{
 "cells": [
  {
   "cell_type": "markdown",
   "id": "fifth-armstrong",
   "metadata": {},
   "source": [
    "# Steps:"
   ]
  },
  {
   "cell_type": "code",
   "execution_count": null,
   "id": "quick-syndicate",
   "metadata": {},
   "outputs": [],
   "source": [
    "# Implementations:\n",
    "# Function that takes store_id(s) and product_id, color_id and returns stock availability"
   ]
  },
  {
   "cell_type": "markdown",
   "id": "elect-drill",
   "metadata": {},
   "source": [
    "### Step by Step"
   ]
  },
  {
   "cell_type": "markdown",
   "id": "pointed-survivor",
   "metadata": {},
   "source": [
    "1º Import the Libreries and Funtions."
   ]
  },
  {
   "cell_type": "code",
   "execution_count": 1,
   "id": "neutral-photographer",
   "metadata": {},
   "outputs": [],
   "source": [
    "from selenium import webdriver\n",
    "import requests\n",
    "import sys\n",
    "sys.path.append(\"../\")\n",
    "from src.stores import search_stores\n",
    "from src.driver import driver\n",
    "from src.products import get_products"
   ]
  },
  {
   "cell_type": "markdown",
   "id": "downtown-paper",
   "metadata": {},
   "source": [
    "2º Example to get the stock of one product and one store."
   ]
  },
  {
   "cell_type": "code",
   "execution_count": null,
   "id": "suitable-arena",
   "metadata": {},
   "outputs": [],
   "source": [
    "product= 3427741\n",
    "color = 320\n",
    "\n",
    "#Apuntes:\n",
    "#prod = f\"{product}{color}\"\n",
    "#prod.rjust(11,\"0\")\n",
    "#The id have to 11 digit.\n",
    "\n",
    "\n",
    "store = {\n",
    "    \"physicalStoreId\":65\n",
    "}\n",
    "\n",
    "stock = \"https://itxrest.inditex.com/LOMOServiciosRESTCommerce-ws/common/1/stock/campaign/V2021/product/part-number/{}\"\n",
    "\n",
    "requests.get(stock.format(f\"0{product}{color}\"), params=store).json()"
   ]
  },
  {
   "cell_type": "markdown",
   "id": "curious-print",
   "metadata": {},
   "source": [
    "3º Steps to get the urls for the api stock."
   ]
  },
  {
   "cell_type": "code",
   "execution_count": null,
   "id": "informed-cycling",
   "metadata": {},
   "outputs": [],
   "source": [
    "driver = webdriver.Chrome(\"../chromedriver\")\n",
    "\n",
    "products = get_products(\"cazadora amarilla\",driver)\n",
    "\n",
    "driver.close()\n",
    "\n",
    "store_info = search_stores(40.416050951604056, -3.7072654155715603)\n",
    "store_ids = [element[\"id\"] for element in store_info]\n",
    "\n",
    "stock_url = \"https://itxrest.inditex.com/LOMOServiciosRESTCommerce-ws/common/1/stock/campaign/V2021/product/part-number/{}\"\n",
    "stock_params = {\"physicalStoreId\": store_ids}\n",
    "\n",
    "\n",
    "urls = [stock_url.format(\"\".join(p[\"ids_prod\"]).rjust(11,\"0\")) for p in products]\n",
    "print(urls)"
   ]
  },
  {
   "cell_type": "code",
   "execution_count": null,
   "id": "charitable-antarctica",
   "metadata": {},
   "outputs": [],
   "source": [
    "for i,product in enumerate(products):\n",
    "    products[i][\"stock\"] = requests.get(urls[i],params=stock_params).json()"
   ]
  },
  {
   "cell_type": "code",
   "execution_count": null,
   "id": "behind-istanbul",
   "metadata": {},
   "outputs": [],
   "source": [
    "print(products)"
   ]
  },
  {
   "cell_type": "code",
   "execution_count": null,
   "id": "shaped-issue",
   "metadata": {},
   "outputs": [],
   "source": [
    "print(store_info)"
   ]
  },
  {
   "cell_type": "markdown",
   "id": "aboriginal-vegetation",
   "metadata": {},
   "source": [
    "### Function"
   ]
  },
  {
   "cell_type": "code",
   "execution_count": null,
   "id": "figured-tractor",
   "metadata": {},
   "outputs": [],
   "source": [
    "def get_stock(search_terms,lat,lng):\n",
    "        \"\"\"\n",
    "        Definition: Funtion that get the stocks,url,image, product name, price, ids of products and stock of diferent sizes. \n",
    "        \n",
    "        Input: \"search_terms\",latitude,longitude\n",
    "        example: \"cazadora amarilla\",40.416050951604056, -3.7072654155715603\n",
    "        \n",
    "        Output: list of a dictionary with url, image, product name, price, ids products and stocks of diferents size.\n",
    "        example:[{'url': 'https://www.zara.com/es/es/blusa-crop-tie-dye-p00085048.html',\n",
    "                  'image': 'https://static.zara.net/photos///2021/V/0/1/p/0085/048/947/2/w/200/0085048947_1_1_1.jpg?ts=1615206456459',\n",
    "                  'product_name': 'BLUSA CROP TIE DYE',\n",
    "                  'price': '25,95 EUR',\n",
    "                  'ids_prod': ['0085048', '947']\n",
    "                    'stock': .......}]\n",
    "\n",
    "        \"\"\"\n",
    "    \n",
    "        driver = webdriver.Chrome(\"../chromedriver\")\n",
    "\n",
    "        products = get_products(search_terms,driver)\n",
    "\n",
    "        driver.close()\n",
    "\n",
    "        store_info = search_stores(lat, lng)\n",
    "        store_ids = [element[\"id\"] for element in store_info]\n",
    "\n",
    "        stock_url = \"https://itxrest.inditex.com/LOMOServiciosRESTCommerce-ws/common/1/stock/campaign/V2021/product/part-number/{}\"\n",
    "        stock_params = {\"physicalStoreId\": store_ids}\n",
    "\n",
    "        urls = [stock_url.format(\"\".join(p[\"ids_prod\"]).rjust(11,\"0\")) for p in products]\n",
    "        \n",
    "        for i,product in enumerate(products):\n",
    "            products[i][\"stock\"] = requests.get(urls[i],params=stock_params).json()\n",
    "            \n",
    "        return products"
   ]
  },
  {
   "cell_type": "code",
   "execution_count": null,
   "id": "valuable-business",
   "metadata": {},
   "outputs": [],
   "source": [
    "# Function testing\n",
    "dic=get_stock(\"cazadora amarilla\",40.416050951604056, -3.7072654155715603)"
   ]
  },
  {
   "cell_type": "markdown",
   "id": "residential-chess",
   "metadata": {},
   "source": [
    "### To normalize the size"
   ]
  },
  {
   "cell_type": "code",
   "execution_count": null,
   "id": "defined-canada",
   "metadata": {},
   "outputs": [],
   "source": [
    "size_ = {101:\"XS\", 102:\"S\", 103:\"M\", 104:\"L\", 105:\"XL\", 106:\"XXL\"}\n",
    "\n",
    "s = 12\n",
    "\n",
    "if s in size_:\n",
    "    s = size_[s]\n",
    "    print(s)\n",
    "else: \n",
    "    print(s)"
   ]
  }
 ],
 "metadata": {
  "kernelspec": {
   "display_name": "Python 3",
   "language": "python",
   "name": "python3"
  },
  "language_info": {
   "codemirror_mode": {
    "name": "ipython",
    "version": 3
   },
   "file_extension": ".py",
   "mimetype": "text/x-python",
   "name": "python",
   "nbconvert_exporter": "python",
   "pygments_lexer": "ipython3",
   "version": "3.9.1"
  }
 },
 "nbformat": 4,
 "nbformat_minor": 5
}
