{
 "cells": [
  {
   "cell_type": "markdown",
   "id": "instructional-trustee",
   "metadata": {},
   "source": [
    "# Product_jupyter:"
   ]
  },
  {
   "cell_type": "markdown",
   "id": "surprised-chancellor",
   "metadata": {},
   "source": [
    "### This file I use for practise:"
   ]
  },
  {
   "cell_type": "markdown",
   "id": "likely-grace",
   "metadata": {},
   "source": [
    "### Step by Step"
   ]
  },
  {
   "cell_type": "markdown",
   "id": "pointed-survivor",
   "metadata": {},
   "source": [
    "1º Import the Libreries."
   ]
  },
  {
   "cell_type": "code",
   "execution_count": 65,
   "id": "becoming-mistake",
   "metadata": {},
   "outputs": [],
   "source": [
    "from selenium import webdriver\n",
    "from time import sleep\n",
    "import os"
   ]
  },
  {
   "cell_type": "markdown",
   "id": "mineral-sleeve",
   "metadata": {},
   "source": [
    "2º Conect with Chrome "
   ]
  },
  {
   "cell_type": "code",
   "execution_count": 67,
   "id": "resistant-witness",
   "metadata": {},
   "outputs": [],
   "source": [
    "#options = webdriver.ChromeOptions()\n",
    "#options.add_argument(\"headless\")\n",
    "#driver = webdriver.Chrome(executable_path=\"../chromedriver\", chrome_options = options)\n",
    "driver = webdriver.Chrome(\"../chromedriver\")"
   ]
  },
  {
   "cell_type": "markdown",
   "id": "visible-tenant",
   "metadata": {},
   "source": [
    "3º Conect with  Zara´s search."
   ]
  },
  {
   "cell_type": "code",
   "execution_count": 68,
   "id": "explicit-franklin",
   "metadata": {},
   "outputs": [],
   "source": [
    "driver.get(\"https://www.zara.com/es/es/search\")"
   ]
  },
  {
   "cell_type": "code",
   "execution_count": 69,
   "id": "clear-monitoring",
   "metadata": {},
   "outputs": [],
   "source": [
    "#time sleep\n",
    "sleep(1)"
   ]
  },
  {
   "cell_type": "markdown",
   "id": "presidential-making",
   "metadata": {},
   "source": [
    "4º Accept web cookies."
   ]
  },
  {
   "cell_type": "code",
   "execution_count": 70,
   "id": "abstract-magic",
   "metadata": {},
   "outputs": [],
   "source": [
    "driver.find_element_by_id(\"onetrust-accept-btn-handler\").click()"
   ]
  },
  {
   "cell_type": "code",
   "execution_count": 71,
   "id": "incomplete-catch",
   "metadata": {},
   "outputs": [],
   "source": [
    "#time sleep\n",
    "sleep(1)"
   ]
  },
  {
   "cell_type": "markdown",
   "id": "korean-classroom",
   "metadata": {},
   "source": [
    "5º Mark the cursor in the search engine."
   ]
  },
  {
   "cell_type": "code",
   "execution_count": 72,
   "id": "floppy-hearing",
   "metadata": {},
   "outputs": [],
   "source": [
    "search = driver.find_element_by_id(\"search-term\")"
   ]
  },
  {
   "cell_type": "markdown",
   "id": "weird-avatar",
   "metadata": {},
   "source": [
    "6º Click in the search engine."
   ]
  },
  {
   "cell_type": "code",
   "execution_count": 73,
   "id": "visible-likelihood",
   "metadata": {},
   "outputs": [],
   "source": [
    "search.click()"
   ]
  },
  {
   "cell_type": "code",
   "execution_count": 74,
   "id": "internal-chester",
   "metadata": {},
   "outputs": [],
   "source": [
    "#dir(driver)\n",
    "#dir(search)"
   ]
  },
  {
   "cell_type": "markdown",
   "id": "rubber-cuisine",
   "metadata": {},
   "source": [
    "7º Introduce key words."
   ]
  },
  {
   "cell_type": "code",
   "execution_count": 75,
   "id": "meaningful-reminder",
   "metadata": {},
   "outputs": [],
   "source": [
    "search.send_keys(\"cazadora amarilla mujer\")"
   ]
  },
  {
   "cell_type": "code",
   "execution_count": 76,
   "id": "palestinian-syntax",
   "metadata": {},
   "outputs": [],
   "source": [
    "#time sleep\n",
    "sleep(1)"
   ]
  },
  {
   "cell_type": "markdown",
   "id": "cloudy-access",
   "metadata": {},
   "source": [
    "8º Find the features of products."
   ]
  },
  {
   "cell_type": "code",
   "execution_count": 77,
   "id": "mounted-aquatic",
   "metadata": {},
   "outputs": [],
   "source": [
    "#Apuntes: \n",
    "#products > ul > section > ul > li:nth-child(1) > div > div > a\n",
    "#products > ul > section > ul > li:nth-child(1) > div > div > a\n",
    "#get_attribute(\"href\")\n",
    "\n",
    "#images\n",
    "#products > ul > section > ul > li:nth-child(1) > a > div > div > div > picture > img\n",
    "#products > ul > section > ul > li:nth-child(2) > a > div > div > div > picture > img\n",
    "#get_attribute(\"src\")\n",
    "\n",
    "#name \n",
    "#products > ul > section > ul > li:nth-child(1) > div > div > a > span\n",
    "#products > ul > section > ul > li:nth-child(2) > div > div > a > span\n",
    "\n",
    "#price\n",
    "#products > ul > section > ul > li:nth-child(1) > div > div > div.product-grid-product-info__price.price > span\n",
    "#products > ul > section > ul > li:nth-child(2) > div > div > div.product-grid-product-info__price.price > span"
   ]
  },
  {
   "cell_type": "code",
   "execution_count": 78,
   "id": "fatal-cooper",
   "metadata": {},
   "outputs": [],
   "source": [
    "all_url_prod = driver.find_elements_by_css_selector(\"#products > ul > section > ul > li\")"
   ]
  },
  {
   "cell_type": "code",
   "execution_count": 43,
   "id": "understood-provincial",
   "metadata": {},
   "outputs": [
    {
     "data": {
      "text/plain": [
       "[<selenium.webdriver.remote.webelement.WebElement (session=\"624b3701f6e61ee46714bef3f09d32df\", element=\"43398cb6-641f-4575-a672-00ae6275d10c\")>,\n",
       " <selenium.webdriver.remote.webelement.WebElement (session=\"624b3701f6e61ee46714bef3f09d32df\", element=\"38335551-3e93-44b2-8e3a-ed5bd04d680b\")>,\n",
       " <selenium.webdriver.remote.webelement.WebElement (session=\"624b3701f6e61ee46714bef3f09d32df\", element=\"58c280f7-cf3c-455f-b27c-eddd05766921\")>,\n",
       " <selenium.webdriver.remote.webelement.WebElement (session=\"624b3701f6e61ee46714bef3f09d32df\", element=\"b1189bfa-dc02-4009-8792-9626cd7986fb\")>,\n",
       " <selenium.webdriver.remote.webelement.WebElement (session=\"624b3701f6e61ee46714bef3f09d32df\", element=\"972adabe-32a2-469c-8477-503e6cc4a96c\")>,\n",
       " <selenium.webdriver.remote.webelement.WebElement (session=\"624b3701f6e61ee46714bef3f09d32df\", element=\"790ba0db-1359-4615-8a8a-f668763ea5a0\")>,\n",
       " <selenium.webdriver.remote.webelement.WebElement (session=\"624b3701f6e61ee46714bef3f09d32df\", element=\"d2ce11d7-421a-4cd8-9c00-7fa6b3a543c7\")>,\n",
       " <selenium.webdriver.remote.webelement.WebElement (session=\"624b3701f6e61ee46714bef3f09d32df\", element=\"e544967a-c2a5-42bb-b706-5cc69d445ecf\")>,\n",
       " <selenium.webdriver.remote.webelement.WebElement (session=\"624b3701f6e61ee46714bef3f09d32df\", element=\"dfa2e20b-156e-4d32-bd5e-a54a0b21dee8\")>]"
      ]
     },
     "execution_count": 43,
     "metadata": {},
     "output_type": "execute_result"
    }
   ],
   "source": [
    "all_url_prod"
   ]
  },
  {
   "cell_type": "markdown",
   "id": "rising-professor",
   "metadata": {},
   "source": [
    "9º Created a list with the diferents urls, images, names and prices."
   ]
  },
  {
   "cell_type": "code",
   "execution_count": 44,
   "id": "vital-dress",
   "metadata": {},
   "outputs": [
    {
     "data": {
      "text/plain": [
       "[{'url': 'https://www.zara.com/es/es/cazadora-cropped-acolchada-water-repellent-p03427741.html',\n",
       "  'image': 'https://static.zara.net/photos///2021/V/0/1/p/3427/741/320/4/w/410/3427741320_1_1_1.jpg?ts=1613055576800',\n",
       "  'product_name': 'CAZADORA CROPPED ACOLCHADA WATER REPELLENT',\n",
       "  'price': '25,95 EUR'},\n",
       " {'url': 'https://www.zara.com/es/es/chaleco-water-repellent-embolsable-p03427751.html',\n",
       "  'image': 'https://static.zara.net/photos///2021/V/0/1/p/3427/751/320/2/w/410/3427751320_2_2_1.jpg?ts=1614953997230',\n",
       "  'product_name': 'CHALECO WATER REPELLENT EMBOLSABLE',\n",
       "  'price': '29,95 EUR'},\n",
       " {'url': 'https://www.zara.com/es/es/sobrecamisa-estampada-bolsillos-p06895070.html',\n",
       "  'image': 'https://static.zara.net/photos///2021/V/0/1/p/6895/070/305/2/w/410/6895070305_1_1_1.jpg?ts=1615209974640',\n",
       "  'product_name': 'SOBRECAMISA ESTAMPADA BOLSILLOS',\n",
       "  'price': '39,95 EUR'},\n",
       " {'url': 'https://www.zara.com/es/es/chaqueta-bordada-abalorios-p05107060.html',\n",
       "  'image': 'https://static.zara.net/photos///2021/V/0/1/p/5107/060/306/2/w/410/5107060306_1_1_1.jpg?ts=1615206401934',\n",
       "  'product_name': 'CHAQUETA BORDADA ABALORIOS',\n",
       "  'price': '39,95 EUR'},\n",
       " {'url': 'https://www.zara.com/es/es/sobrecamisa-bolsillo-plastr%C3%B3n-p08891293.html',\n",
       "  'image': 'https://static.zara.net/photos///2021/V/0/1/p/8891/293/300/2/w/410/8891293300_1_1_1.jpg?ts=1615211727445',\n",
       "  'product_name': 'SOBRECAMISA BOLSILLO PLASTRÓN',\n",
       "  'price': '39,95 EUR'},\n",
       " {'url': 'https://www.zara.com/es/es/abrigo-largo-punto-p05755149.html',\n",
       "  'image': 'https://static.zara.net/stdstatic/1.203.1-b.5/images/transparent-background.png',\n",
       "  'product_name': 'ABRIGO LARGO PUNTO',\n",
       "  'price': '39,95 EUR'},\n",
       " {'url': 'https://www.zara.com/es/es/blazer-recta-bolsillos-p02010708.html',\n",
       "  'image': 'https://static.zara.net/stdstatic/1.203.1-b.5/images/transparent-background.png',\n",
       "  'product_name': 'BLAZER RECTA BOLSILLOS',\n",
       "  'price': '49,95 EUR'},\n",
       " {'url': 'https://www.zara.com/es/es/sudadera-acolchada-water-repellent-p05320706.html',\n",
       "  'image': 'https://static.zara.net/stdstatic/1.203.1-b.5/images/transparent-background.png',\n",
       "  'product_name': 'SUDADERA ACOLCHADA WATER REPELLENT',\n",
       "  'price': '29,95 EUR'},\n",
       " {'url': 'https://www.zara.com/es/es/chubasquero-crop-combinado-p04391733.html',\n",
       "  'image': 'https://static.zara.net/stdstatic/1.203.1-b.5/images/transparent-background.png',\n",
       "  'product_name': 'CHUBASQUERO CROP COMBINADO',\n",
       "  'price': '25,95 EUR'}]"
      ]
     },
     "execution_count": 44,
     "metadata": {},
     "output_type": "execute_result"
    }
   ],
   "source": [
    "lst_dic_total_prod = []\n",
    "\n",
    "for url in all_url_prod:\n",
    "    \n",
    "    dic_total_prod = {\"url\": [] ,\"image\": [],\"product_name\": [], \"price\": []}\n",
    "    \n",
    "    dic_total_prod[\"url\"] = url.find_element_by_css_selector(\"div > div > a\").get_attribute(\"href\")\n",
    "    \n",
    "    dic_total_prod[\"image\"] = url.find_element_by_css_selector(\"a > div > div > div > picture > img\").get_attribute(\"src\")\n",
    "    \n",
    "    dic_total_prod[\"product_name\"] = url.find_element_by_css_selector(\"div > div > a > span\").text\n",
    "    \n",
    "    dic_total_prod[\"price\"] = url.find_element_by_css_selector(\"div > div > div.product-grid-product-info__price.price > span\").text\n",
    "    \n",
    "    lst_dic_total_prod.append(dic_total_prod)\n",
    "\n",
    "lst_dic_total_prod"
   ]
  },
  {
   "cell_type": "markdown",
   "id": "vocal-energy",
   "metadata": {},
   "source": [
    "10º Get the first url."
   ]
  },
  {
   "cell_type": "code",
   "execution_count": 45,
   "id": "recent-stevens",
   "metadata": {
    "scrolled": true
   },
   "outputs": [],
   "source": [
    "# First url\n",
    "driver.get(lst_dic_total_prod[0][\"url\"])"
   ]
  },
  {
   "cell_type": "markdown",
   "id": "first-member",
   "metadata": {},
   "source": [
    "11º Select and click `Origen, materiales & cuidados `."
   ]
  },
  {
   "cell_type": "code",
   "execution_count": 46,
   "id": "connected-credit",
   "metadata": {},
   "outputs": [],
   "source": [
    "driver.find_element_by_class_name(\"product-detail-actions__action-button\").click()"
   ]
  },
  {
   "cell_type": "markdown",
   "id": "reliable-james",
   "metadata": {},
   "source": [
    "12º Select ids products."
   ]
  },
  {
   "cell_type": "code",
   "execution_count": 47,
   "id": "julian-soldier",
   "metadata": {
    "scrolled": false
   },
   "outputs": [
    {
     "data": {
      "text/plain": [
       "<selenium.webdriver.remote.webelement.WebElement (session=\"624b3701f6e61ee46714bef3f09d32df\", element=\"194b3d77-209b-4948-867f-648b95544d50\")>"
      ]
     },
     "execution_count": 47,
     "metadata": {},
     "output_type": "execute_result"
    }
   ],
   "source": [
    "id_prod = driver.find_element_by_css_selector(\"#theme-modal-container > div > div > div > div > div.modal__body.modal__body--spacer-bottom > p\")\n",
    "id_prod"
   ]
  },
  {
   "cell_type": "code",
   "execution_count": 48,
   "id": "rough-david",
   "metadata": {},
   "outputs": [],
   "source": [
    "#dir(id_prod)\n",
    "#id_prod.get_attribute(\"innerHTML\") \n",
    "#(you can see the html code down this cell)"
   ]
  },
  {
   "cell_type": "markdown",
   "id": "plastic-motorcycle",
   "metadata": {},
   "source": [
    "<p class=\"product-detail-side-info-modal__product-info-text\"><span\n",
    "        class=\"product-detail-side-info-modal__product-info-title\"><span>ID</span></span><span> _ 3427/741</span></p>\n",
    "<p class=\"product-detail-side-info-modal__product-info-text\"><span\n",
    "        class=\"product-detail-side-info-modal__product-info-title\"><span>Color</span></span><span> _ 320 Amarillo\n",
    "        limón</span></p>\n",
    "<p class=\"product-detail-side-info-modal__product-info-text\"><span\n",
    "        class=\"product-detail-side-info-modal__product-info-title\"><span>Sección</span></span><span> _ Mujer</span></p>"
   ]
  },
  {
   "cell_type": "markdown",
   "id": "colonial-swedish",
   "metadata": {},
   "source": [
    "13º Select only the first two products."
   ]
  },
  {
   "cell_type": "code",
   "execution_count": 49,
   "id": "congressional-louisiana",
   "metadata": {
    "scrolled": true
   },
   "outputs": [
    {
     "data": {
      "text/plain": [
       "[<selenium.webdriver.remote.webelement.WebElement (session=\"624b3701f6e61ee46714bef3f09d32df\", element=\"efe24a5c-f6c9-4b5c-892a-d567e9df5b4f\")>,\n",
       " <selenium.webdriver.remote.webelement.WebElement (session=\"624b3701f6e61ee46714bef3f09d32df\", element=\"ce7d1bca-2f1a-4cfa-9dfe-9fc4aef2f6db\")>]"
      ]
     },
     "execution_count": 49,
     "metadata": {},
     "output_type": "execute_result"
    }
   ],
   "source": [
    "ids_prod = id_prod.find_elements_by_css_selector(\"p\")[:2]\n",
    "ids_prod"
   ]
  },
  {
   "cell_type": "markdown",
   "id": "modern-equity",
   "metadata": {},
   "source": [
    "14º Extract just the numbers ids:"
   ]
  },
  {
   "cell_type": "code",
   "execution_count": 50,
   "id": "nasty-james",
   "metadata": {},
   "outputs": [
    {
     "data": {
      "text/plain": [
       "[' 3427/741', ' 320 Amarillo limón']"
      ]
     },
     "execution_count": 50,
     "metadata": {},
     "output_type": "execute_result"
    }
   ],
   "source": [
    "ids_prod = [element.text.split(\"_\")[-1] for element in ids_prod ]\n",
    "ids_prod"
   ]
  },
  {
   "cell_type": "code",
   "execution_count": 51,
   "id": "controlling-jesus",
   "metadata": {},
   "outputs": [
    {
     "data": {
      "text/plain": [
       "['3427741', '320']"
      ]
     },
     "execution_count": 51,
     "metadata": {},
     "output_type": "execute_result"
    }
   ],
   "source": [
    "lst_ids_prod = [\"\".join([caracter for caracter in element if caracter.isnumeric()]) for element in ids_prod]\n",
    "lst_ids_prod"
   ]
  },
  {
   "cell_type": "markdown",
   "id": "still-rocket",
   "metadata": {},
   "source": [
    "### 1º Function"
   ]
  },
  {
   "cell_type": "code",
   "execution_count": 52,
   "id": "previous-brush",
   "metadata": {},
   "outputs": [],
   "source": [
    "def get_features_products(search_terms, driver):\n",
    "    \"\"\"\n",
    "    Definition : Funtion that get the features (url, image, product_name and price) \n",
    "    of finded product or products and return the features.\n",
    "    \n",
    "    Input: 'search_terms' , driver \n",
    "    example: 'cazadora amarilla', driver\n",
    "    \n",
    "    Output: list of dictionary or dictionaries.    \n",
    "    \n",
    "    \"\"\"\n",
    "\n",
    "    driver.get(\"https://www.zara.com/es/es/search\")\n",
    "    sleep(1)\n",
    "    try:\n",
    "        driver.find_element_by_id(\"onetrust-accept-btn-handler\").click()\n",
    "        sleep(1)\n",
    "    except: pass\n",
    "    \n",
    "    search = driver.find_element_by_id(\"search-term\")\n",
    "    search.click()\n",
    "    search.send_keys(search_terms)\n",
    "    sleep(1)\n",
    "    all_url_prod = driver.find_elements_by_css_selector(\"#products > ul > section > ul > li\")\n",
    "\n",
    "    lst_dic_total_prod = []\n",
    "\n",
    "    for url in all_url_prod:\n",
    "\n",
    "        dic_total_prod = {\"url\": [] ,\"image\": [],\"product_name\": [], \"price\": []}\n",
    "\n",
    "\n",
    "        dic_total_prod[\"url\"] = url.find_element_by_css_selector(\"div > div > a\").get_attribute(\"href\")\n",
    "\n",
    "        dic_total_prod[\"image\"] = url.find_element_by_css_selector(\"a > div > div > div > picture > img\").get_attribute(\"src\")\n",
    "\n",
    "        dic_total_prod[\"product_name\"] = url.find_element_by_css_selector(\"div > div > a > span\").text\n",
    "\n",
    "        dic_total_prod[\"price\"] = url.find_element_by_css_selector(\"div > div > div.product-grid-product-info__price.price > span\").text\n",
    "\n",
    "        lst_dic_total_prod.append(dic_total_prod)\n",
    "\n",
    "    return lst_dic_total_prod\n",
    "                     "
   ]
  },
  {
   "cell_type": "code",
   "execution_count": 53,
   "id": "meaning-livestock",
   "metadata": {
    "scrolled": true
   },
   "outputs": [
    {
     "data": {
      "text/plain": [
       "[{'url': 'https://www.zara.com/es/es/blusa-crop-tie-dye-p00085048.html',\n",
       "  'image': 'https://static.zara.net/photos///2021/V/0/1/p/0085/048/947/2/w/410/0085048947_1_1_1.jpg?ts=1615206456459',\n",
       "  'product_name': 'BLUSA CROP TIE DYE',\n",
       "  'price': '25,95 EUR'}]"
      ]
     },
     "execution_count": 53,
     "metadata": {},
     "output_type": "execute_result"
    }
   ],
   "source": [
    "# Function testing\n",
    "info_products = get_features_products(\"blusa amarila\", driver)\n",
    "driver.close()\n",
    "info_products"
   ]
  },
  {
   "cell_type": "markdown",
   "id": "welcome-driver",
   "metadata": {},
   "source": [
    "### 2º Function"
   ]
  },
  {
   "cell_type": "code",
   "execution_count": 56,
   "id": "creative-deficit",
   "metadata": {},
   "outputs": [],
   "source": [
    "def get_prod_id(product_url, driver):\n",
    "    \n",
    "    \"\"\"\n",
    "    Definition: Funtion that get the ids (id_prod, id_color) of a product.\n",
    "    \n",
    "    Input: 'search_terms' , driver \n",
    "    example: 'cazadora amarilla', driver\n",
    "    \n",
    "    Output: [id_prod, id_color]\n",
    "    example: ['3427741', '320']\n",
    "    \"\"\"\n",
    "    \n",
    "    driver.get(product_url)\n",
    "    sleep(1)\n",
    "    try: \n",
    "        driver.find_element_by_id(\"onetrust-accept-btn-handler\").click()\n",
    "        sleep(1)\n",
    "        \n",
    "    except: pass\n",
    "    driver.find_element_by_class_name(\"product-detail-actions__action-button\").click()\n",
    "    sleep(1)\n",
    "    ids_prod = driver.find_element_by_css_selector(\"#theme-modal-container > div > div > div > div > div.modal__body.modal__body--spacer-bottom > p\")\n",
    "\n",
    "    ids_prod = ids_prod.find_elements_by_css_selector(\"p\")[:2]\n",
    "    ids_prod = [element.text.split(\"_\")[-1] for element in ids_prod ]\n",
    "\n",
    "    lst_ids_prod = [\"\".join([caracter for caracter in element if caracter.isnumeric()]) for element in ids_prod]\n",
    "\n",
    "    return lst_ids_prod\n"
   ]
  },
  {
   "cell_type": "code",
   "execution_count": 58,
   "id": "operating-career",
   "metadata": {},
   "outputs": [
    {
     "data": {
      "text/plain": [
       "['0085350', '561']"
      ]
     },
     "execution_count": 58,
     "metadata": {},
     "output_type": "execute_result"
    }
   ],
   "source": [
    "# Function testing\n",
    "driver = webdriver.Chrome(\"../chromedriver\")\n",
    "ids_product = get_prod_id(\"https://www.zara.com/es/es/camiseta-inicial-p00085350.html?v1=97283036&v2=1718817\", driver)\n",
    "driver.close()\n",
    "ids_product"
   ]
  },
  {
   "cell_type": "code",
   "execution_count": 61,
   "id": "bored-syndrome",
   "metadata": {},
   "outputs": [
    {
     "data": {
      "text/plain": [
       "['7901389', '712']"
      ]
     },
     "execution_count": 61,
     "metadata": {},
     "output_type": "execute_result"
    }
   ],
   "source": [
    "# Function testing\n",
    "driver = webdriver.Chrome(\"../chromedriver\")\n",
    "ids_product = get_prod_id(\"https://www.zara.com/es/es/vestido-seamless-p07901389.html?v1=89766478&v2=1719442\", driver)\n",
    "driver.close()\n",
    "ids_product"
   ]
  },
  {
   "cell_type": "markdown",
   "id": "twelve-settle",
   "metadata": {},
   "source": [
    "### 3º Function"
   ]
  },
  {
   "cell_type": "code",
   "execution_count": 62,
   "id": "municipal-strip",
   "metadata": {},
   "outputs": [],
   "source": [
    "def get_products(search_terms,driver):\n",
    "    \n",
    "    \"\"\"\n",
    "    Definition: Funtion that get a list with url, image, product name and price of products.\n",
    "    That function use function: get_features_products() and get_prod_id().\n",
    "    \n",
    "    Input: 'search_terms' , driver \n",
    "    example: 'cazadora amarilla', driver\n",
    "    \n",
    "    Output: list of a dictionary with url, image, product name, price, ids of products.\n",
    "\n",
    "    \"\"\"\n",
    "    \n",
    "    products = get_features_products(search_terms, driver)\n",
    "    for i,product in enumerate(products):\n",
    "        \n",
    "        product_url = product[\"url\"]\n",
    "        \n",
    "        url_ids = get_prod_id(product_url, driver)\n",
    "     \n",
    "        products[i][\"ids_prod\"] = url_ids\n",
    "    \n",
    "    return products"
   ]
  },
  {
   "cell_type": "code",
   "execution_count": 63,
   "id": "younger-stage",
   "metadata": {
    "scrolled": true
   },
   "outputs": [
    {
     "data": {
      "text/plain": [
       "[{'url': 'https://www.zara.com/es/es/blusa-crop-tie-dye-p00085048.html',\n",
       "  'image': 'https://static.zara.net/photos///2021/V/0/1/p/0085/048/947/2/w/200/0085048947_1_1_1.jpg?ts=1615206456459',\n",
       "  'product_name': 'BLUSA CROP TIE DYE',\n",
       "  'price': '25,95 EUR',\n",
       "  'ids_prod': ['0085048', '947']}]"
      ]
     },
     "execution_count": 63,
     "metadata": {},
     "output_type": "execute_result"
    }
   ],
   "source": [
    "# Function testing\n",
    "driver = webdriver.Chrome(\"../chromedriver\")\n",
    "ids_p = get_products(\"blusa amarilla\",driver)\n",
    "driver.close()\n",
    "ids_p"
   ]
  },
  {
   "cell_type": "code",
   "execution_count": null,
   "id": "endless-economy",
   "metadata": {},
   "outputs": [],
   "source": []
  },
  {
   "cell_type": "code",
   "execution_count": null,
   "id": "occasional-agriculture",
   "metadata": {},
   "outputs": [],
   "source": []
  },
  {
   "cell_type": "code",
   "execution_count": null,
   "id": "sustainable-banks",
   "metadata": {},
   "outputs": [],
   "source": []
  }
 ],
 "metadata": {
  "kernelspec": {
   "display_name": "Python 3",
   "language": "python",
   "name": "python3"
  },
  "language_info": {
   "codemirror_mode": {
    "name": "ipython",
    "version": 3
   },
   "file_extension": ".py",
   "mimetype": "text/x-python",
   "name": "python",
   "nbconvert_exporter": "python",
   "pygments_lexer": "ipython3",
   "version": "3.9.1"
  }
 },
 "nbformat": 4,
 "nbformat_minor": 5
}
