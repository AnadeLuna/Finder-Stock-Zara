{
 "cells": [
  {
   "cell_type": "markdown",
   "id": "after-access",
   "metadata": {},
   "source": [
    "# Steps:"
   ]
  },
  {
   "cell_type": "code",
   "execution_count": 2,
   "id": "fuzzy-fantasy",
   "metadata": {},
   "outputs": [],
   "source": [
    "## Implementations:\n",
    "#Functions that takes store_id(s) and product_id, color_id and returns stock availability"
   ]
  },
  {
   "cell_type": "markdown",
   "id": "universal-melbourne",
   "metadata": {},
   "source": [
    "### Step by Step"
   ]
  },
  {
   "cell_type": "markdown",
   "id": "pointed-survivor",
   "metadata": {},
   "source": [
    "1º Import the Libreries and Funtions."
   ]
  },
  {
   "cell_type": "code",
   "execution_count": 6,
   "id": "framed-commodity",
   "metadata": {},
   "outputs": [
    {
     "ename": "ModuleNotFoundError",
     "evalue": "No module named 'list_stores'",
     "output_type": "error",
     "traceback": [
      "\u001b[0;31m---------------------------------------------------------------------------\u001b[0m",
      "\u001b[0;31mModuleNotFoundError\u001b[0m                       Traceback (most recent call last)",
      "\u001b[0;32m<ipython-input-6-2f20aae3d91b>\u001b[0m in \u001b[0;36m<module>\u001b[0;34m\u001b[0m\n\u001b[1;32m      1\u001b[0m \u001b[0;32mimport\u001b[0m \u001b[0mrequests\u001b[0m\u001b[0;34m\u001b[0m\u001b[0;34m\u001b[0m\u001b[0m\n\u001b[0;32m----> 2\u001b[0;31m \u001b[0;32mfrom\u001b[0m \u001b[0mlist_stores\u001b[0m\u001b[0;34m.\u001b[0m\u001b[0mipynb\u001b[0m \u001b[0;32mimport\u001b[0m \u001b[0msearch_stores\u001b[0m\u001b[0;34m\u001b[0m\u001b[0;34m\u001b[0m\u001b[0m\n\u001b[0m",
      "\u001b[0;31mModuleNotFoundError\u001b[0m: No module named 'list_stores'"
     ]
    }
   ],
   "source": [
    "import requests\n"
   ]
  },
  {
   "cell_type": "code",
   "execution_count": 5,
   "id": "modern-blackjack",
   "metadata": {},
   "outputs": [
    {
     "ename": "NameError",
     "evalue": "name 'search_stores' is not defined",
     "output_type": "error",
     "traceback": [
      "\u001b[0;31m---------------------------------------------------------------------------\u001b[0m",
      "\u001b[0;31mNameError\u001b[0m                                 Traceback (most recent call last)",
      "\u001b[0;32m<ipython-input-5-8aeac5eaf238>\u001b[0m in \u001b[0;36m<module>\u001b[0;34m\u001b[0m\n\u001b[0;32m----> 1\u001b[0;31m \u001b[0msearch_stores\u001b[0m\u001b[0;34m(\u001b[0m\u001b[0;36m40.416050951604056\u001b[0m\u001b[0;34m,\u001b[0m \u001b[0;34m-\u001b[0m\u001b[0;36m3.7072654155715603\u001b[0m\u001b[0;34m)\u001b[0m\u001b[0;34m\u001b[0m\u001b[0;34m\u001b[0m\u001b[0m\n\u001b[0m",
      "\u001b[0;31mNameError\u001b[0m: name 'search_stores' is not defined"
     ]
    }
   ],
   "source": []
  },
  {
   "cell_type": "code",
   "execution_count": null,
   "id": "turned-faith",
   "metadata": {},
   "outputs": [],
   "source": []
  },
  {
   "cell_type": "code",
   "execution_count": 58,
   "id": "bearing-nirvana",
   "metadata": {},
   "outputs": [],
   "source": [
    "product= 3427741\n",
    "color = 320"
   ]
  },
  {
   "cell_type": "code",
   "execution_count": 65,
   "id": "proof-pulse",
   "metadata": {},
   "outputs": [],
   "source": [
    "store = {\n",
    "    \"physicalStoreId\":65\n",
    "}"
   ]
  },
  {
   "cell_type": "code",
   "execution_count": 66,
   "id": "textile-cholesterol",
   "metadata": {},
   "outputs": [],
   "source": [
    "stock = \"https://itxrest.inditex.com/LOMOServiciosRESTCommerce-ws/common/1/stock/campaign/V2021/product/part-number/{}\"\n",
    "#product=\"cazadora amarilla\""
   ]
  },
  {
   "cell_type": "code",
   "execution_count": 67,
   "id": "imported-clarity",
   "metadata": {
    "scrolled": false
   },
   "outputs": [
    {
     "data": {
      "text/plain": [
       "{'stocks': [{'datatype': 'stock',\n",
       "   'physicalStoreId': 65,\n",
       "   'sizeStocks': [{'datatype': 'sizeStock',\n",
       "     'sizeId': 1,\n",
       "     'quantity': 0,\n",
       "     'size': 101},\n",
       "    {'datatype': 'sizeStock', 'sizeId': 2, 'quantity': 1, 'size': 102},\n",
       "    {'datatype': 'sizeStock', 'sizeId': 3, 'quantity': 4, 'size': 103},\n",
       "    {'datatype': 'sizeStock', 'sizeId': 4, 'quantity': 3, 'size': 104},\n",
       "    {'datatype': 'sizeStock', 'sizeId': 5, 'quantity': 2, 'size': 105},\n",
       "    {'datatype': 'sizeStock', 'sizeId': 6, 'quantity': 1, 'size': 106}]}]}"
      ]
     },
     "execution_count": 67,
     "metadata": {},
     "output_type": "execute_result"
    }
   ],
   "source": [
    "requests.get(stock.format(f\"0{product}{color}\"), params=store).json()"
   ]
  },
  {
   "cell_type": "code",
   "execution_count": null,
   "id": "breathing-oklahoma",
   "metadata": {},
   "outputs": [],
   "source": []
  },
  {
   "cell_type": "code",
   "execution_count": null,
   "id": "steady-stewart",
   "metadata": {},
   "outputs": [],
   "source": []
  },
  {
   "cell_type": "code",
   "execution_count": null,
   "id": "decreased-mistress",
   "metadata": {},
   "outputs": [],
   "source": []
  },
  {
   "cell_type": "code",
   "execution_count": null,
   "id": "narrative-decision",
   "metadata": {},
   "outputs": [],
   "source": []
  }
 ],
 "metadata": {
  "kernelspec": {
   "display_name": "Python 3",
   "language": "python",
   "name": "python3"
  },
  "language_info": {
   "codemirror_mode": {
    "name": "ipython",
    "version": 3
   },
   "file_extension": ".py",
   "mimetype": "text/x-python",
   "name": "python",
   "nbconvert_exporter": "python",
   "pygments_lexer": "ipython3",
   "version": "3.9.1"
  }
 },
 "nbformat": 4,
 "nbformat_minor": 5
}
