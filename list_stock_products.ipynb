{
 "cells": [
  {
   "cell_type": "markdown",
   "id": "fifth-armstrong",
   "metadata": {},
   "source": [
    "# Steps:"
   ]
  },
  {
   "cell_type": "code",
   "execution_count": null,
   "id": "quick-syndicate",
   "metadata": {},
   "outputs": [],
   "source": [
    "# Implementations:\n",
    "# Function that takes store_id(s) and product_id, color_id and returns stock availability"
   ]
  },
  {
   "cell_type": "markdown",
   "id": "elect-drill",
   "metadata": {},
   "source": [
    "### Step by Step"
   ]
  },
  {
   "cell_type": "markdown",
   "id": "pointed-survivor",
   "metadata": {},
   "source": [
    "1º Import the Libreries and Funtions."
   ]
  },
  {
   "cell_type": "code",
   "execution_count": 1,
   "id": "neutral-photographer",
   "metadata": {},
   "outputs": [],
   "source": [
    "from selenium import webdriver\n",
    "import requests\n",
    "from src.stores import *\n",
    "from src.products import *"
   ]
  },
  {
   "cell_type": "markdown",
   "id": "downtown-paper",
   "metadata": {},
   "source": [
    "2º Example to get the stock of one product and one store."
   ]
  },
  {
   "cell_type": "code",
   "execution_count": 2,
   "id": "suitable-arena",
   "metadata": {},
   "outputs": [
    {
     "data": {
      "text/plain": [
       "{'stocks': [{'datatype': 'stock',\n",
       "   'physicalStoreId': 65,\n",
       "   'sizeStocks': [{'datatype': 'sizeStock',\n",
       "     'sizeId': 1,\n",
       "     'quantity': 2,\n",
       "     'size': 101},\n",
       "    {'datatype': 'sizeStock', 'sizeId': 2, 'quantity': 3, 'size': 102},\n",
       "    {'datatype': 'sizeStock', 'sizeId': 3, 'quantity': 4, 'size': 103},\n",
       "    {'datatype': 'sizeStock', 'sizeId': 4, 'quantity': 3, 'size': 104},\n",
       "    {'datatype': 'sizeStock', 'sizeId': 5, 'quantity': 2, 'size': 105},\n",
       "    {'datatype': 'sizeStock', 'sizeId': 6, 'quantity': 1, 'size': 106}]}]}"
      ]
     },
     "execution_count": 2,
     "metadata": {},
     "output_type": "execute_result"
    }
   ],
   "source": [
    "product= 3427741\n",
    "color = 320\n",
    "\n",
    "#Apuntes:\n",
    "#prod = f\"{product}{color}\"\n",
    "#prod.rjust(11,\"0\")\n",
    "#The id have to 11 digit.\n",
    "\n",
    "\n",
    "store = {\n",
    "    \"physicalStoreId\":65\n",
    "}\n",
    "\n",
    "stock = \"https://itxrest.inditex.com/LOMOServiciosRESTCommerce-ws/common/1/stock/campaign/V2021/product/part-number/{}\"\n",
    "\n",
    "requests.get(stock.format(f\"0{product}{color}\"), params=store).json()"
   ]
  },
  {
   "cell_type": "markdown",
   "id": "curious-print",
   "metadata": {},
   "source": [
    "3º Steps to get the urls for the api stock."
   ]
  },
  {
   "cell_type": "code",
   "execution_count": 4,
   "id": "informed-cycling",
   "metadata": {},
   "outputs": [
    {
     "ename": "JSONDecodeError",
     "evalue": "Expecting value: line 1 column 1 (char 0)",
     "output_type": "error",
     "traceback": [
      "\u001b[0;31m---------------------------------------------------------------------------\u001b[0m",
      "\u001b[0;31mJSONDecodeError\u001b[0m                           Traceback (most recent call last)",
      "\u001b[0;32m<ipython-input-4-1eb79adcdae2>\u001b[0m in \u001b[0;36m<module>\u001b[0;34m\u001b[0m\n\u001b[1;32m      5\u001b[0m \u001b[0mdriver\u001b[0m\u001b[0;34m.\u001b[0m\u001b[0mclose\u001b[0m\u001b[0;34m(\u001b[0m\u001b[0;34m)\u001b[0m\u001b[0;34m\u001b[0m\u001b[0;34m\u001b[0m\u001b[0m\n\u001b[1;32m      6\u001b[0m \u001b[0;34m\u001b[0m\u001b[0m\n\u001b[0;32m----> 7\u001b[0;31m \u001b[0mstore_info\u001b[0m \u001b[0;34m=\u001b[0m \u001b[0msearch_stores\u001b[0m\u001b[0;34m(\u001b[0m\u001b[0;36m40.416050951604056\u001b[0m\u001b[0;34m,\u001b[0m \u001b[0;34m-\u001b[0m\u001b[0;36m3.7072654155715603\u001b[0m\u001b[0;34m)\u001b[0m\u001b[0;34m\u001b[0m\u001b[0;34m\u001b[0m\u001b[0m\n\u001b[0m\u001b[1;32m      8\u001b[0m \u001b[0mstore_ids\u001b[0m \u001b[0;34m=\u001b[0m \u001b[0;34m[\u001b[0m\u001b[0melement\u001b[0m\u001b[0;34m[\u001b[0m\u001b[0;34m\"id\"\u001b[0m\u001b[0;34m]\u001b[0m \u001b[0;32mfor\u001b[0m \u001b[0melement\u001b[0m \u001b[0;32min\u001b[0m \u001b[0mstore_info\u001b[0m\u001b[0;34m]\u001b[0m\u001b[0;34m\u001b[0m\u001b[0;34m\u001b[0m\u001b[0m\n\u001b[1;32m      9\u001b[0m \u001b[0;34m\u001b[0m\u001b[0m\n",
      "\u001b[0;32m~/proyecto-final/Finder-Stock-Zara/src/stores.py\u001b[0m in \u001b[0;36msearch_stores\u001b[0;34m(lat, lng)\u001b[0m\n\u001b[1;32m     54\u001b[0m     \u001b[0mstores\u001b[0m \u001b[0;34m=\u001b[0m \u001b[0;34m\"https://www.zara.com/es/es/stores-locator/search\"\u001b[0m\u001b[0;34m\u001b[0m\u001b[0;34m\u001b[0m\u001b[0m\n\u001b[1;32m     55\u001b[0m \u001b[0;34m\u001b[0m\u001b[0m\n\u001b[0;32m---> 56\u001b[0;31m     \u001b[0mstores_id\u001b[0m \u001b[0;34m=\u001b[0m \u001b[0mrequests\u001b[0m\u001b[0;34m.\u001b[0m\u001b[0mget\u001b[0m\u001b[0;34m(\u001b[0m\u001b[0mstores\u001b[0m\u001b[0;34m,\u001b[0m \u001b[0mparams\u001b[0m\u001b[0;34m=\u001b[0m\u001b[0mloc\u001b[0m\u001b[0;34m)\u001b[0m\u001b[0;34m.\u001b[0m\u001b[0mjson\u001b[0m\u001b[0;34m(\u001b[0m\u001b[0;34m)\u001b[0m\u001b[0;34m\u001b[0m\u001b[0;34m\u001b[0m\u001b[0m\n\u001b[0m\u001b[1;32m     57\u001b[0m \u001b[0;34m\u001b[0m\u001b[0m\n\u001b[1;32m     58\u001b[0m     \u001b[0mlsts_store\u001b[0m\u001b[0;34m=\u001b[0m \u001b[0;34m[\u001b[0m\u001b[0;34m]\u001b[0m\u001b[0;34m\u001b[0m\u001b[0;34m\u001b[0m\u001b[0m\n",
      "\u001b[0;32m/usr/local/lib/python3.9/site-packages/requests/models.py\u001b[0m in \u001b[0;36mjson\u001b[0;34m(self, **kwargs)\u001b[0m\n\u001b[1;32m    898\u001b[0m                     \u001b[0;31m# used.\u001b[0m\u001b[0;34m\u001b[0m\u001b[0;34m\u001b[0m\u001b[0;34m\u001b[0m\u001b[0m\n\u001b[1;32m    899\u001b[0m                     \u001b[0;32mpass\u001b[0m\u001b[0;34m\u001b[0m\u001b[0;34m\u001b[0m\u001b[0m\n\u001b[0;32m--> 900\u001b[0;31m         \u001b[0;32mreturn\u001b[0m \u001b[0mcomplexjson\u001b[0m\u001b[0;34m.\u001b[0m\u001b[0mloads\u001b[0m\u001b[0;34m(\u001b[0m\u001b[0mself\u001b[0m\u001b[0;34m.\u001b[0m\u001b[0mtext\u001b[0m\u001b[0;34m,\u001b[0m \u001b[0;34m**\u001b[0m\u001b[0mkwargs\u001b[0m\u001b[0;34m)\u001b[0m\u001b[0;34m\u001b[0m\u001b[0;34m\u001b[0m\u001b[0m\n\u001b[0m\u001b[1;32m    901\u001b[0m \u001b[0;34m\u001b[0m\u001b[0m\n\u001b[1;32m    902\u001b[0m     \u001b[0;34m@\u001b[0m\u001b[0mproperty\u001b[0m\u001b[0;34m\u001b[0m\u001b[0;34m\u001b[0m\u001b[0m\n",
      "\u001b[0;32m/usr/local/Cellar/python@3.9/3.9.1_7/Frameworks/Python.framework/Versions/3.9/lib/python3.9/json/__init__.py\u001b[0m in \u001b[0;36mloads\u001b[0;34m(s, cls, object_hook, parse_float, parse_int, parse_constant, object_pairs_hook, **kw)\u001b[0m\n\u001b[1;32m    344\u001b[0m             \u001b[0mparse_int\u001b[0m \u001b[0;32mis\u001b[0m \u001b[0;32mNone\u001b[0m \u001b[0;32mand\u001b[0m \u001b[0mparse_float\u001b[0m \u001b[0;32mis\u001b[0m \u001b[0;32mNone\u001b[0m \u001b[0;32mand\u001b[0m\u001b[0;34m\u001b[0m\u001b[0;34m\u001b[0m\u001b[0m\n\u001b[1;32m    345\u001b[0m             parse_constant is None and object_pairs_hook is None and not kw):\n\u001b[0;32m--> 346\u001b[0;31m         \u001b[0;32mreturn\u001b[0m \u001b[0m_default_decoder\u001b[0m\u001b[0;34m.\u001b[0m\u001b[0mdecode\u001b[0m\u001b[0;34m(\u001b[0m\u001b[0ms\u001b[0m\u001b[0;34m)\u001b[0m\u001b[0;34m\u001b[0m\u001b[0;34m\u001b[0m\u001b[0m\n\u001b[0m\u001b[1;32m    347\u001b[0m     \u001b[0;32mif\u001b[0m \u001b[0mcls\u001b[0m \u001b[0;32mis\u001b[0m \u001b[0;32mNone\u001b[0m\u001b[0;34m:\u001b[0m\u001b[0;34m\u001b[0m\u001b[0;34m\u001b[0m\u001b[0m\n\u001b[1;32m    348\u001b[0m         \u001b[0mcls\u001b[0m \u001b[0;34m=\u001b[0m \u001b[0mJSONDecoder\u001b[0m\u001b[0;34m\u001b[0m\u001b[0;34m\u001b[0m\u001b[0m\n",
      "\u001b[0;32m/usr/local/Cellar/python@3.9/3.9.1_7/Frameworks/Python.framework/Versions/3.9/lib/python3.9/json/decoder.py\u001b[0m in \u001b[0;36mdecode\u001b[0;34m(self, s, _w)\u001b[0m\n\u001b[1;32m    335\u001b[0m \u001b[0;34m\u001b[0m\u001b[0m\n\u001b[1;32m    336\u001b[0m         \"\"\"\n\u001b[0;32m--> 337\u001b[0;31m         \u001b[0mobj\u001b[0m\u001b[0;34m,\u001b[0m \u001b[0mend\u001b[0m \u001b[0;34m=\u001b[0m \u001b[0mself\u001b[0m\u001b[0;34m.\u001b[0m\u001b[0mraw_decode\u001b[0m\u001b[0;34m(\u001b[0m\u001b[0ms\u001b[0m\u001b[0;34m,\u001b[0m \u001b[0midx\u001b[0m\u001b[0;34m=\u001b[0m\u001b[0m_w\u001b[0m\u001b[0;34m(\u001b[0m\u001b[0ms\u001b[0m\u001b[0;34m,\u001b[0m \u001b[0;36m0\u001b[0m\u001b[0;34m)\u001b[0m\u001b[0;34m.\u001b[0m\u001b[0mend\u001b[0m\u001b[0;34m(\u001b[0m\u001b[0;34m)\u001b[0m\u001b[0;34m)\u001b[0m\u001b[0;34m\u001b[0m\u001b[0;34m\u001b[0m\u001b[0m\n\u001b[0m\u001b[1;32m    338\u001b[0m         \u001b[0mend\u001b[0m \u001b[0;34m=\u001b[0m \u001b[0m_w\u001b[0m\u001b[0;34m(\u001b[0m\u001b[0ms\u001b[0m\u001b[0;34m,\u001b[0m \u001b[0mend\u001b[0m\u001b[0;34m)\u001b[0m\u001b[0;34m.\u001b[0m\u001b[0mend\u001b[0m\u001b[0;34m(\u001b[0m\u001b[0;34m)\u001b[0m\u001b[0;34m\u001b[0m\u001b[0;34m\u001b[0m\u001b[0m\n\u001b[1;32m    339\u001b[0m         \u001b[0;32mif\u001b[0m \u001b[0mend\u001b[0m \u001b[0;34m!=\u001b[0m \u001b[0mlen\u001b[0m\u001b[0;34m(\u001b[0m\u001b[0ms\u001b[0m\u001b[0;34m)\u001b[0m\u001b[0;34m:\u001b[0m\u001b[0;34m\u001b[0m\u001b[0;34m\u001b[0m\u001b[0m\n",
      "\u001b[0;32m/usr/local/Cellar/python@3.9/3.9.1_7/Frameworks/Python.framework/Versions/3.9/lib/python3.9/json/decoder.py\u001b[0m in \u001b[0;36mraw_decode\u001b[0;34m(self, s, idx)\u001b[0m\n\u001b[1;32m    353\u001b[0m             \u001b[0mobj\u001b[0m\u001b[0;34m,\u001b[0m \u001b[0mend\u001b[0m \u001b[0;34m=\u001b[0m \u001b[0mself\u001b[0m\u001b[0;34m.\u001b[0m\u001b[0mscan_once\u001b[0m\u001b[0;34m(\u001b[0m\u001b[0ms\u001b[0m\u001b[0;34m,\u001b[0m \u001b[0midx\u001b[0m\u001b[0;34m)\u001b[0m\u001b[0;34m\u001b[0m\u001b[0;34m\u001b[0m\u001b[0m\n\u001b[1;32m    354\u001b[0m         \u001b[0;32mexcept\u001b[0m \u001b[0mStopIteration\u001b[0m \u001b[0;32mas\u001b[0m \u001b[0merr\u001b[0m\u001b[0;34m:\u001b[0m\u001b[0;34m\u001b[0m\u001b[0;34m\u001b[0m\u001b[0m\n\u001b[0;32m--> 355\u001b[0;31m             \u001b[0;32mraise\u001b[0m \u001b[0mJSONDecodeError\u001b[0m\u001b[0;34m(\u001b[0m\u001b[0;34m\"Expecting value\"\u001b[0m\u001b[0;34m,\u001b[0m \u001b[0ms\u001b[0m\u001b[0;34m,\u001b[0m \u001b[0merr\u001b[0m\u001b[0;34m.\u001b[0m\u001b[0mvalue\u001b[0m\u001b[0;34m)\u001b[0m \u001b[0;32mfrom\u001b[0m \u001b[0;32mNone\u001b[0m\u001b[0;34m\u001b[0m\u001b[0;34m\u001b[0m\u001b[0m\n\u001b[0m\u001b[1;32m    356\u001b[0m         \u001b[0;32mreturn\u001b[0m \u001b[0mobj\u001b[0m\u001b[0;34m,\u001b[0m \u001b[0mend\u001b[0m\u001b[0;34m\u001b[0m\u001b[0;34m\u001b[0m\u001b[0m\n",
      "\u001b[0;31mJSONDecodeError\u001b[0m: Expecting value: line 1 column 1 (char 0)"
     ]
    }
   ],
   "source": [
    "driver = webdriver.Chrome(\"./chromedriver\")\n",
    "\n",
    "products = get_products(\"cazadora amarilla\",driver)\n",
    "\n",
    "driver.close()\n",
    "\n",
    "store_info = search_stores(40.416050951604056, -3.7072654155715603)\n",
    "store_ids = [element[\"id\"] for element in store_info]\n",
    "\n",
    "stock_url = \"https://itxrest.inditex.com/LOMOServiciosRESTCommerce-ws/common/1/stock/campaign/V2021/product/part-number/{}\"\n",
    "stock_params = {\"physicalStoreId\": store_ids}\n",
    "\n",
    "\n",
    "urls = [stock_url.format(\"\".join(p[\"ids_prod\"]).rjust(11,\"0\")) for p in products]\n",
    "print(urls)"
   ]
  },
  {
   "cell_type": "code",
   "execution_count": null,
   "id": "every-congo",
   "metadata": {},
   "outputs": [],
   "source": [
    "for i,product in enumerate(products):\n",
    "    products[i][\"stock\"] = requests.get(urls[i],params=stock_params).json()"
   ]
  },
  {
   "cell_type": "code",
   "execution_count": null,
   "id": "congressional-appeal",
   "metadata": {},
   "outputs": [],
   "source": [
    "print(products)"
   ]
  },
  {
   "cell_type": "code",
   "execution_count": null,
   "id": "developing-hammer",
   "metadata": {},
   "outputs": [],
   "source": [
    "print(store_info)"
   ]
  },
  {
   "cell_type": "markdown",
   "id": "aboriginal-vegetation",
   "metadata": {},
   "source": [
    "### Function"
   ]
  },
  {
   "cell_type": "code",
   "execution_count": null,
   "id": "figured-tractor",
   "metadata": {},
   "outputs": [],
   "source": [
    "def get_stock(search_terms,lat,lng):\n",
    "        \"\"\"\n",
    "        Definition: Funtion that get the stocks,url,image, product name, price, ids of products and stock of diferent sizes. \n",
    "        \n",
    "        Input: \"search_terms\",latitude,longitude\n",
    "        example: \"cazadora amarilla\",40.416050951604056, -3.7072654155715603\n",
    "        \n",
    "        Output: list of a dictionary with url, image, product name, price, ids products and stocks of diferents size.\n",
    "        example:[{'url': 'https://www.zara.com/es/es/blusa-crop-tie-dye-p00085048.html',\n",
    "                  'image': 'https://static.zara.net/photos///2021/V/0/1/p/0085/048/947/2/w/200/0085048947_1_1_1.jpg?ts=1615206456459',\n",
    "                  'product_name': 'BLUSA CROP TIE DYE',\n",
    "                  'price': '25,95 EUR',\n",
    "                  'ids_prod': ['0085048', '947']\n",
    "                    'stock': .......}]\n",
    "\n",
    "        \"\"\"\n",
    "    \n",
    "        driver = webdriver.Chrome(\"./chromedriver\")\n",
    "\n",
    "        products = get_products(search_terms,driver)\n",
    "\n",
    "        driver.close()\n",
    "\n",
    "        store_info = search_stores(lat, lng)\n",
    "        store_ids = [element[\"id\"] for element in store_info]\n",
    "\n",
    "        stock_url = \"https://itxrest.inditex.com/LOMOServiciosRESTCommerce-ws/common/1/stock/campaign/V2021/product/part-number/{}\"\n",
    "        stock_params = {\"physicalStoreId\": store_ids}\n",
    "\n",
    "        urls = [stock_url.format(\"\".join(p[\"ids_prod\"]).rjust(11,\"0\")) for p in products]\n",
    "        \n",
    "        for i,product in enumerate(products):\n",
    "            products[i][\"stock\"] = requests.get(urls[i],params=stock_params).json()\n",
    "            \n",
    "        return products"
   ]
  },
  {
   "cell_type": "code",
   "execution_count": null,
   "id": "valuable-business",
   "metadata": {},
   "outputs": [],
   "source": [
    "# Function testing\n",
    "get_stock(\"cazadora amarilla\",40.416050951604056, -3.7072654155715603)"
   ]
  },
  {
   "cell_type": "markdown",
   "id": "selected-language",
   "metadata": {},
   "source": [
    "### To normalize the size"
   ]
  },
  {
   "cell_type": "code",
   "execution_count": null,
   "id": "defined-canada",
   "metadata": {},
   "outputs": [],
   "source": [
    "size_ = {101:\"XS\", 102:\"S\", 103:\"M\", 104:\"L\", 105:\"XL\", 106:\"XXL\"}\n",
    "\n",
    "s = 12\n",
    "\n",
    "if s in size_:\n",
    "    s = size_[s]\n",
    "    print(s)\n",
    "else: \n",
    "    print(s)"
   ]
  }
 ],
 "metadata": {
  "kernelspec": {
   "display_name": "Python 3",
   "language": "python",
   "name": "python3"
  },
  "language_info": {
   "codemirror_mode": {
    "name": "ipython",
    "version": 3
   },
   "file_extension": ".py",
   "mimetype": "text/x-python",
   "name": "python",
   "nbconvert_exporter": "python",
   "pygments_lexer": "ipython3",
   "version": "3.9.1"
  }
 },
 "nbformat": 4,
 "nbformat_minor": 5
}
