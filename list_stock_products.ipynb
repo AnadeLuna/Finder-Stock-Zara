{
 "cells": [
  {
   "cell_type": "markdown",
   "id": "fifth-armstrong",
   "metadata": {},
   "source": [
    "# Steps:"
   ]
  },
  {
   "cell_type": "code",
   "execution_count": 2,
   "id": "quick-syndicate",
   "metadata": {},
   "outputs": [],
   "source": [
    "# Implementations:\n",
    "# Function that takes store_id(s) and product_id, color_id and returns stock availability"
   ]
  },
  {
   "cell_type": "markdown",
   "id": "elect-drill",
   "metadata": {},
   "source": [
    "### Step by Step"
   ]
  },
  {
   "cell_type": "markdown",
   "id": "pointed-survivor",
   "metadata": {},
   "source": [
    "1º Import the Libreries and Funtions."
   ]
  },
  {
   "cell_type": "code",
   "execution_count": 66,
   "id": "neutral-photographer",
   "metadata": {},
   "outputs": [],
   "source": [
    "import requests\n",
    "import sys\n",
    "from functions import *"
   ]
  },
  {
   "cell_type": "markdown",
   "id": "downtown-paper",
   "metadata": {},
   "source": [
    "3º Id´s product, id store and url (api to find the stock)."
   ]
  },
  {
   "cell_type": "code",
   "execution_count": 58,
   "id": "suitable-arena",
   "metadata": {},
   "outputs": [],
   "source": [
    "product= 3427741\n",
    "color = 320\n",
    "\n",
    "store = {\n",
    "    \"physicalStoreId\":65\n",
    "}\n",
    "\n",
    "stock = \"https://itxrest.inditex.com/LOMOServiciosRESTCommerce-ws/common/1/stock/campaign/V2021/product/part-number/{}\""
   ]
  },
  {
   "cell_type": "markdown",
   "id": "curious-print",
   "metadata": {},
   "source": [
    "4º Test with one product."
   ]
  },
  {
   "cell_type": "code",
   "execution_count": 67,
   "id": "imported-clarity",
   "metadata": {
    "scrolled": true
   },
   "outputs": [
    {
     "data": {
      "text/plain": [
       "{'stocks': [{'datatype': 'stock',\n",
       "   'physicalStoreId': 65,\n",
       "   'sizeStocks': [{'datatype': 'sizeStock',\n",
       "     'sizeId': 1,\n",
       "     'quantity': 0,\n",
       "     'size': 101},\n",
       "    {'datatype': 'sizeStock', 'sizeId': 2, 'quantity': 1, 'size': 102},\n",
       "    {'datatype': 'sizeStock', 'sizeId': 3, 'quantity': 4, 'size': 103},\n",
       "    {'datatype': 'sizeStock', 'sizeId': 4, 'quantity': 3, 'size': 104},\n",
       "    {'datatype': 'sizeStock', 'sizeId': 5, 'quantity': 2, 'size': 105},\n",
       "    {'datatype': 'sizeStock', 'sizeId': 6, 'quantity': 1, 'size': 106}]}]}"
      ]
     },
     "execution_count": 67,
     "metadata": {},
     "output_type": "execute_result"
    }
   ],
   "source": [
    "requests.get(stock.format(f\"0{product}{color}\"), params=store).json()"
   ]
  },
  {
   "cell_type": "markdown",
   "id": "color-memory",
   "metadata": {},
   "source": [
    "5º Create a dictionary to normalize de size  "
   ]
  },
  {
   "cell_type": "code",
   "execution_count": 9,
   "id": "superior-definition",
   "metadata": {},
   "outputs": [],
   "source": [
    "size_ = {101:\"XS\", 102:\"S\", 103:\"M\", 104:\"L\", 105:\"XL\", 106:\"XXL\"}"
   ]
  },
  {
   "cell_type": "code",
   "execution_count": 57,
   "id": "federal-blair",
   "metadata": {},
   "outputs": [
    {
     "name": "stdout",
     "output_type": "stream",
     "text": [
      "12\n"
     ]
    }
   ],
   "source": [
    "s = 12\n",
    "\n",
    "if s in size_:\n",
    "    s = size_[s]\n",
    "    print(s)\n",
    "else: \n",
    "    print(s)\n"
   ]
  },
  {
   "cell_type": "code",
   "execution_count": 64,
   "id": "adverse-offering",
   "metadata": {},
   "outputs": [
    {
     "ename": "NameError",
     "evalue": "name 'get_products' is not defined",
     "output_type": "error",
     "traceback": [
      "\u001b[0;31m---------------------------------------------------------------------------\u001b[0m",
      "\u001b[0;31mNameError\u001b[0m                                 Traceback (most recent call last)",
      "\u001b[0;32m<ipython-input-64-423993273a5a>\u001b[0m in \u001b[0;36m<module>\u001b[0;34m\u001b[0m\n\u001b[1;32m      1\u001b[0m \u001b[0;31m# Import the funtion that recive a search name and return id_product and id_color.\u001b[0m\u001b[0;34m\u001b[0m\u001b[0;34m\u001b[0m\u001b[0;34m\u001b[0m\u001b[0m\n\u001b[1;32m      2\u001b[0m \u001b[0mdriver\u001b[0m \u001b[0;34m=\u001b[0m \u001b[0mwebdriver\u001b[0m\u001b[0;34m.\u001b[0m\u001b[0mChrome\u001b[0m\u001b[0;34m(\u001b[0m\u001b[0;34m\"./chromedriver\"\u001b[0m\u001b[0;34m)\u001b[0m\u001b[0;34m\u001b[0m\u001b[0;34m\u001b[0m\u001b[0m\n\u001b[0;32m----> 3\u001b[0;31m \u001b[0mget_products\u001b[0m\u001b[0;34m(\u001b[0m\u001b[0;34m\"blusa amarilla\"\u001b[0m\u001b[0;34m,\u001b[0m\u001b[0mdriver\u001b[0m\u001b[0;34m)\u001b[0m\u001b[0;34m\u001b[0m\u001b[0;34m\u001b[0m\u001b[0m\n\u001b[0m",
      "\u001b[0;31mNameError\u001b[0m: name 'get_products' is not defined"
     ]
    }
   ],
   "source": [
    "# Import the funtion that recive a search name and return id_product and id_color.\n",
    "driver = webdriver.Chrome(\"./chromedriver\")\n",
    "get_products(\"blusa amarilla\",driver)"
   ]
  },
  {
   "cell_type": "code",
   "execution_count": null,
   "id": "terminal-testament",
   "metadata": {},
   "outputs": [],
   "source": []
  }
 ],
 "metadata": {
  "kernelspec": {
   "display_name": "Python 3",
   "language": "python",
   "name": "python3"
  },
  "language_info": {
   "codemirror_mode": {
    "name": "ipython",
    "version": 3
   },
   "file_extension": ".py",
   "mimetype": "text/x-python",
   "name": "python",
   "nbconvert_exporter": "python",
   "pygments_lexer": "ipython3",
   "version": "3.9.1"
  }
 },
 "nbformat": 4,
 "nbformat_minor": 5
}
