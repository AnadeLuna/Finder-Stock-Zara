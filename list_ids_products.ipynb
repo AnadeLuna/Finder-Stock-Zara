{
 "cells": [
  {
   "cell_type": "markdown",
   "id": "instructional-trustee",
   "metadata": {},
   "source": [
    "# Steps:"
   ]
  },
  {
   "cell_type": "code",
   "execution_count": 117,
   "id": "seasonal-statistics",
   "metadata": {},
   "outputs": [],
   "source": [
    "# Implementations:\n",
    "# Funtion1 to get the urls.\n",
    "# Funtion2 to get one id_product and id_color.\n",
    "# Funtion3 to all the id_product and id_color (Funtion1 + Funtion2)."
   ]
  },
  {
   "cell_type": "markdown",
   "id": "likely-grace",
   "metadata": {},
   "source": [
    "### Step by Step"
   ]
  },
  {
   "cell_type": "markdown",
   "id": "pointed-survivor",
   "metadata": {},
   "source": [
    "1º Import the Libreries."
   ]
  },
  {
   "cell_type": "code",
   "execution_count": 16,
   "id": "becoming-mistake",
   "metadata": {},
   "outputs": [],
   "source": [
    "from selenium import webdriver\n",
    "from time import sleep"
   ]
  },
  {
   "cell_type": "markdown",
   "id": "mineral-sleeve",
   "metadata": {},
   "source": [
    "2º Conect with Chrome "
   ]
  },
  {
   "cell_type": "code",
   "execution_count": 119,
   "id": "resistant-witness",
   "metadata": {},
   "outputs": [],
   "source": [
    "driver = webdriver.Chrome(\"./chromedriver\")"
   ]
  },
  {
   "cell_type": "markdown",
   "id": "visible-tenant",
   "metadata": {},
   "source": [
    "3º Conect with  Zara´s search."
   ]
  },
  {
   "cell_type": "code",
   "execution_count": 120,
   "id": "explicit-franklin",
   "metadata": {},
   "outputs": [],
   "source": [
    "driver.get(\"https://www.zara.com/es/es/search\")"
   ]
  },
  {
   "cell_type": "code",
   "execution_count": 121,
   "id": "clear-monitoring",
   "metadata": {},
   "outputs": [],
   "source": [
    "#time sleep\n",
    "sleep(1)"
   ]
  },
  {
   "cell_type": "markdown",
   "id": "presidential-making",
   "metadata": {},
   "source": [
    "4º Accept web cookies."
   ]
  },
  {
   "cell_type": "code",
   "execution_count": 122,
   "id": "abstract-magic",
   "metadata": {},
   "outputs": [],
   "source": [
    "driver.find_element_by_id(\"onetrust-accept-btn-handler\").click()"
   ]
  },
  {
   "cell_type": "code",
   "execution_count": 123,
   "id": "incomplete-catch",
   "metadata": {},
   "outputs": [],
   "source": [
    "#time sleep\n",
    "sleep(1)"
   ]
  },
  {
   "cell_type": "markdown",
   "id": "korean-classroom",
   "metadata": {},
   "source": [
    "5º Mark the cursor in the search engine."
   ]
  },
  {
   "cell_type": "code",
   "execution_count": 124,
   "id": "floppy-hearing",
   "metadata": {},
   "outputs": [],
   "source": [
    "search = driver.find_element_by_id(\"search-term\")"
   ]
  },
  {
   "cell_type": "markdown",
   "id": "weird-avatar",
   "metadata": {},
   "source": [
    "6º Click in the search engine."
   ]
  },
  {
   "cell_type": "code",
   "execution_count": 125,
   "id": "visible-likelihood",
   "metadata": {},
   "outputs": [],
   "source": [
    "search.click()"
   ]
  },
  {
   "cell_type": "code",
   "execution_count": 126,
   "id": "internal-chester",
   "metadata": {},
   "outputs": [],
   "source": [
    "#dir(driver)\n",
    "#dir(search)"
   ]
  },
  {
   "cell_type": "markdown",
   "id": "rubber-cuisine",
   "metadata": {},
   "source": [
    "7º Introduce key words."
   ]
  },
  {
   "cell_type": "code",
   "execution_count": 127,
   "id": "meaningful-reminder",
   "metadata": {},
   "outputs": [],
   "source": [
    "search.send_keys(\"cazadora amarilla mujer\")"
   ]
  },
  {
   "cell_type": "code",
   "execution_count": 128,
   "id": "palestinian-syntax",
   "metadata": {},
   "outputs": [],
   "source": [
    "#time sleep\n",
    "sleep(1)"
   ]
  },
  {
   "cell_type": "markdown",
   "id": "cloudy-access",
   "metadata": {},
   "source": [
    "8º Find the urls of products."
   ]
  },
  {
   "cell_type": "code",
   "execution_count": 129,
   "id": "fatal-cooper",
   "metadata": {},
   "outputs": [],
   "source": [
    "all_url_prod = driver.find_elements_by_css_selector(\"#products > ul > section > ul > li\")"
   ]
  },
  {
   "cell_type": "markdown",
   "id": "rising-professor",
   "metadata": {},
   "source": [
    "9º Created a list with the diferents urls."
   ]
  },
  {
   "cell_type": "code",
   "execution_count": 100,
   "id": "falling-football",
   "metadata": {
    "scrolled": false
   },
   "outputs": [
    {
     "data": {
      "text/plain": [
       "['https://www.zara.com/es/es/cazadora-cropped-acolchada-water-repellent-p03427741.html',\n",
       " 'https://www.zara.com/es/es/chubasquero-crop-combinado-p04391733.html',\n",
       " 'https://www.zara.com/es/es/sobrecamisa-bolsillo-plastr%C3%B3n-p08891293.html',\n",
       " 'https://www.zara.com/es/es/chaqueta-bordada-abalorios-p05107060.html',\n",
       " 'https://www.zara.com/es/es/chaleco-water-repellent-embolsable-p03427751.html',\n",
       " 'https://www.zara.com/es/es/sobrecamisa-estampada-bolsillos-p06895070.html',\n",
       " 'https://www.zara.com/es/es/trench-cordones-combinados-p00518263.html',\n",
       " 'https://www.zara.com/es/es/abrigo-largo-punto-p05755149.html',\n",
       " 'https://www.zara.com/es/es/sudadera-acolchada-water-repellent-p05320706.html']"
      ]
     },
     "execution_count": 100,
     "metadata": {},
     "output_type": "execute_result"
    }
   ],
   "source": [
    "#Ejample urls:\n",
    "lst_urls = []\n",
    "for url in all_url_prod:\n",
    "    #print(url.find_element_by_css_selector(\"div > div > a\").get_attribute(\"href\"))\n",
    "    lst_urls.append(url.find_element_by_css_selector(\"div > div > a\").get_attribute(\"href\"))\n",
    "lst_urls"
   ]
  },
  {
   "cell_type": "markdown",
   "id": "vocal-energy",
   "metadata": {},
   "source": [
    "10º Get the firt url."
   ]
  },
  {
   "cell_type": "code",
   "execution_count": 101,
   "id": "recent-stevens",
   "metadata": {
    "scrolled": true
   },
   "outputs": [],
   "source": [
    "# First url\n",
    "driver.get(lst_urls[0])"
   ]
  },
  {
   "cell_type": "markdown",
   "id": "first-member",
   "metadata": {},
   "source": [
    "11º Select and click `Origen, materiales & cuidados `."
   ]
  },
  {
   "cell_type": "code",
   "execution_count": 102,
   "id": "connected-credit",
   "metadata": {},
   "outputs": [],
   "source": [
    "driver.find_element_by_class_name(\"product-detail-actions__action-button\").click()"
   ]
  },
  {
   "cell_type": "markdown",
   "id": "reliable-james",
   "metadata": {},
   "source": [
    "12º Select ids products."
   ]
  },
  {
   "cell_type": "code",
   "execution_count": 103,
   "id": "julian-soldier",
   "metadata": {
    "scrolled": false
   },
   "outputs": [
    {
     "data": {
      "text/plain": [
       "<selenium.webdriver.remote.webelement.WebElement (session=\"429c738d6ad08dd6ff61e38c9c817467\", element=\"fb0452de-e217-416c-acbb-7c841376fadb\")>"
      ]
     },
     "execution_count": 103,
     "metadata": {},
     "output_type": "execute_result"
    }
   ],
   "source": [
    "id_prod = driver.find_element_by_css_selector(\"#theme-modal-container > div > div > div > div > div.modal__body.modal__body--spacer-bottom > p\")\n",
    "id_prod"
   ]
  },
  {
   "cell_type": "code",
   "execution_count": 104,
   "id": "rough-david",
   "metadata": {},
   "outputs": [],
   "source": [
    "#dir(id_prod)\n",
    "#id_prod.get_attribute(\"innerHTML\") \n",
    "#(you can see the html code down this cell)"
   ]
  },
  {
   "attachments": {},
   "cell_type": "markdown",
   "id": "plastic-motorcycle",
   "metadata": {},
   "source": [
    "<p class=\"product-detail-side-info-modal__product-info-text\"><span\n",
    "        class=\"product-detail-side-info-modal__product-info-title\"><span>ID</span></span><span> _ 3427/741</span></p>\n",
    "<p class=\"product-detail-side-info-modal__product-info-text\"><span\n",
    "        class=\"product-detail-side-info-modal__product-info-title\"><span>Color</span></span><span> _ 320 Amarillo\n",
    "        limón</span></p>\n",
    "<p class=\"product-detail-side-info-modal__product-info-text\"><span\n",
    "        class=\"product-detail-side-info-modal__product-info-title\"><span>Sección</span></span><span> _ Mujer</span></p>"
   ]
  },
  {
   "cell_type": "markdown",
   "id": "colonial-swedish",
   "metadata": {},
   "source": [
    "13º Select only the first two products."
   ]
  },
  {
   "cell_type": "code",
   "execution_count": 105,
   "id": "congressional-louisiana",
   "metadata": {
    "scrolled": true
   },
   "outputs": [
    {
     "data": {
      "text/plain": [
       "[<selenium.webdriver.remote.webelement.WebElement (session=\"429c738d6ad08dd6ff61e38c9c817467\", element=\"b0c00ae9-a84e-46dc-b716-a3e2cfe8800b\")>,\n",
       " <selenium.webdriver.remote.webelement.WebElement (session=\"429c738d6ad08dd6ff61e38c9c817467\", element=\"0315f119-5a64-4e7b-bd24-52579bb9e87b\")>]"
      ]
     },
     "execution_count": 105,
     "metadata": {},
     "output_type": "execute_result"
    }
   ],
   "source": [
    "ids_prod = id_prod.find_elements_by_css_selector(\"p\")[:2]\n",
    "ids_prod"
   ]
  },
  {
   "cell_type": "markdown",
   "id": "modern-equity",
   "metadata": {},
   "source": [
    "14º Extract just the numbers ids:"
   ]
  },
  {
   "cell_type": "code",
   "execution_count": 85,
   "id": "nasty-james",
   "metadata": {},
   "outputs": [
    {
     "data": {
      "text/plain": [
       "[' 3427/741', ' 320 Amarillo limón']"
      ]
     },
     "execution_count": 85,
     "metadata": {},
     "output_type": "execute_result"
    }
   ],
   "source": [
    "ids_prod = [element.text.split(\"_\")[-1] for element in ids_prod ]\n",
    "ids_prod"
   ]
  },
  {
   "cell_type": "code",
   "execution_count": 86,
   "id": "controlling-jesus",
   "metadata": {},
   "outputs": [
    {
     "data": {
      "text/plain": [
       "['3427741', '320']"
      ]
     },
     "execution_count": 86,
     "metadata": {},
     "output_type": "execute_result"
    }
   ],
   "source": [
    "lst_ids_prod = [\"\".join([caracter for caracter in element if caracter.isnumeric()]) for element in ids_prod]\n",
    "lst_ids_prod"
   ]
  },
  {
   "cell_type": "markdown",
   "id": "still-rocket",
   "metadata": {},
   "source": [
    "## Start with Funtions:"
   ]
  },
  {
   "cell_type": "markdown",
   "id": "early-dispute",
   "metadata": {},
   "source": [
    "1º Funtion1 to get the urls."
   ]
  },
  {
   "cell_type": "code",
   "execution_count": 114,
   "id": "decent-rebound",
   "metadata": {},
   "outputs": [
    {
     "ename": "IndentationError",
     "evalue": "unexpected indent (<ipython-input-114-9b61cd2ab589>, line 3)",
     "output_type": "error",
     "traceback": [
      "\u001b[0;36m  File \u001b[0;32m\"<ipython-input-114-9b61cd2ab589>\"\u001b[0;36m, line \u001b[0;32m3\u001b[0m\n\u001b[0;31m    '''\u001b[0m\n\u001b[0m    ^\u001b[0m\n\u001b[0;31mIndentationError\u001b[0m\u001b[0;31m:\u001b[0m unexpected indent\n"
     ]
    }
   ],
   "source": [
    "# Task 1\n",
    "#def search_products(search_terms, driver):\n",
    "    '''\n",
    "    Input: \"Cazadora amarilla\",driver\n",
    "    Output: [list of urls]\n",
    "    '''\n",
    "    #pass"
   ]
  },
  {
   "cell_type": "code",
   "execution_count": 111,
   "id": "respective-honduras",
   "metadata": {},
   "outputs": [],
   "source": [
    "def search_products(search_terms, driver):\n",
    "\n",
    "    driver.get(\"https://www.zara.com/es/es/search\")\n",
    "    sleep(1)\n",
    "    try:\n",
    "        driver.find_element_by_id(\"onetrust-accept-btn-handler\").click()\n",
    "        sleep(1)\n",
    "        search = driver.find_element_by_id(\"search-term\")\n",
    "        search.click()\n",
    "        search.send_keys(search_terms)\n",
    "        sleep(1)\n",
    "        all_url_prod = driver.find_elements_by_css_selector(\"#products > ul > section > ul > li\")\n",
    "\n",
    "        lst_urls = []\n",
    "        for url in all_url_prod:\n",
    "            lst_urls.append(url.find_element_by_css_selector(\"div > div > a\").get_attribute(\"href\"))\n",
    "\n",
    "        return lst_urls\n",
    "    except:\n",
    "        sleep(1)\n",
    "        search = driver.find_element_by_id(\"search-term\")\n",
    "        search.click()\n",
    "        search.send_keys(search_terms)\n",
    "        sleep(1)\n",
    "        all_url_prod = driver.find_elements_by_css_selector(\"#products > ul > section > ul > li\")\n",
    "\n",
    "        lst_urls = []\n",
    "        for url in all_url_prod:\n",
    "            lst_urls.append(url.find_element_by_css_selector(\"div > div > a\").get_attribute(\"href\"))\n",
    "\n",
    "        return lst_urls"
   ]
  },
  {
   "cell_type": "code",
   "execution_count": 112,
   "id": "daily-serbia",
   "metadata": {},
   "outputs": [
    {
     "data": {
      "text/plain": [
       "['https://www.zara.com/es/es/blusa-crop-tie-dye-p00085048.html']"
      ]
     },
     "execution_count": 112,
     "metadata": {},
     "output_type": "execute_result"
    }
   ],
   "source": [
    "# Function testing\n",
    "driver = webdriver.Chrome(\"./chromedriver\")\n",
    "search_products(\"blusa amarilla\", driver)"
   ]
  },
  {
   "cell_type": "markdown",
   "id": "designing-practice",
   "metadata": {},
   "source": [
    "2º Funtion2 to get one id_product and id_color."
   ]
  },
  {
   "cell_type": "code",
   "execution_count": null,
   "id": "generic-armor",
   "metadata": {},
   "outputs": [],
   "source": [
    "# Task 2\n",
    "#def get_prod_id(prod_url, driver):\n",
    "    \"\"\"\n",
    "    Input: \"https://www.zara.com/es/es/cazadora-cropped-acolchada-water-repellent-p03427741.html\", driver\n",
    "    Output: ['3427741', '320']\n",
    "    \"\"\"\n",
    "    #pass"
   ]
  },
  {
   "cell_type": "code",
   "execution_count": 12,
   "id": "julian-automation",
   "metadata": {},
   "outputs": [],
   "source": [
    "def get_prod_id(prod_url, driver):\n",
    "    \n",
    "    driver.get(prod_url)\n",
    "    sleep(1)\n",
    "    try: \n",
    "        driver.find_element_by_id(\"onetrust-accept-btn-handler\").click()\n",
    "        sleep(1)\n",
    "        driver.find_element_by_class_name(\"product-detail-actions__action-button\").click()\n",
    "        sleep(1)\n",
    "        ids_prod = driver.find_element_by_css_selector(\"#theme-modal-container > div > div > div > div > div.modal__body.modal__body--spacer-bottom > p\")\n",
    "\n",
    "        ids_prod = ids_prod.find_elements_by_css_selector(\"p\")[:2]\n",
    "        ids_prod = [element.text.split(\"_\")[-1] for element in ids_prod ]\n",
    "        \n",
    "        lst_ids_prod = [\"\".join([caracter for caracter in element if caracter.isnumeric()]) for element in ids_prod]\n",
    "\n",
    "        return lst_ids_prod\n",
    "    except:\n",
    "        \n",
    "        driver.find_element_by_class_name(\"product-detail-actions__action-button\").click()\n",
    "        sleep(1)\n",
    "        ids_prod = driver.find_element_by_css_selector(\"#theme-modal-container > div > div > div > div > div.modal__body.modal__body--spacer-bottom > p\")\n",
    "\n",
    "        ids_prod = ids_prod.find_elements_by_css_selector(\"p\")[:2]\n",
    "        ids_prod = [element.text.split(\"_\")[-1] for element in ids_prod ]\n",
    "        \n",
    "        lst_ids_prod = [\"\".join([caracter for caracter in element if caracter.isnumeric()]) for element in ids_prod]\n",
    "\n",
    "        return lst_ids_prod\n",
    "       "
   ]
  },
  {
   "cell_type": "code",
   "execution_count": 109,
   "id": "returning-gabriel",
   "metadata": {},
   "outputs": [
    {
     "data": {
      "text/plain": [
       "['0085350', '561']"
      ]
     },
     "execution_count": 109,
     "metadata": {},
     "output_type": "execute_result"
    }
   ],
   "source": [
    "# Function testing\n",
    "driver = webdriver.Chrome(\"./chromedriver\")\n",
    "get_prod_id(\"https://www.zara.com/es/es/camiseta-inicial-p00085350.html?v1=97283036&v2=1718817\", driver)"
   ]
  },
  {
   "cell_type": "code",
   "execution_count": 115,
   "id": "third-belgium",
   "metadata": {},
   "outputs": [
    {
     "data": {
      "text/plain": [
       "['7901389', '712']"
      ]
     },
     "execution_count": 115,
     "metadata": {},
     "output_type": "execute_result"
    }
   ],
   "source": [
    "# Function testing\n",
    "driver = webdriver.Chrome(\"./chromedriver\")\n",
    "get_prod_id(\"https://www.zara.com/es/es/vestido-seamless-p07901389.html?v1=89766478&v2=1719442\", driver)"
   ]
  },
  {
   "cell_type": "markdown",
   "id": "dramatic-course",
   "metadata": {},
   "source": [
    "3º Funtion3 to all the id_product and id_color (Funtion1 + Funtion2)."
   ]
  },
  {
   "cell_type": "code",
   "execution_count": null,
   "id": "honest-mileage",
   "metadata": {},
   "outputs": [],
   "source": [
    "# Task 3\n",
    "#def get_products(search_terms,driver):\n",
    "    \"\"\"\n",
    "    Output: list of lists [['3427741', '320'],['3423331', '320']]\n",
    "    \"\"\""
   ]
  },
  {
   "cell_type": "code",
   "execution_count": 14,
   "id": "plain-background",
   "metadata": {},
   "outputs": [],
   "source": [
    "def get_products(search_terms,driver):\n",
    "    \n",
    "    lst_ids = []\n",
    "    for prod_url in search_products(search_terms, driver):\n",
    "        #print(prod_url)\n",
    "        url_ids = get_prod_id(prod_url, driver)\n",
    "        #print(url_ids)\n",
    "        lst_ids.append(url_ids)   \n",
    "    return lst_ids"
   ]
  },
  {
   "cell_type": "code",
   "execution_count": 118,
   "id": "former-floor",
   "metadata": {},
   "outputs": [
    {
     "data": {
      "text/plain": [
       "[['0085048', '947']]"
      ]
     },
     "execution_count": 118,
     "metadata": {},
     "output_type": "execute_result"
    }
   ],
   "source": [
    "# Function testing\n",
    "driver = webdriver.Chrome(\"./chromedriver\")\n",
    "get_products(\"blusa amarilla\",driver)"
   ]
  },
  {
   "cell_type": "markdown",
   "id": "demographic-yugoslavia",
   "metadata": {},
   "source": [
    "3º Function to get de image,name and price"
   ]
  },
  {
   "cell_type": "code",
   "execution_count": 160,
   "id": "enclosed-garbage",
   "metadata": {},
   "outputs": [],
   "source": [
    "#Apuntes: \n",
    "#images\n",
    "#products > ul > section > ul > li:nth-child(1) > a > div > div > div > picture > img\n",
    "#products > ul > section > ul > li:nth-child(2) > a > div > div > div > picture > img\n",
    "#get_attribute(src)\n",
    "\n",
    "#name \n",
    "#products > ul > section > ul > li:nth-child(1) > div > div > a > span\n",
    "#products > ul > section > ul > li:nth-child(2) > div > div > a > span\n",
    "\n",
    "#price\n",
    "#products > ul > section > ul > li:nth-child(1) > div > div > div.product-grid-product-info__price.price > span\n",
    "#products > ul > section > ul > li:nth-child(2) > div > div > div.product-grid-product-info__price.price > span"
   ]
  },
  {
   "cell_type": "markdown",
   "id": "hourly-relations",
   "metadata": {},
   "source": [
    "Step by step:"
   ]
  },
  {
   "cell_type": "code",
   "execution_count": 150,
   "id": "julian-jenny",
   "metadata": {},
   "outputs": [
    {
     "name": "stdout",
     "output_type": "stream",
     "text": [
      "[{'url': 'https://www.zara.com/es/es/blusa-crop-tie-dye-p00085048.html', 'image': 'https://static.zara.net/photos///2021/V/0/1/p/0085/048/947/2/w/400/0085048947_1_1_1.jpg?ts=1614673261631', 'product_name': 'BLUSA CROP TIE DYE', 'price': '25,95 EUR'}]\n"
     ]
    }
   ],
   "source": [
    "driver = webdriver.Chrome(\"./chromedriver\")\n",
    "\n",
    "driver.get(\"https://www.zara.com/es/es/search\")\n",
    "sleep(1)\n",
    "\n",
    "driver.find_element_by_id(\"onetrust-accept-btn-handler\").click()\n",
    "sleep(1)\n",
    "search = driver.find_element_by_id(\"search-term\")\n",
    "search.click()\n",
    "search.send_keys(\"blusa amarilla mujer\")\n",
    "sleep(1)\n",
    "all_url_prod = driver.find_elements_by_css_selector(\"#products > ul > section > ul > li\")\n",
    "\n",
    "lst_dic_total_prod = []\n",
    "\n",
    "for url in all_url_prod:\n",
    "    \n",
    "    dic_total_prod = {\"url\": [] ,\"image\": [],\"product_name\": [], \"price\": []}\n",
    "    \n",
    "\n",
    "    dic_total_prod[\"url\"] = url.find_element_by_css_selector(\"div > div > a\").get_attribute(\"href\")\n",
    "    \n",
    "    dic_total_prod[\"image\"] = url.find_element_by_css_selector(\"a > div > div > div > picture > img\").get_attribute(\"src\")\n",
    "    \n",
    "    dic_total_prod[\"product_name\"] = url.find_element_by_css_selector(\"div > div > a > span\").text\n",
    "    \n",
    "    dic_total_prod[\"price\"] = url.find_element_by_css_selector(\"div > div > div.product-grid-product-info__price.price > span\").text\n",
    "    \n",
    "    lst_dic_total_prod.append(dic_total_prod)\n",
    "\n",
    "print(lst_dic_total_prod)\n",
    "                     "
   ]
  },
  {
   "cell_type": "code",
   "execution_count": null,
   "id": "assigned-circular",
   "metadata": {},
   "outputs": [],
   "source": [
    "# Task 3\n",
    "#def search_total_products(search_terms, driver):\n",
    "    \"\"\"\n",
    "    Output: list of dic [{\"url\": [] ,\"image\": [],\"product_name\": [], \"price\": []}]\n",
    "    \"\"\""
   ]
  },
  {
   "cell_type": "code",
   "execution_count": 153,
   "id": "previous-brush",
   "metadata": {},
   "outputs": [],
   "source": [
    "def search_total_products(search_terms, driver):\n",
    "\n",
    "    driver.get(\"https://www.zara.com/es/es/search\")\n",
    "    sleep(1)\n",
    "    try:\n",
    "        driver = webdriver.Chrome(\"./chromedriver\")\n",
    "\n",
    "        driver.get(\"https://www.zara.com/es/es/search\")\n",
    "        sleep(1)\n",
    "\n",
    "        driver.find_element_by_id(\"onetrust-accept-btn-handler\").click()\n",
    "        sleep(1)\n",
    "        search = driver.find_element_by_id(\"search-term\")\n",
    "        search.click()\n",
    "        search.send_keys(search_terms)\n",
    "        sleep(1)\n",
    "        all_url_prod = driver.find_elements_by_css_selector(\"#products > ul > section > ul > li\")\n",
    "\n",
    "        lst_dic_total_prod = []\n",
    "\n",
    "        for url in all_url_prod:\n",
    "\n",
    "            dic_total_prod = {\"url\": [] ,\"image\": [],\"product_name\": [], \"price\": []}\n",
    "\n",
    "\n",
    "            dic_total_prod[\"url\"] = url.find_element_by_css_selector(\"div > div > a\").get_attribute(\"href\")\n",
    "\n",
    "            dic_total_prod[\"image\"] = url.find_element_by_css_selector(\"a > div > div > div > picture > img\").get_attribute(\"src\")\n",
    "\n",
    "            dic_total_prod[\"product_name\"] = url.find_element_by_css_selector(\"div > div > a > span\").text\n",
    "\n",
    "            dic_total_prod[\"price\"] = url.find_element_by_css_selector(\"div > div > div.product-grid-product-info__price.price > span\").text\n",
    "\n",
    "            lst_dic_total_prod.append(dic_total_prod)\n",
    "\n",
    "        return lst_dic_total_prod\n",
    "                     \n",
    "    except:\n",
    "        sleep(1)\n",
    "        search = driver.find_element_by_id(\"search-term\")\n",
    "        search.click()\n",
    "        search.send_keys(search_terms)\n",
    "        sleep(1)\n",
    "        all_url_prod = driver.find_elements_by_css_selector(\"#products > ul > section > ul > li\")\n",
    "\n",
    "        lst_dic_total_prod = []\n",
    "\n",
    "        for url in all_url_prod:\n",
    "\n",
    "            dic_total_prod = {\"url\": [] ,\"image\": [],\"product_name\": [], \"price\": []}\n",
    "\n",
    "\n",
    "            dic_total_prod[\"url\"] = url.find_element_by_css_selector(\"div > div > a\").get_attribute(\"href\")\n",
    "\n",
    "            dic_total_prod[\"image\"] = url.find_element_by_css_selector(\"a > div > div > div > picture > img\").get_attribute(\"src\")\n",
    "\n",
    "            dic_total_prod[\"product_name\"] = url.find_element_by_css_selector(\"div > div > a > span\").text\n",
    "\n",
    "            dic_total_prod[\"price\"] = url.find_element_by_css_selector(\"div > div > div.product-grid-product-info__price.price > span\").text\n",
    "\n",
    "            lst_dic_total_prod.append(dic_total_prod)\n",
    "\n",
    "        return lst_dic_total_prod"
   ]
  },
  {
   "cell_type": "code",
   "execution_count": 161,
   "id": "meaning-livestock",
   "metadata": {},
   "outputs": [],
   "source": [
    "# Function testing\n",
    "driver = webdriver.Chrome(\"./chromedriver\")\n",
    "productos = search_total_products(\"6045/066\", driver)"
   ]
  },
  {
   "cell_type": "code",
   "execution_count": 165,
   "id": "neural-probe",
   "metadata": {},
   "outputs": [
    {
     "data": {
      "text/plain": [
       "[{'url': 'https://www.zara.com/es/es/jeans-zw-premium-the-pepper-mom-p06045066.html',\n",
       "  'image': 'https://static.zara.net/photos///2021/V/0/1/p/6045/066/406/3/w/400/6045066406_1_1_1.jpg?ts=1614678053116',\n",
       "  'product_name': 'JEANS ZW PREMIUM THE PEPPER MOM',\n",
       "  'price': '29,95 EUR'},\n",
       " {'url': 'https://www.zara.com/es/es/jeans-zw-premium-the-pepper-mom-p06045066.html',\n",
       "  'image': 'https://static.zara.net/photos///2021/V/0/1/p/6045/066/400/3/w/400/6045066400_1_1_1.jpg?ts=1614682560535',\n",
       "  'product_name': 'JEANS ZW PREMIUM THE PEPPER MOM',\n",
       "  'price': '29,95 EUR'}]"
      ]
     },
     "execution_count": 165,
     "metadata": {},
     "output_type": "execute_result"
    }
   ],
   "source": [
    "productos"
   ]
  },
  {
   "cell_type": "code",
   "execution_count": null,
   "id": "municipal-strip",
   "metadata": {},
   "outputs": [],
   "source": []
  },
  {
   "cell_type": "code",
   "execution_count": null,
   "id": "polar-raising",
   "metadata": {},
   "outputs": [],
   "source": []
  }
 ],
 "metadata": {
  "kernelspec": {
   "display_name": "Python 3",
   "language": "python",
   "name": "python3"
  },
  "language_info": {
   "codemirror_mode": {
    "name": "ipython",
    "version": 3
   },
   "file_extension": ".py",
   "mimetype": "text/x-python",
   "name": "python",
   "nbconvert_exporter": "python",
   "pygments_lexer": "ipython3",
   "version": "3.9.1"
  }
 },
 "nbformat": 4,
 "nbformat_minor": 5
}
