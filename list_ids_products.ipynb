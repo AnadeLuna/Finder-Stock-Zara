{
 "cells": [
  {
   "cell_type": "markdown",
   "id": "convinced-notebook",
   "metadata": {},
   "source": [
    "# Steps:"
   ]
  },
  {
   "cell_type": "code",
   "execution_count": 47,
   "id": "national-sharing",
   "metadata": {},
   "outputs": [],
   "source": [
    "# Implementations:\n",
    "# Funtion1 to get the urls.\n",
    "# Funtion2 to get one id_product and id_color.\n",
    "# Funtion3 to all the id_product and id_color (Funtion1 + Funtion2)."
   ]
  },
  {
   "cell_type": "markdown",
   "id": "located-slovak",
   "metadata": {},
   "source": [
    "### Step by Step"
   ]
  },
  {
   "cell_type": "markdown",
   "id": "pointed-survivor",
   "metadata": {},
   "source": [
    "1º Import the Libreries."
   ]
  },
  {
   "cell_type": "code",
   "execution_count": 16,
   "id": "becoming-mistake",
   "metadata": {},
   "outputs": [],
   "source": [
    "from selenium import webdriver\n",
    "from time import sleep"
   ]
  },
  {
   "cell_type": "markdown",
   "id": "mineral-sleeve",
   "metadata": {},
   "source": [
    "2º Conect with Chrome "
   ]
  },
  {
   "cell_type": "code",
   "execution_count": 68,
   "id": "resistant-witness",
   "metadata": {},
   "outputs": [],
   "source": [
    "driver = webdriver.Chrome(\"./chromedriver\")"
   ]
  },
  {
   "cell_type": "markdown",
   "id": "visible-tenant",
   "metadata": {},
   "source": [
    "3º Conect with  Zara´s search."
   ]
  },
  {
   "cell_type": "code",
   "execution_count": 69,
   "id": "explicit-franklin",
   "metadata": {},
   "outputs": [],
   "source": [
    "driver.get(\"https://www.zara.com/es/es/search\")"
   ]
  },
  {
   "cell_type": "code",
   "execution_count": 70,
   "id": "clear-monitoring",
   "metadata": {},
   "outputs": [],
   "source": [
    "#time sleep\n",
    "sleep(1)"
   ]
  },
  {
   "cell_type": "markdown",
   "id": "presidential-making",
   "metadata": {},
   "source": [
    "4º Accept web cookies."
   ]
  },
  {
   "cell_type": "code",
   "execution_count": 71,
   "id": "abstract-magic",
   "metadata": {},
   "outputs": [],
   "source": [
    "driver.find_element_by_id(\"onetrust-accept-btn-handler\").click()"
   ]
  },
  {
   "cell_type": "code",
   "execution_count": 72,
   "id": "incomplete-catch",
   "metadata": {},
   "outputs": [],
   "source": [
    "#time sleep\n",
    "sleep(1)"
   ]
  },
  {
   "cell_type": "markdown",
   "id": "korean-classroom",
   "metadata": {},
   "source": [
    "5º Mark the cursor in the search engine."
   ]
  },
  {
   "cell_type": "code",
   "execution_count": 73,
   "id": "floppy-hearing",
   "metadata": {},
   "outputs": [],
   "source": [
    "search = driver.find_element_by_id(\"search-term\")"
   ]
  },
  {
   "cell_type": "markdown",
   "id": "weird-avatar",
   "metadata": {},
   "source": [
    "6º Click in the search engine."
   ]
  },
  {
   "cell_type": "code",
   "execution_count": 74,
   "id": "visible-likelihood",
   "metadata": {},
   "outputs": [],
   "source": [
    "search.click()"
   ]
  },
  {
   "cell_type": "code",
   "execution_count": 75,
   "id": "internal-chester",
   "metadata": {},
   "outputs": [],
   "source": [
    "#dir(driver)\n",
    "#dir(search)"
   ]
  },
  {
   "cell_type": "markdown",
   "id": "rubber-cuisine",
   "metadata": {},
   "source": [
    "7º Introduce key words."
   ]
  },
  {
   "cell_type": "code",
   "execution_count": 76,
   "id": "meaningful-reminder",
   "metadata": {},
   "outputs": [],
   "source": [
    "search.send_keys(\"cazadora amarilla mujer\")"
   ]
  },
  {
   "cell_type": "code",
   "execution_count": 77,
   "id": "palestinian-syntax",
   "metadata": {},
   "outputs": [],
   "source": [
    "#time sleep\n",
    "sleep(1)"
   ]
  },
  {
   "cell_type": "markdown",
   "id": "cloudy-access",
   "metadata": {},
   "source": [
    "8º Find the urls of products."
   ]
  },
  {
   "cell_type": "code",
   "execution_count": 78,
   "id": "fatal-cooper",
   "metadata": {},
   "outputs": [],
   "source": [
    "all_url_prod = driver.find_elements_by_css_selector(\"#products > ul > section > ul > li\")"
   ]
  },
  {
   "cell_type": "markdown",
   "id": "rising-professor",
   "metadata": {},
   "source": [
    "9º Created a list with the diferents urls."
   ]
  },
  {
   "cell_type": "code",
   "execution_count": 79,
   "id": "falling-football",
   "metadata": {
    "scrolled": false
   },
   "outputs": [
    {
     "data": {
      "text/plain": [
       "['https://www.zara.com/es/es/cazadora-cropped-acolchada-water-repellent-p03427741.html',\n",
       " 'https://www.zara.com/es/es/chubasquero-crop-combinado-p04391733.html',\n",
       " 'https://www.zara.com/es/es/sobrecamisa-bolsillo-plastr%C3%B3n-p08891293.html',\n",
       " 'https://www.zara.com/es/es/chaqueta-bordada-abalorios-p05107060.html',\n",
       " 'https://www.zara.com/es/es/chaleco-water-repellent-embolsable-p03427751.html',\n",
       " 'https://www.zara.com/es/es/sobrecamisa-estampada-bolsillos-p06895070.html',\n",
       " 'https://www.zara.com/es/es/trench-cordones-combinados-p00518263.html',\n",
       " 'https://www.zara.com/es/es/abrigo-largo-punto-p05755149.html',\n",
       " 'https://www.zara.com/es/es/sudadera-acolchada-water-repellent-p05320706.html']"
      ]
     },
     "execution_count": 79,
     "metadata": {},
     "output_type": "execute_result"
    }
   ],
   "source": [
    "#Ejample urls:\n",
    "lst_urls = []\n",
    "for url in all_url_prod:\n",
    "    #print(url.find_element_by_css_selector(\"div > div > a\").get_attribute(\"href\"))\n",
    "    lst_urls.append(url.find_element_by_css_selector(\"div > div > a\").get_attribute(\"href\"))\n",
    "lst_urls"
   ]
  },
  {
   "cell_type": "markdown",
   "id": "industrial-spring",
   "metadata": {},
   "source": [
    "10º Get the firt url."
   ]
  },
  {
   "cell_type": "code",
   "execution_count": 80,
   "id": "recent-stevens",
   "metadata": {
    "scrolled": true
   },
   "outputs": [],
   "source": [
    "# First url\n",
    "driver.get(lst_urls[0])"
   ]
  },
  {
   "cell_type": "markdown",
   "id": "outside-steel",
   "metadata": {},
   "source": [
    "11º Select and click `Origen, materiales & cuidados `."
   ]
  },
  {
   "cell_type": "code",
   "execution_count": 81,
   "id": "connected-credit",
   "metadata": {},
   "outputs": [],
   "source": [
    "driver.find_element_by_class_name(\"product-detail-actions__action-button\").click()"
   ]
  },
  {
   "cell_type": "markdown",
   "id": "desperate-limitation",
   "metadata": {},
   "source": [
    "12º Select ids products."
   ]
  },
  {
   "cell_type": "code",
   "execution_count": 82,
   "id": "julian-soldier",
   "metadata": {
    "scrolled": false
   },
   "outputs": [
    {
     "data": {
      "text/plain": [
       "<selenium.webdriver.remote.webelement.WebElement (session=\"04f66d94570dff393476c52cf5d9f3b5\", element=\"a1285a79-9a7a-442e-8fda-f4be28c90c3e\")>"
      ]
     },
     "execution_count": 82,
     "metadata": {},
     "output_type": "execute_result"
    }
   ],
   "source": [
    "id_prod = driver.find_element_by_css_selector(\"#theme-modal-container > div > div > div > div > div.modal__body.modal__body--spacer-bottom > p\")\n",
    "id_prod"
   ]
  },
  {
   "cell_type": "code",
   "execution_count": 83,
   "id": "rough-david",
   "metadata": {},
   "outputs": [],
   "source": [
    "#dir(id_prod)\n",
    "#id_prod.get_attribute(\"innerHTML\") \n",
    "#(you can see the html code down this cell)"
   ]
  },
  {
   "attachments": {},
   "cell_type": "markdown",
   "id": "positive-roulette",
   "metadata": {},
   "source": [
    "<p class=\"product-detail-side-info-modal__product-info-text\"><span\n",
    "        class=\"product-detail-side-info-modal__product-info-title\"><span>ID</span></span><span> _ 3427/741</span></p>\n",
    "<p class=\"product-detail-side-info-modal__product-info-text\"><span\n",
    "        class=\"product-detail-side-info-modal__product-info-title\"><span>Color</span></span><span> _ 320 Amarillo\n",
    "        limón</span></p>\n",
    "<p class=\"product-detail-side-info-modal__product-info-text\"><span\n",
    "        class=\"product-detail-side-info-modal__product-info-title\"><span>Sección</span></span><span> _ Mujer</span></p>"
   ]
  },
  {
   "cell_type": "markdown",
   "id": "knowing-thumbnail",
   "metadata": {},
   "source": [
    "13º Select only the first two products."
   ]
  },
  {
   "cell_type": "code",
   "execution_count": 84,
   "id": "congressional-louisiana",
   "metadata": {
    "scrolled": true
   },
   "outputs": [
    {
     "data": {
      "text/plain": [
       "[<selenium.webdriver.remote.webelement.WebElement (session=\"04f66d94570dff393476c52cf5d9f3b5\", element=\"d60ec3ea-dbe6-4684-893f-bab2598fce9c\")>,\n",
       " <selenium.webdriver.remote.webelement.WebElement (session=\"04f66d94570dff393476c52cf5d9f3b5\", element=\"526c22c0-517f-4d91-98cc-b9ae2d563d67\")>]"
      ]
     },
     "execution_count": 84,
     "metadata": {},
     "output_type": "execute_result"
    }
   ],
   "source": [
    "ids_prod = id_prod.find_elements_by_css_selector(\"p\")[:2]\n",
    "ids_prod"
   ]
  },
  {
   "cell_type": "markdown",
   "id": "ideal-greeting",
   "metadata": {},
   "source": [
    "14º Extract just the numbers ids:"
   ]
  },
  {
   "cell_type": "code",
   "execution_count": 85,
   "id": "nasty-james",
   "metadata": {},
   "outputs": [
    {
     "data": {
      "text/plain": [
       "[' 3427/741', ' 320 Amarillo limón']"
      ]
     },
     "execution_count": 85,
     "metadata": {},
     "output_type": "execute_result"
    }
   ],
   "source": [
    "ids_prod = [element.text.split(\"_\")[-1] for element in ids_prod ]\n",
    "ids_prod"
   ]
  },
  {
   "cell_type": "code",
   "execution_count": 86,
   "id": "controlling-jesus",
   "metadata": {},
   "outputs": [
    {
     "data": {
      "text/plain": [
       "['3427741', '320']"
      ]
     },
     "execution_count": 86,
     "metadata": {},
     "output_type": "execute_result"
    }
   ],
   "source": [
    "lst_ids_prod = [\"\".join([caracter for caracter in element if caracter.isnumeric()]) for element in ids_prod]\n",
    "lst_ids_prod"
   ]
  },
  {
   "cell_type": "markdown",
   "id": "signal-bandwidth",
   "metadata": {},
   "source": [
    "## Start with Funtions:"
   ]
  },
  {
   "cell_type": "code",
   "execution_count": null,
   "id": "adequate-enhancement",
   "metadata": {},
   "outputs": [],
   "source": []
  },
  {
   "cell_type": "code",
   "execution_count": null,
   "id": "criminal-intellectual",
   "metadata": {},
   "outputs": [],
   "source": []
  },
  {
   "cell_type": "markdown",
   "id": "chicken-disclaimer",
   "metadata": {},
   "source": [
    "1º"
   ]
  },
  {
   "cell_type": "code",
   "execution_count": null,
   "id": "generic-armor",
   "metadata": {},
   "outputs": [],
   "source": [
    "# Task 1\n",
    "#def get_prod_id(prod_url, driver):\n",
    "    \"\"\"\n",
    "    Input: \"https://www.zara.com/es/es/cazadora-cropped-acolchada-water-repellent-p03427741.html\", driver\n",
    "    Output: ['3427741', '320']\n",
    "    \"\"\"\n",
    "    #pass"
   ]
  },
  {
   "cell_type": "code",
   "execution_count": 12,
   "id": "julian-automation",
   "metadata": {},
   "outputs": [],
   "source": [
    "def get_prod_id(prod_url, driver):\n",
    "    \n",
    "    driver.get(prod_url)\n",
    "    sleep(1)\n",
    "    try: \n",
    "        driver.find_element_by_id(\"onetrust-accept-btn-handler\").click()\n",
    "        sleep(1)\n",
    "        driver.find_element_by_class_name(\"product-detail-actions__action-button\").click()\n",
    "        sleep(1)\n",
    "        ids_prod = driver.find_element_by_css_selector(\"#theme-modal-container > div > div > div > div > div.modal__body.modal__body--spacer-bottom > p\")\n",
    "\n",
    "        ids_prod = ids_prod.find_elements_by_css_selector(\"p\")[:2]\n",
    "        ids_prod = [element.text.split(\"_\")[-1] for element in ids_prod ]\n",
    "        \n",
    "        lst_ids_prod = [\"\".join([caracter for caracter in element if caracter.isnumeric()]) for element in ids_prod]\n",
    "\n",
    "        return lst_ids_prod\n",
    "    except:\n",
    "        \n",
    "        driver.find_element_by_class_name(\"product-detail-actions__action-button\").click()\n",
    "        sleep(1)\n",
    "        ids_prod = driver.find_element_by_css_selector(\"#theme-modal-container > div > div > div > div > div.modal__body.modal__body--spacer-bottom > p\")\n",
    "\n",
    "        ids_prod = ids_prod.find_elements_by_css_selector(\"p\")[:2]\n",
    "        ids_prod = [element.text.split(\"_\")[-1] for element in ids_prod ]\n",
    "        \n",
    "        lst_ids_prod = [\"\".join([caracter for caracter in element if caracter.isnumeric()]) for element in ids_prod]\n",
    "\n",
    "        return lst_ids_prod\n",
    "       "
   ]
  },
  {
   "cell_type": "code",
   "execution_count": 11,
   "id": "returning-gabriel",
   "metadata": {},
   "outputs": [
    {
     "ename": "ElementNotInteractableException",
     "evalue": "Message: element not interactable\n  (Session info: chrome=89.0.4389.72)\n",
     "output_type": "error",
     "traceback": [
      "\u001b[0;31m---------------------------------------------------------------------------\u001b[0m",
      "\u001b[0;31mElementNotInteractableException\u001b[0m           Traceback (most recent call last)",
      "\u001b[0;32m<ipython-input-10-b530f07c5859>\u001b[0m in \u001b[0;36mget_prod_id\u001b[0;34m(prod_url, driver)\u001b[0m\n\u001b[1;32m      7\u001b[0m         \u001b[0msleep\u001b[0m\u001b[0;34m(\u001b[0m\u001b[0;36m1\u001b[0m\u001b[0;34m)\u001b[0m\u001b[0;34m\u001b[0m\u001b[0;34m\u001b[0m\u001b[0m\n\u001b[0;32m----> 8\u001b[0;31m         \u001b[0mdriver\u001b[0m\u001b[0;34m.\u001b[0m\u001b[0mfind_element_by_class_name\u001b[0m\u001b[0;34m(\u001b[0m\u001b[0;34m\"product-detail-actions__action-button\"\u001b[0m\u001b[0;34m)\u001b[0m\u001b[0;34m.\u001b[0m\u001b[0mclick\u001b[0m\u001b[0;34m(\u001b[0m\u001b[0;34m)\u001b[0m\u001b[0;34m\u001b[0m\u001b[0;34m\u001b[0m\u001b[0m\n\u001b[0m\u001b[1;32m      9\u001b[0m         \u001b[0msleep\u001b[0m\u001b[0;34m(\u001b[0m\u001b[0;36m1\u001b[0m\u001b[0;34m)\u001b[0m\u001b[0;34m\u001b[0m\u001b[0;34m\u001b[0m\u001b[0m\n",
      "\u001b[0;32m/usr/local/lib/python3.9/site-packages/selenium/webdriver/remote/webelement.py\u001b[0m in \u001b[0;36mclick\u001b[0;34m(self)\u001b[0m\n\u001b[1;32m     79\u001b[0m         \u001b[0;34m\"\"\"Clicks the element.\"\"\"\u001b[0m\u001b[0;34m\u001b[0m\u001b[0;34m\u001b[0m\u001b[0m\n\u001b[0;32m---> 80\u001b[0;31m         \u001b[0mself\u001b[0m\u001b[0;34m.\u001b[0m\u001b[0m_execute\u001b[0m\u001b[0;34m(\u001b[0m\u001b[0mCommand\u001b[0m\u001b[0;34m.\u001b[0m\u001b[0mCLICK_ELEMENT\u001b[0m\u001b[0;34m)\u001b[0m\u001b[0;34m\u001b[0m\u001b[0;34m\u001b[0m\u001b[0m\n\u001b[0m\u001b[1;32m     81\u001b[0m \u001b[0;34m\u001b[0m\u001b[0m\n",
      "\u001b[0;32m/usr/local/lib/python3.9/site-packages/selenium/webdriver/remote/webelement.py\u001b[0m in \u001b[0;36m_execute\u001b[0;34m(self, command, params)\u001b[0m\n\u001b[1;32m    632\u001b[0m         \u001b[0mparams\u001b[0m\u001b[0;34m[\u001b[0m\u001b[0;34m'id'\u001b[0m\u001b[0;34m]\u001b[0m \u001b[0;34m=\u001b[0m \u001b[0mself\u001b[0m\u001b[0;34m.\u001b[0m\u001b[0m_id\u001b[0m\u001b[0;34m\u001b[0m\u001b[0;34m\u001b[0m\u001b[0m\n\u001b[0;32m--> 633\u001b[0;31m         \u001b[0;32mreturn\u001b[0m \u001b[0mself\u001b[0m\u001b[0;34m.\u001b[0m\u001b[0m_parent\u001b[0m\u001b[0;34m.\u001b[0m\u001b[0mexecute\u001b[0m\u001b[0;34m(\u001b[0m\u001b[0mcommand\u001b[0m\u001b[0;34m,\u001b[0m \u001b[0mparams\u001b[0m\u001b[0;34m)\u001b[0m\u001b[0;34m\u001b[0m\u001b[0;34m\u001b[0m\u001b[0m\n\u001b[0m\u001b[1;32m    634\u001b[0m \u001b[0;34m\u001b[0m\u001b[0m\n",
      "\u001b[0;32m/usr/local/lib/python3.9/site-packages/selenium/webdriver/remote/webdriver.py\u001b[0m in \u001b[0;36mexecute\u001b[0;34m(self, driver_command, params)\u001b[0m\n\u001b[1;32m    320\u001b[0m         \u001b[0;32mif\u001b[0m \u001b[0mresponse\u001b[0m\u001b[0;34m:\u001b[0m\u001b[0;34m\u001b[0m\u001b[0;34m\u001b[0m\u001b[0m\n\u001b[0;32m--> 321\u001b[0;31m             \u001b[0mself\u001b[0m\u001b[0;34m.\u001b[0m\u001b[0merror_handler\u001b[0m\u001b[0;34m.\u001b[0m\u001b[0mcheck_response\u001b[0m\u001b[0;34m(\u001b[0m\u001b[0mresponse\u001b[0m\u001b[0;34m)\u001b[0m\u001b[0;34m\u001b[0m\u001b[0;34m\u001b[0m\u001b[0m\n\u001b[0m\u001b[1;32m    322\u001b[0m             response['value'] = self._unwrap_value(\n",
      "\u001b[0;32m/usr/local/lib/python3.9/site-packages/selenium/webdriver/remote/errorhandler.py\u001b[0m in \u001b[0;36mcheck_response\u001b[0;34m(self, response)\u001b[0m\n\u001b[1;32m    241\u001b[0m             \u001b[0;32mraise\u001b[0m \u001b[0mexception_class\u001b[0m\u001b[0;34m(\u001b[0m\u001b[0mmessage\u001b[0m\u001b[0;34m,\u001b[0m \u001b[0mscreen\u001b[0m\u001b[0;34m,\u001b[0m \u001b[0mstacktrace\u001b[0m\u001b[0;34m,\u001b[0m \u001b[0malert_text\u001b[0m\u001b[0;34m)\u001b[0m\u001b[0;34m\u001b[0m\u001b[0;34m\u001b[0m\u001b[0m\n\u001b[0;32m--> 242\u001b[0;31m         \u001b[0;32mraise\u001b[0m \u001b[0mexception_class\u001b[0m\u001b[0;34m(\u001b[0m\u001b[0mmessage\u001b[0m\u001b[0;34m,\u001b[0m \u001b[0mscreen\u001b[0m\u001b[0;34m,\u001b[0m \u001b[0mstacktrace\u001b[0m\u001b[0;34m)\u001b[0m\u001b[0;34m\u001b[0m\u001b[0;34m\u001b[0m\u001b[0m\n\u001b[0m\u001b[1;32m    243\u001b[0m \u001b[0;34m\u001b[0m\u001b[0m\n",
      "\u001b[0;31mElementNotInteractableException\u001b[0m: Message: element not interactable\n  (Session info: chrome=89.0.4389.72)\n",
      "\nDuring handling of the above exception, another exception occurred:\n",
      "\u001b[0;31mElementNotInteractableException\u001b[0m           Traceback (most recent call last)",
      "\u001b[0;32m<ipython-input-11-8519d57babd8>\u001b[0m in \u001b[0;36m<module>\u001b[0;34m\u001b[0m\n\u001b[1;32m      1\u001b[0m \u001b[0;31m# Function testing\u001b[0m\u001b[0;34m\u001b[0m\u001b[0;34m\u001b[0m\u001b[0;34m\u001b[0m\u001b[0m\n\u001b[1;32m      2\u001b[0m \u001b[0mdriver\u001b[0m \u001b[0;34m=\u001b[0m \u001b[0mwebdriver\u001b[0m\u001b[0;34m.\u001b[0m\u001b[0mChrome\u001b[0m\u001b[0;34m(\u001b[0m\u001b[0;34m\"./chromedriver\"\u001b[0m\u001b[0;34m)\u001b[0m\u001b[0;34m\u001b[0m\u001b[0;34m\u001b[0m\u001b[0m\n\u001b[0;32m----> 3\u001b[0;31m \u001b[0mget_prod_id\u001b[0m\u001b[0;34m(\u001b[0m\u001b[0;34m\"https://www.zara.com/es/es/camiseta-inicial-p00085350.html?v1=97283036&v2=1718817\"\u001b[0m\u001b[0;34m,\u001b[0m \u001b[0mdriver\u001b[0m\u001b[0;34m)\u001b[0m\u001b[0;34m\u001b[0m\u001b[0;34m\u001b[0m\u001b[0m\n\u001b[0m",
      "\u001b[0;32m<ipython-input-10-b530f07c5859>\u001b[0m in \u001b[0;36mget_prod_id\u001b[0;34m(prod_url, driver)\u001b[0m\n\u001b[1;32m     16\u001b[0m     \u001b[0;32mexcept\u001b[0m\u001b[0;34m:\u001b[0m\u001b[0;34m\u001b[0m\u001b[0;34m\u001b[0m\u001b[0m\n\u001b[1;32m     17\u001b[0m \u001b[0;34m\u001b[0m\u001b[0m\n\u001b[0;32m---> 18\u001b[0;31m         \u001b[0mdriver\u001b[0m\u001b[0;34m.\u001b[0m\u001b[0mfind_element_by_class_name\u001b[0m\u001b[0;34m(\u001b[0m\u001b[0;34m\"product-detail-actions__action-button\"\u001b[0m\u001b[0;34m)\u001b[0m\u001b[0;34m.\u001b[0m\u001b[0mclick\u001b[0m\u001b[0;34m(\u001b[0m\u001b[0;34m)\u001b[0m\u001b[0;34m\u001b[0m\u001b[0;34m\u001b[0m\u001b[0m\n\u001b[0m\u001b[1;32m     19\u001b[0m         \u001b[0msleep\u001b[0m\u001b[0;34m(\u001b[0m\u001b[0;36m1\u001b[0m\u001b[0;34m)\u001b[0m\u001b[0;34m\u001b[0m\u001b[0;34m\u001b[0m\u001b[0m\n\u001b[1;32m     20\u001b[0m         \u001b[0mids_prod\u001b[0m \u001b[0;34m=\u001b[0m \u001b[0mdriver\u001b[0m\u001b[0;34m.\u001b[0m\u001b[0mfind_element_by_css_selector\u001b[0m\u001b[0;34m(\u001b[0m\u001b[0;34m\"#theme-modal-container > div > div > div > div > div.modal__body.modal__body--spacer-bottom > p\"\u001b[0m\u001b[0;34m)\u001b[0m\u001b[0;34m\u001b[0m\u001b[0;34m\u001b[0m\u001b[0m\n",
      "\u001b[0;32m/usr/local/lib/python3.9/site-packages/selenium/webdriver/remote/webelement.py\u001b[0m in \u001b[0;36mclick\u001b[0;34m(self)\u001b[0m\n\u001b[1;32m     78\u001b[0m     \u001b[0;32mdef\u001b[0m \u001b[0mclick\u001b[0m\u001b[0;34m(\u001b[0m\u001b[0mself\u001b[0m\u001b[0;34m)\u001b[0m\u001b[0;34m:\u001b[0m\u001b[0;34m\u001b[0m\u001b[0;34m\u001b[0m\u001b[0m\n\u001b[1;32m     79\u001b[0m         \u001b[0;34m\"\"\"Clicks the element.\"\"\"\u001b[0m\u001b[0;34m\u001b[0m\u001b[0;34m\u001b[0m\u001b[0m\n\u001b[0;32m---> 80\u001b[0;31m         \u001b[0mself\u001b[0m\u001b[0;34m.\u001b[0m\u001b[0m_execute\u001b[0m\u001b[0;34m(\u001b[0m\u001b[0mCommand\u001b[0m\u001b[0;34m.\u001b[0m\u001b[0mCLICK_ELEMENT\u001b[0m\u001b[0;34m)\u001b[0m\u001b[0;34m\u001b[0m\u001b[0;34m\u001b[0m\u001b[0m\n\u001b[0m\u001b[1;32m     81\u001b[0m \u001b[0;34m\u001b[0m\u001b[0m\n\u001b[1;32m     82\u001b[0m     \u001b[0;32mdef\u001b[0m \u001b[0msubmit\u001b[0m\u001b[0;34m(\u001b[0m\u001b[0mself\u001b[0m\u001b[0;34m)\u001b[0m\u001b[0;34m:\u001b[0m\u001b[0;34m\u001b[0m\u001b[0;34m\u001b[0m\u001b[0m\n",
      "\u001b[0;32m/usr/local/lib/python3.9/site-packages/selenium/webdriver/remote/webelement.py\u001b[0m in \u001b[0;36m_execute\u001b[0;34m(self, command, params)\u001b[0m\n\u001b[1;32m    631\u001b[0m             \u001b[0mparams\u001b[0m \u001b[0;34m=\u001b[0m \u001b[0;34m{\u001b[0m\u001b[0;34m}\u001b[0m\u001b[0;34m\u001b[0m\u001b[0;34m\u001b[0m\u001b[0m\n\u001b[1;32m    632\u001b[0m         \u001b[0mparams\u001b[0m\u001b[0;34m[\u001b[0m\u001b[0;34m'id'\u001b[0m\u001b[0;34m]\u001b[0m \u001b[0;34m=\u001b[0m \u001b[0mself\u001b[0m\u001b[0;34m.\u001b[0m\u001b[0m_id\u001b[0m\u001b[0;34m\u001b[0m\u001b[0;34m\u001b[0m\u001b[0m\n\u001b[0;32m--> 633\u001b[0;31m         \u001b[0;32mreturn\u001b[0m \u001b[0mself\u001b[0m\u001b[0;34m.\u001b[0m\u001b[0m_parent\u001b[0m\u001b[0;34m.\u001b[0m\u001b[0mexecute\u001b[0m\u001b[0;34m(\u001b[0m\u001b[0mcommand\u001b[0m\u001b[0;34m,\u001b[0m \u001b[0mparams\u001b[0m\u001b[0;34m)\u001b[0m\u001b[0;34m\u001b[0m\u001b[0;34m\u001b[0m\u001b[0m\n\u001b[0m\u001b[1;32m    634\u001b[0m \u001b[0;34m\u001b[0m\u001b[0m\n\u001b[1;32m    635\u001b[0m     \u001b[0;32mdef\u001b[0m \u001b[0mfind_element\u001b[0m\u001b[0;34m(\u001b[0m\u001b[0mself\u001b[0m\u001b[0;34m,\u001b[0m \u001b[0mby\u001b[0m\u001b[0;34m=\u001b[0m\u001b[0mBy\u001b[0m\u001b[0;34m.\u001b[0m\u001b[0mID\u001b[0m\u001b[0;34m,\u001b[0m \u001b[0mvalue\u001b[0m\u001b[0;34m=\u001b[0m\u001b[0;32mNone\u001b[0m\u001b[0;34m)\u001b[0m\u001b[0;34m:\u001b[0m\u001b[0;34m\u001b[0m\u001b[0;34m\u001b[0m\u001b[0m\n",
      "\u001b[0;32m/usr/local/lib/python3.9/site-packages/selenium/webdriver/remote/webdriver.py\u001b[0m in \u001b[0;36mexecute\u001b[0;34m(self, driver_command, params)\u001b[0m\n\u001b[1;32m    319\u001b[0m         \u001b[0mresponse\u001b[0m \u001b[0;34m=\u001b[0m \u001b[0mself\u001b[0m\u001b[0;34m.\u001b[0m\u001b[0mcommand_executor\u001b[0m\u001b[0;34m.\u001b[0m\u001b[0mexecute\u001b[0m\u001b[0;34m(\u001b[0m\u001b[0mdriver_command\u001b[0m\u001b[0;34m,\u001b[0m \u001b[0mparams\u001b[0m\u001b[0;34m)\u001b[0m\u001b[0;34m\u001b[0m\u001b[0;34m\u001b[0m\u001b[0m\n\u001b[1;32m    320\u001b[0m         \u001b[0;32mif\u001b[0m \u001b[0mresponse\u001b[0m\u001b[0;34m:\u001b[0m\u001b[0;34m\u001b[0m\u001b[0;34m\u001b[0m\u001b[0m\n\u001b[0;32m--> 321\u001b[0;31m             \u001b[0mself\u001b[0m\u001b[0;34m.\u001b[0m\u001b[0merror_handler\u001b[0m\u001b[0;34m.\u001b[0m\u001b[0mcheck_response\u001b[0m\u001b[0;34m(\u001b[0m\u001b[0mresponse\u001b[0m\u001b[0;34m)\u001b[0m\u001b[0;34m\u001b[0m\u001b[0;34m\u001b[0m\u001b[0m\n\u001b[0m\u001b[1;32m    322\u001b[0m             response['value'] = self._unwrap_value(\n\u001b[1;32m    323\u001b[0m                 response.get('value', None))\n",
      "\u001b[0;32m/usr/local/lib/python3.9/site-packages/selenium/webdriver/remote/errorhandler.py\u001b[0m in \u001b[0;36mcheck_response\u001b[0;34m(self, response)\u001b[0m\n\u001b[1;32m    240\u001b[0m                 \u001b[0malert_text\u001b[0m \u001b[0;34m=\u001b[0m \u001b[0mvalue\u001b[0m\u001b[0;34m[\u001b[0m\u001b[0;34m'alert'\u001b[0m\u001b[0;34m]\u001b[0m\u001b[0;34m.\u001b[0m\u001b[0mget\u001b[0m\u001b[0;34m(\u001b[0m\u001b[0;34m'text'\u001b[0m\u001b[0;34m)\u001b[0m\u001b[0;34m\u001b[0m\u001b[0;34m\u001b[0m\u001b[0m\n\u001b[1;32m    241\u001b[0m             \u001b[0;32mraise\u001b[0m \u001b[0mexception_class\u001b[0m\u001b[0;34m(\u001b[0m\u001b[0mmessage\u001b[0m\u001b[0;34m,\u001b[0m \u001b[0mscreen\u001b[0m\u001b[0;34m,\u001b[0m \u001b[0mstacktrace\u001b[0m\u001b[0;34m,\u001b[0m \u001b[0malert_text\u001b[0m\u001b[0;34m)\u001b[0m\u001b[0;34m\u001b[0m\u001b[0;34m\u001b[0m\u001b[0m\n\u001b[0;32m--> 242\u001b[0;31m         \u001b[0;32mraise\u001b[0m \u001b[0mexception_class\u001b[0m\u001b[0;34m(\u001b[0m\u001b[0mmessage\u001b[0m\u001b[0;34m,\u001b[0m \u001b[0mscreen\u001b[0m\u001b[0;34m,\u001b[0m \u001b[0mstacktrace\u001b[0m\u001b[0;34m)\u001b[0m\u001b[0;34m\u001b[0m\u001b[0;34m\u001b[0m\u001b[0m\n\u001b[0m\u001b[1;32m    243\u001b[0m \u001b[0;34m\u001b[0m\u001b[0m\n\u001b[1;32m    244\u001b[0m     \u001b[0;32mdef\u001b[0m \u001b[0m_value_or_default\u001b[0m\u001b[0;34m(\u001b[0m\u001b[0mself\u001b[0m\u001b[0;34m,\u001b[0m \u001b[0mobj\u001b[0m\u001b[0;34m,\u001b[0m \u001b[0mkey\u001b[0m\u001b[0;34m,\u001b[0m \u001b[0mdefault\u001b[0m\u001b[0;34m)\u001b[0m\u001b[0;34m:\u001b[0m\u001b[0;34m\u001b[0m\u001b[0;34m\u001b[0m\u001b[0m\n",
      "\u001b[0;31mElementNotInteractableException\u001b[0m: Message: element not interactable\n  (Session info: chrome=89.0.4389.72)\n"
     ]
    }
   ],
   "source": [
    "# Function testing\n",
    "driver = webdriver.Chrome(\"./chromedriver\")\n",
    "get_prod_id(\"https://www.zara.com/es/es/camiseta-inicial-p00085350.html?v1=97283036&v2=1718817\", driver)"
   ]
  },
  {
   "cell_type": "code",
   "execution_count": null,
   "id": "third-belgium",
   "metadata": {},
   "outputs": [],
   "source": [
    "driver = webdriver.Chrome(\"./chromedriver\")\n",
    "get_prod_id(\"https://www.zara.com/es/es/vestido-seamless-p07901389.html?v1=89766478&v2=1719442\", driver)"
   ]
  },
  {
   "cell_type": "code",
   "execution_count": null,
   "id": "developed-literature",
   "metadata": {},
   "outputs": [],
   "source": [
    "# Task 2\n",
    "#def search_products(search_terms, driver):\n",
    "    \"\"\"\n",
    "    Input: \"Cazadora amarilla\",driver\n",
    "    Output: [list of urls]\n",
    "    \"\"\"\n",
    "    pass"
   ]
  },
  {
   "cell_type": "code",
   "execution_count": 13,
   "id": "metropolitan-boring",
   "metadata": {},
   "outputs": [],
   "source": [
    "def search_products(search_terms, driver):\n",
    "\n",
    "    driver.get(\"https://www.zara.com/es/es/search\")\n",
    "    sleep(1)\n",
    "    try:\n",
    "        driver.find_element_by_id(\"onetrust-accept-btn-handler\").click()\n",
    "        sleep(1)\n",
    "        search = driver.find_element_by_id(\"search-term\")\n",
    "        search.click()\n",
    "        search.send_keys(search_terms)\n",
    "        sleep(1)\n",
    "        all_url_prod = driver.find_elements_by_css_selector(\"#products > ul > section > ul > li\")\n",
    "\n",
    "        lst_urls = []\n",
    "        for url in all_url_prod:\n",
    "            lst_urls.append(url.find_element_by_css_selector(\"div > div > a\").get_attribute(\"href\"))\n",
    "\n",
    "        return lst_urls\n",
    "    except:\n",
    "        sleep(1)\n",
    "        search = driver.find_element_by_id(\"search-term\")\n",
    "        search.click()\n",
    "        search.send_keys(search_terms)\n",
    "        sleep(1)\n",
    "        all_url_prod = driver.find_elements_by_css_selector(\"#products > ul > section > ul > li\")\n",
    "\n",
    "        lst_urls = []\n",
    "        for url in all_url_prod:\n",
    "            lst_urls.append(url.find_element_by_css_selector(\"div > div > a\").get_attribute(\"href\"))\n",
    "\n",
    "        return lst_urls"
   ]
  },
  {
   "cell_type": "code",
   "execution_count": null,
   "id": "cordless-wheat",
   "metadata": {},
   "outputs": [],
   "source": [
    "# Function testing\n",
    "driver = webdriver.Chrome(\"./chromedriver\")\n",
    "search_products(\"calcetines\", driver)"
   ]
  },
  {
   "cell_type": "code",
   "execution_count": null,
   "id": "honest-mileage",
   "metadata": {},
   "outputs": [],
   "source": [
    "# Task 3\n",
    "#def get_products(search_terms,driver):\n",
    "    \"\"\"\n",
    "    Output: list of lists [['3427741', '320'],['3423331', '320']]\n",
    "    \"\"\""
   ]
  },
  {
   "cell_type": "code",
   "execution_count": 14,
   "id": "plain-background",
   "metadata": {},
   "outputs": [],
   "source": [
    "def get_products(search_terms,driver):\n",
    "    \n",
    "    lst_ids = []\n",
    "    for prod_url in search_products(search_terms, driver):\n",
    "        #print(prod_url)\n",
    "        url_ids = get_prod_id(prod_url, driver)\n",
    "        #print(url_ids)\n",
    "        lst_ids.append(url_ids)   \n",
    "    return lst_ids"
   ]
  },
  {
   "cell_type": "code",
   "execution_count": 15,
   "id": "former-floor",
   "metadata": {},
   "outputs": [
    {
     "data": {
      "text/plain": [
       "[['0085048', '947']]"
      ]
     },
     "execution_count": 15,
     "metadata": {},
     "output_type": "execute_result"
    }
   ],
   "source": [
    "# Function testing\n",
    "driver = webdriver.Chrome(\"./chromedriver\")\n",
    "get_products(\"blusa amarilla\",driver)"
   ]
  },
  {
   "cell_type": "code",
   "execution_count": null,
   "id": "ordered-litigation",
   "metadata": {},
   "outputs": [],
   "source": []
  },
  {
   "cell_type": "code",
   "execution_count": null,
   "id": "peripheral-paradise",
   "metadata": {},
   "outputs": [],
   "source": []
  },
  {
   "cell_type": "code",
   "execution_count": null,
   "id": "pharmaceutical-florida",
   "metadata": {},
   "outputs": [],
   "source": []
  },
  {
   "cell_type": "code",
   "execution_count": null,
   "id": "dutch-consortium",
   "metadata": {},
   "outputs": [],
   "source": []
  },
  {
   "cell_type": "code",
   "execution_count": null,
   "id": "subsequent-harvest",
   "metadata": {},
   "outputs": [],
   "source": []
  },
  {
   "cell_type": "code",
   "execution_count": null,
   "id": "aggregate-rebate",
   "metadata": {},
   "outputs": [],
   "source": []
  },
  {
   "cell_type": "code",
   "execution_count": null,
   "id": "hungry-march",
   "metadata": {},
   "outputs": [],
   "source": []
  },
  {
   "cell_type": "code",
   "execution_count": null,
   "id": "cardiac-opinion",
   "metadata": {},
   "outputs": [],
   "source": []
  }
 ],
 "metadata": {
  "kernelspec": {
   "display_name": "Python 3",
   "language": "python",
   "name": "python3"
  },
  "language_info": {
   "codemirror_mode": {
    "name": "ipython",
    "version": 3
   },
   "file_extension": ".py",
   "mimetype": "text/x-python",
   "name": "python",
   "nbconvert_exporter": "python",
   "pygments_lexer": "ipython3",
   "version": "3.9.1"
  }
 },
 "nbformat": 4,
 "nbformat_minor": 5
}
