{
 "cells": [
  {
   "cell_type": "markdown",
   "id": "comparative-interaction",
   "metadata": {},
   "source": [
    "# Steps:"
   ]
  },
  {
   "cell_type": "code",
   "execution_count": 1,
   "id": "facial-prairie",
   "metadata": {},
   "outputs": [],
   "source": [
    "# Implementations:\n",
    "# Function1 that receives lat, lng and returns store_ids\n",
    "# Function2 that receives lat, lng and returns store_ids,latitud,longitude,adress,day[opentime,closetime]"
   ]
  },
  {
   "cell_type": "markdown",
   "id": "pointed-survivor",
   "metadata": {},
   "source": [
    "1º Import the Libreries."
   ]
  },
  {
   "cell_type": "code",
   "execution_count": 7,
   "id": "photographic-counter",
   "metadata": {},
   "outputs": [],
   "source": [
    "import requests\n",
    "import pandas as pd"
   ]
  },
  {
   "cell_type": "markdown",
   "id": "forty-interim",
   "metadata": {},
   "source": [
    "2º Function that receives lat, lng and returns store_ids."
   ]
  },
  {
   "cell_type": "code",
   "execution_count": 8,
   "id": "dental-accordance",
   "metadata": {},
   "outputs": [],
   "source": [
    "def get_id_stores(lat,lng):\n",
    "    \"\"\"\n",
    "    Definition : Funtion that get a list of id stores.\n",
    "    \n",
    "    Input: latitude,longitude\n",
    "    example: 41.65500470094807, -0.8888039716475229\n",
    "    \n",
    "    Output: list of id stores\n",
    "    example: [65, 141, 1224, 9717]\n",
    "    \"\"\"\n",
    "    \n",
    "    loc = {\n",
    "    \"lat\":{lat},\n",
    "    \"lng\":{lng}}   \n",
    "    \n",
    "    stores = \"https://www.zara.com/es/es/stores-locator/search\"\n",
    "    \n",
    "    stores_id = requests.get(stores, params=loc).json()\n",
    "    \n",
    "    lst_id_stores = []\n",
    "    for store in stores_id:\n",
    "        lst_id_stores.append(store[\"id\"])\n",
    "        \n",
    "    return lst_id_stores\n",
    "        "
   ]
  },
  {
   "cell_type": "code",
   "execution_count": 9,
   "id": "described-trailer",
   "metadata": {},
   "outputs": [
    {
     "ename": "JSONDecodeError",
     "evalue": "Expecting value: line 1 column 1 (char 0)",
     "output_type": "error",
     "traceback": [
      "\u001b[0;31m---------------------------------------------------------------------------\u001b[0m",
      "\u001b[0;31mJSONDecodeError\u001b[0m                           Traceback (most recent call last)",
      "\u001b[0;32m<ipython-input-9-24106fd497af>\u001b[0m in \u001b[0;36m<module>\u001b[0;34m\u001b[0m\n\u001b[1;32m      1\u001b[0m \u001b[0;31m# Function testing\u001b[0m\u001b[0;34m\u001b[0m\u001b[0;34m\u001b[0m\u001b[0;34m\u001b[0m\u001b[0m\n\u001b[0;32m----> 2\u001b[0;31m \u001b[0mget_id_stores\u001b[0m\u001b[0;34m(\u001b[0m\u001b[0;36m41.65500470094807\u001b[0m\u001b[0;34m,\u001b[0m \u001b[0;34m-\u001b[0m\u001b[0;36m0.8888039716475229\u001b[0m\u001b[0;34m)\u001b[0m\u001b[0;34m\u001b[0m\u001b[0;34m\u001b[0m\u001b[0m\n\u001b[0m",
      "\u001b[0;32m<ipython-input-8-dd63f269f589>\u001b[0m in \u001b[0;36mget_id_stores\u001b[0;34m(lat, lng)\u001b[0m\n\u001b[1;32m     16\u001b[0m     \u001b[0mstores\u001b[0m \u001b[0;34m=\u001b[0m \u001b[0;34m\"https://www.zara.com/es/es/stores-locator/search\"\u001b[0m\u001b[0;34m\u001b[0m\u001b[0;34m\u001b[0m\u001b[0m\n\u001b[1;32m     17\u001b[0m \u001b[0;34m\u001b[0m\u001b[0m\n\u001b[0;32m---> 18\u001b[0;31m     \u001b[0mstores_id\u001b[0m \u001b[0;34m=\u001b[0m \u001b[0mrequests\u001b[0m\u001b[0;34m.\u001b[0m\u001b[0mget\u001b[0m\u001b[0;34m(\u001b[0m\u001b[0mstores\u001b[0m\u001b[0;34m,\u001b[0m \u001b[0mparams\u001b[0m\u001b[0;34m=\u001b[0m\u001b[0mloc\u001b[0m\u001b[0;34m)\u001b[0m\u001b[0;34m.\u001b[0m\u001b[0mjson\u001b[0m\u001b[0;34m(\u001b[0m\u001b[0;34m)\u001b[0m\u001b[0;34m\u001b[0m\u001b[0;34m\u001b[0m\u001b[0m\n\u001b[0m\u001b[1;32m     19\u001b[0m \u001b[0;34m\u001b[0m\u001b[0m\n\u001b[1;32m     20\u001b[0m     \u001b[0mlst_id_stores\u001b[0m \u001b[0;34m=\u001b[0m \u001b[0;34m[\u001b[0m\u001b[0;34m]\u001b[0m\u001b[0;34m\u001b[0m\u001b[0;34m\u001b[0m\u001b[0m\n",
      "\u001b[0;32m/usr/local/lib/python3.9/site-packages/requests/models.py\u001b[0m in \u001b[0;36mjson\u001b[0;34m(self, **kwargs)\u001b[0m\n\u001b[1;32m    898\u001b[0m                     \u001b[0;31m# used.\u001b[0m\u001b[0;34m\u001b[0m\u001b[0;34m\u001b[0m\u001b[0;34m\u001b[0m\u001b[0m\n\u001b[1;32m    899\u001b[0m                     \u001b[0;32mpass\u001b[0m\u001b[0;34m\u001b[0m\u001b[0;34m\u001b[0m\u001b[0m\n\u001b[0;32m--> 900\u001b[0;31m         \u001b[0;32mreturn\u001b[0m \u001b[0mcomplexjson\u001b[0m\u001b[0;34m.\u001b[0m\u001b[0mloads\u001b[0m\u001b[0;34m(\u001b[0m\u001b[0mself\u001b[0m\u001b[0;34m.\u001b[0m\u001b[0mtext\u001b[0m\u001b[0;34m,\u001b[0m \u001b[0;34m**\u001b[0m\u001b[0mkwargs\u001b[0m\u001b[0;34m)\u001b[0m\u001b[0;34m\u001b[0m\u001b[0;34m\u001b[0m\u001b[0m\n\u001b[0m\u001b[1;32m    901\u001b[0m \u001b[0;34m\u001b[0m\u001b[0m\n\u001b[1;32m    902\u001b[0m     \u001b[0;34m@\u001b[0m\u001b[0mproperty\u001b[0m\u001b[0;34m\u001b[0m\u001b[0;34m\u001b[0m\u001b[0m\n",
      "\u001b[0;32m/usr/local/Cellar/python@3.9/3.9.1_7/Frameworks/Python.framework/Versions/3.9/lib/python3.9/json/__init__.py\u001b[0m in \u001b[0;36mloads\u001b[0;34m(s, cls, object_hook, parse_float, parse_int, parse_constant, object_pairs_hook, **kw)\u001b[0m\n\u001b[1;32m    344\u001b[0m             \u001b[0mparse_int\u001b[0m \u001b[0;32mis\u001b[0m \u001b[0;32mNone\u001b[0m \u001b[0;32mand\u001b[0m \u001b[0mparse_float\u001b[0m \u001b[0;32mis\u001b[0m \u001b[0;32mNone\u001b[0m \u001b[0;32mand\u001b[0m\u001b[0;34m\u001b[0m\u001b[0;34m\u001b[0m\u001b[0m\n\u001b[1;32m    345\u001b[0m             parse_constant is None and object_pairs_hook is None and not kw):\n\u001b[0;32m--> 346\u001b[0;31m         \u001b[0;32mreturn\u001b[0m \u001b[0m_default_decoder\u001b[0m\u001b[0;34m.\u001b[0m\u001b[0mdecode\u001b[0m\u001b[0;34m(\u001b[0m\u001b[0ms\u001b[0m\u001b[0;34m)\u001b[0m\u001b[0;34m\u001b[0m\u001b[0;34m\u001b[0m\u001b[0m\n\u001b[0m\u001b[1;32m    347\u001b[0m     \u001b[0;32mif\u001b[0m \u001b[0mcls\u001b[0m \u001b[0;32mis\u001b[0m \u001b[0;32mNone\u001b[0m\u001b[0;34m:\u001b[0m\u001b[0;34m\u001b[0m\u001b[0;34m\u001b[0m\u001b[0m\n\u001b[1;32m    348\u001b[0m         \u001b[0mcls\u001b[0m \u001b[0;34m=\u001b[0m \u001b[0mJSONDecoder\u001b[0m\u001b[0;34m\u001b[0m\u001b[0;34m\u001b[0m\u001b[0m\n",
      "\u001b[0;32m/usr/local/Cellar/python@3.9/3.9.1_7/Frameworks/Python.framework/Versions/3.9/lib/python3.9/json/decoder.py\u001b[0m in \u001b[0;36mdecode\u001b[0;34m(self, s, _w)\u001b[0m\n\u001b[1;32m    335\u001b[0m \u001b[0;34m\u001b[0m\u001b[0m\n\u001b[1;32m    336\u001b[0m         \"\"\"\n\u001b[0;32m--> 337\u001b[0;31m         \u001b[0mobj\u001b[0m\u001b[0;34m,\u001b[0m \u001b[0mend\u001b[0m \u001b[0;34m=\u001b[0m \u001b[0mself\u001b[0m\u001b[0;34m.\u001b[0m\u001b[0mraw_decode\u001b[0m\u001b[0;34m(\u001b[0m\u001b[0ms\u001b[0m\u001b[0;34m,\u001b[0m \u001b[0midx\u001b[0m\u001b[0;34m=\u001b[0m\u001b[0m_w\u001b[0m\u001b[0;34m(\u001b[0m\u001b[0ms\u001b[0m\u001b[0;34m,\u001b[0m \u001b[0;36m0\u001b[0m\u001b[0;34m)\u001b[0m\u001b[0;34m.\u001b[0m\u001b[0mend\u001b[0m\u001b[0;34m(\u001b[0m\u001b[0;34m)\u001b[0m\u001b[0;34m)\u001b[0m\u001b[0;34m\u001b[0m\u001b[0;34m\u001b[0m\u001b[0m\n\u001b[0m\u001b[1;32m    338\u001b[0m         \u001b[0mend\u001b[0m \u001b[0;34m=\u001b[0m \u001b[0m_w\u001b[0m\u001b[0;34m(\u001b[0m\u001b[0ms\u001b[0m\u001b[0;34m,\u001b[0m \u001b[0mend\u001b[0m\u001b[0;34m)\u001b[0m\u001b[0;34m.\u001b[0m\u001b[0mend\u001b[0m\u001b[0;34m(\u001b[0m\u001b[0;34m)\u001b[0m\u001b[0;34m\u001b[0m\u001b[0;34m\u001b[0m\u001b[0m\n\u001b[1;32m    339\u001b[0m         \u001b[0;32mif\u001b[0m \u001b[0mend\u001b[0m \u001b[0;34m!=\u001b[0m \u001b[0mlen\u001b[0m\u001b[0;34m(\u001b[0m\u001b[0ms\u001b[0m\u001b[0;34m)\u001b[0m\u001b[0;34m:\u001b[0m\u001b[0;34m\u001b[0m\u001b[0;34m\u001b[0m\u001b[0m\n",
      "\u001b[0;32m/usr/local/Cellar/python@3.9/3.9.1_7/Frameworks/Python.framework/Versions/3.9/lib/python3.9/json/decoder.py\u001b[0m in \u001b[0;36mraw_decode\u001b[0;34m(self, s, idx)\u001b[0m\n\u001b[1;32m    353\u001b[0m             \u001b[0mobj\u001b[0m\u001b[0;34m,\u001b[0m \u001b[0mend\u001b[0m \u001b[0;34m=\u001b[0m \u001b[0mself\u001b[0m\u001b[0;34m.\u001b[0m\u001b[0mscan_once\u001b[0m\u001b[0;34m(\u001b[0m\u001b[0ms\u001b[0m\u001b[0;34m,\u001b[0m \u001b[0midx\u001b[0m\u001b[0;34m)\u001b[0m\u001b[0;34m\u001b[0m\u001b[0;34m\u001b[0m\u001b[0m\n\u001b[1;32m    354\u001b[0m         \u001b[0;32mexcept\u001b[0m \u001b[0mStopIteration\u001b[0m \u001b[0;32mas\u001b[0m \u001b[0merr\u001b[0m\u001b[0;34m:\u001b[0m\u001b[0;34m\u001b[0m\u001b[0;34m\u001b[0m\u001b[0m\n\u001b[0;32m--> 355\u001b[0;31m             \u001b[0;32mraise\u001b[0m \u001b[0mJSONDecodeError\u001b[0m\u001b[0;34m(\u001b[0m\u001b[0;34m\"Expecting value\"\u001b[0m\u001b[0;34m,\u001b[0m \u001b[0ms\u001b[0m\u001b[0;34m,\u001b[0m \u001b[0merr\u001b[0m\u001b[0;34m.\u001b[0m\u001b[0mvalue\u001b[0m\u001b[0;34m)\u001b[0m \u001b[0;32mfrom\u001b[0m \u001b[0;32mNone\u001b[0m\u001b[0;34m\u001b[0m\u001b[0;34m\u001b[0m\u001b[0m\n\u001b[0m\u001b[1;32m    356\u001b[0m         \u001b[0;32mreturn\u001b[0m \u001b[0mobj\u001b[0m\u001b[0;34m,\u001b[0m \u001b[0mend\u001b[0m\u001b[0;34m\u001b[0m\u001b[0;34m\u001b[0m\u001b[0m\n",
      "\u001b[0;31mJSONDecodeError\u001b[0m: Expecting value: line 1 column 1 (char 0)"
     ]
    }
   ],
   "source": [
    "# Function testing\n",
    "get_id_stores(41.65500470094807, -0.8888039716475229)"
   ]
  },
  {
   "cell_type": "markdown",
   "id": "nearby-assumption",
   "metadata": {},
   "source": [
    "###  2º:\n",
    "    - id\n",
    "    - latitud\n",
    "    - longitud\n",
    "    - hora abertura tienda\n",
    "    - hora cierre tienda\n",
    "    - calle\n"
   ]
  },
  {
   "cell_type": "code",
   "execution_count": null,
   "id": "solar-virgin",
   "metadata": {},
   "outputs": [],
   "source": [
    "def search_stores(lat,lng):\n",
    "    \n",
    "    \"\"\"\n",
    "    Definition: Funtion that get a list of id_store,latitud,longitude,address,days and schedule\n",
    "    \n",
    "    Input: latitude,longitude\n",
    "    example: 40.416050951604056, -3.7072654155715603\n",
    "    \n",
    "    Output: list of dictionaries with id,latitud,longitud,adrees and day:[opening time and closing time]\n",
    "    example: [{'id': 92,'latitude': 40.415669,'longitude': -3.703315,'address': 'CALLE CARRETAS, 6',\n",
    "              'days': [{'L': ['10:00', '22:00'],\n",
    "               'M': ['10:00', '22:00'],\n",
    "               'X': ['10:00', '22:00'],\n",
    "               'J': ['10:00', '22:00'],\n",
    "               'V': ['10:00', '22:00'],\n",
    "               'S': ['10:00', '22:00'],\n",
    "               'D': ['11:00', '21:30']}}]\n",
    "    \"\"\"\n",
    "    \n",
    "    loc = {\n",
    "    \"lat\":{lat},\n",
    "    \"lng\":{lng}}   \n",
    "    \n",
    "    stores = \"https://www.zara.com/es/es/stores-locator/search\"\n",
    "    \n",
    "    stores_id = requests.get(stores, params=loc).json()\n",
    "\n",
    "    lsts_store= []\n",
    "\n",
    "    for i in range(0,len(stores_id)):\n",
    "    \n",
    "        id_ = stores_id[i][\"id\"]\n",
    "        latitud = stores_id[i][\"latitude\"]\n",
    "        longitude = stores_id[i][\"longitude\"]\n",
    "        address = stores_id[i][\"addressLines\"][0]\n",
    "        days = stores_id[i][\"openingHours\"]\n",
    "\n",
    "        week_days_dic = {1:\"L\", 2:\"M\", 3:\"X\", 4:\"J\", 5:\"V\", 6:\"S\", 7:\"D\"}\n",
    "        day_hour = {}\n",
    "\n",
    "        for d in days:\n",
    "            try:\n",
    "                day = week_days_dic[d[\"weekDay\"]]\n",
    "                open_ = d[\"openingHoursInterval\"][0][\"openTime\"]\n",
    "                close = d[\"openingHoursInterval\"][0][\"closeTime\"]\n",
    "\n",
    "                day_hour[day]=[open_,close]\n",
    "\n",
    "            except:\n",
    "                pass\n",
    "\n",
    "        dir_store = {\"id\": id_,\"latitude\":latitud ,\"longitude\": longitude, \"address\":address, \"days\": day_hour}\n",
    "        lsts_store.append(dir_store)\n",
    "\n",
    "    return lsts_store\n"
   ]
  },
  {
   "cell_type": "code",
   "execution_count": null,
   "id": "decreased-trick",
   "metadata": {},
   "outputs": [],
   "source": [
    "# Function testing\n",
    "stores = search_stores(40.416050951604056, -3.7072654155715603)"
   ]
  },
  {
   "cell_type": "code",
   "execution_count": null,
   "id": "radical-sequence",
   "metadata": {},
   "outputs": [],
   "source": [
    "pd.DataFrame(stores)"
   ]
  },
  {
   "cell_type": "code",
   "execution_count": null,
   "id": "basic-banner",
   "metadata": {},
   "outputs": [],
   "source": []
  },
  {
   "cell_type": "code",
   "execution_count": null,
   "id": "automated-nevada",
   "metadata": {},
   "outputs": [],
   "source": []
  }
 ],
 "metadata": {
  "kernelspec": {
   "display_name": "Python 3",
   "language": "python",
   "name": "python3"
  },
  "language_info": {
   "codemirror_mode": {
    "name": "ipython",
    "version": 3
   },
   "file_extension": ".py",
   "mimetype": "text/x-python",
   "name": "python",
   "nbconvert_exporter": "python",
   "pygments_lexer": "ipython3",
   "version": "3.9.1"
  }
 },
 "nbformat": 4,
 "nbformat_minor": 5
}
